{
 "cells": [
  {
   "cell_type": "markdown",
   "id": "f8ddc10b",
   "metadata": {},
   "source": [
    "# Extract IL features\n"
   ]
  },
  {
   "cell_type": "code",
   "execution_count": 1,
   "id": "f99f581c",
   "metadata": {},
   "outputs": [],
   "source": [
    "import os\n",
    "import polars as pl"
   ]
  },
  {
   "cell_type": "code",
   "execution_count": 2,
   "id": "f04ec508",
   "metadata": {},
   "outputs": [
    {
     "data": {
      "text/html": [
       "<div><style>\n",
       ".dataframe > thead > tr,\n",
       ".dataframe > tbody > tr {\n",
       "  text-align: right;\n",
       "  white-space: pre-wrap;\n",
       "}\n",
       "</style>\n",
       "<small>shape: (108, 767)</small><table border=\"1\" class=\"dataframe\"><thead><tr><th>user_id</th><th>platform_id</th><th>HL_!_mean</th><th>HL_!_median</th><th>HL_!_q1</th><th>HL_!_q3</th><th>HL_!_std</th><th>HL_&quot;&quot;&quot;&quot;_mean</th><th>HL_&quot;&quot;&quot;&quot;_median</th><th>HL_&quot;&quot;&quot;&quot;_q1</th><th>HL_&quot;&quot;&quot;&quot;_q3</th><th>HL_&quot;&quot;&quot;&quot;_std</th><th>HL_&quot;&quot;_mean</th><th>HL_&quot;&quot;_median</th><th>HL_&quot;&quot;_q1</th><th>HL_&quot;&quot;_q3</th><th>HL_&quot;&quot;_std</th><th>HL_&quot;&quot;its&quot;&quot;_mean</th><th>HL_&quot;&quot;its&quot;&quot;_median</th><th>HL_&quot;&quot;its&quot;&quot;_q1</th><th>HL_&quot;&quot;its&quot;&quot;_q3</th><th>HL_&quot;&quot;its&quot;&quot;_std</th><th>HL_&quot;&quot;wouldve&quot;&quot;_mean</th><th>HL_&quot;&quot;wouldve&quot;&quot;_median</th><th>HL_&quot;&quot;wouldve&quot;&quot;_q1</th><th>HL_&quot;&quot;wouldve&quot;&quot;_q3</th><th>HL_&quot;&quot;wouldve&quot;&quot;_std</th><th>HL_%_mean</th><th>HL_%_median</th><th>HL_%_q1</th><th>HL_%_q3</th><th>HL_%_std</th><th>HL_&amp;_mean</th><th>HL_&amp;_median</th><th>HL_&amp;_q1</th><th>HL_&amp;_q3</th><th>HL_&amp;_std</th><th>&hellip;</th><th>IL_Key.spacet_q3</th><th>IL_Key.spacet_std</th><th>IL_dKey.space_mean</th><th>IL_dKey.space_median</th><th>IL_dKey.space_q1</th><th>IL_dKey.space_q3</th><th>IL_dKey.space_std</th><th>IL_eKey.space_mean</th><th>IL_eKey.space_median</th><th>IL_eKey.space_q1</th><th>IL_eKey.space_q3</th><th>IL_eKey.space_std</th><th>IL_he_mean</th><th>IL_he_median</th><th>IL_he_q1</th><th>IL_he_q3</th><th>IL_he_std</th><th>IL_in_mean</th><th>IL_in_median</th><th>IL_in_q1</th><th>IL_in_q3</th><th>IL_in_std</th><th>IL_sKey.space_mean</th><th>IL_sKey.space_median</th><th>IL_sKey.space_q1</th><th>IL_sKey.space_q3</th><th>IL_sKey.space_std</th><th>IL_tKey.space_mean</th><th>IL_tKey.space_median</th><th>IL_tKey.space_q1</th><th>IL_tKey.space_q3</th><th>IL_tKey.space_std</th><th>IL_th_mean</th><th>IL_th_median</th><th>IL_th_q1</th><th>IL_th_q3</th><th>IL_th_std</th></tr><tr><td>i64</td><td>i64</td><td>f64</td><td>f64</td><td>f64</td><td>f64</td><td>f64</td><td>f64</td><td>f64</td><td>f64</td><td>f64</td><td>f64</td><td>f64</td><td>f64</td><td>f64</td><td>f64</td><td>f64</td><td>f64</td><td>f64</td><td>f64</td><td>f64</td><td>f64</td><td>f64</td><td>f64</td><td>f64</td><td>f64</td><td>f64</td><td>f64</td><td>f64</td><td>f64</td><td>f64</td><td>f64</td><td>f64</td><td>f64</td><td>f64</td><td>f64</td><td>f64</td><td>&hellip;</td><td>f64</td><td>f64</td><td>f64</td><td>f64</td><td>f64</td><td>f64</td><td>f64</td><td>f64</td><td>f64</td><td>f64</td><td>f64</td><td>f64</td><td>f64</td><td>f64</td><td>f64</td><td>f64</td><td>f64</td><td>f64</td><td>f64</td><td>f64</td><td>f64</td><td>f64</td><td>f64</td><td>f64</td><td>f64</td><td>f64</td><td>f64</td><td>f64</td><td>f64</td><td>f64</td><td>f64</td><td>f64</td><td>f64</td><td>f64</td><td>f64</td><td>f64</td><td>f64</td></tr></thead><tbody><tr><td>1054</td><td>3</td><td>0.0</td><td>0.0</td><td>0.0</td><td>0.0</td><td>0.0</td><td>0.0</td><td>0.0</td><td>0.0</td><td>0.0</td><td>0.0</td><td>0.0</td><td>0.0</td><td>0.0</td><td>0.0</td><td>0.0</td><td>0.0</td><td>0.0</td><td>0.0</td><td>0.0</td><td>0.0</td><td>0.0</td><td>0.0</td><td>0.0</td><td>0.0</td><td>0.0</td><td>0.0</td><td>0.0</td><td>0.0</td><td>0.0</td><td>0.0</td><td>0.0</td><td>0.0</td><td>0.0</td><td>0.0</td><td>0.0</td><td>&hellip;</td><td>148.101</td><td>599.18967</td><td>19.910444</td><td>18.2655</td><td>0.876</td><td>36.877</td><td>30.551565</td><td>38.730547</td><td>16.4115</td><td>0.89</td><td>34.913</td><td>124.940589</td><td>53.613129</td><td>34.665</td><td>11.604</td><td>65.379</td><td>71.70731</td><td>43.158303</td><td>36.839</td><td>-7.417</td><td>62.556</td><td>69.606264</td><td>40.451651</td><td>3.716</td><td>-23.296</td><td>28.167</td><td>183.215757</td><td>49.305879</td><td>14.778</td><td>1.303</td><td>47.333</td><td>93.815671</td><td>27.971242</td><td>20.945</td><td>-0.849</td><td>44.784</td><td>57.544564</td></tr><tr><td>1062</td><td>3</td><td>0.0</td><td>0.0</td><td>0.0</td><td>0.0</td><td>0.0</td><td>0.0</td><td>0.0</td><td>0.0</td><td>0.0</td><td>0.0</td><td>0.0</td><td>0.0</td><td>0.0</td><td>0.0</td><td>0.0</td><td>0.0</td><td>0.0</td><td>0.0</td><td>0.0</td><td>0.0</td><td>0.0</td><td>0.0</td><td>0.0</td><td>0.0</td><td>0.0</td><td>0.0</td><td>0.0</td><td>0.0</td><td>0.0</td><td>0.0</td><td>0.0</td><td>0.0</td><td>0.0</td><td>0.0</td><td>0.0</td><td>&hellip;</td><td>366.019</td><td>736.220441</td><td>236.767458</td><td>99.427</td><td>58.675</td><td>199.486</td><td>486.999896</td><td>153.168777</td><td>89.069</td><td>52.743</td><td>150.65</td><td>247.304042</td><td>153.675618</td><td>79.425</td><td>50.371</td><td>184.811</td><td>195.51237</td><td>195.54375</td><td>161.597</td><td>150.347</td><td>174.692</td><td>141.124145</td><td>172.894803</td><td>70.3245</td><td>47.948</td><td>104.046</td><td>374.040367</td><td>637.650362</td><td>182.278</td><td>156.784</td><td>266.533</td><td>3257.729133</td><td>135.339154</td><td>130.0155</td><td>123.363</td><td>150.372</td><td>41.455118</td></tr><tr><td>1043</td><td>1</td><td>0.0</td><td>0.0</td><td>0.0</td><td>0.0</td><td>0.0</td><td>76.2512</td><td>77.528</td><td>74.774</td><td>82.809</td><td>7.372975</td><td>64.0464</td><td>64.353</td><td>64.052</td><td>70.05</td><td>7.482447</td><td>0.0</td><td>0.0</td><td>0.0</td><td>0.0</td><td>0.0</td><td>0.0</td><td>0.0</td><td>0.0</td><td>0.0</td><td>0.0</td><td>0.0</td><td>0.0</td><td>0.0</td><td>0.0</td><td>0.0</td><td>0.0</td><td>0.0</td><td>0.0</td><td>0.0</td><td>0.0</td><td>&hellip;</td><td>607.34</td><td>954.011421</td><td>69.859515</td><td>52.801</td><td>39.178</td><td>65.079</td><td>62.097853</td><td>104.060894</td><td>56.454</td><td>41.645</td><td>79.068</td><td>189.298869</td><td>93.225933</td><td>65.9105</td><td>44.151</td><td>118.063</td><td>91.862657</td><td>104.603038</td><td>94.3185</td><td>85.895</td><td>119.291</td><td>25.207111</td><td>72.963771</td><td>49.911</td><td>38.608</td><td>70.497</td><td>90.817456</td><td>131.47347</td><td>99.429</td><td>54.177</td><td>139.164</td><td>134.204826</td><td>112.356167</td><td>104.891</td><td>90.529</td><td>122.544</td><td>72.044077</td></tr><tr><td>1051</td><td>2</td><td>0.0</td><td>0.0</td><td>0.0</td><td>0.0</td><td>0.0</td><td>0.0</td><td>0.0</td><td>0.0</td><td>0.0</td><td>0.0</td><td>134.748</td><td>134.748</td><td>134.748</td><td>134.748</td><td>0.0</td><td>0.0</td><td>0.0</td><td>0.0</td><td>0.0</td><td>0.0</td><td>0.0</td><td>0.0</td><td>0.0</td><td>0.0</td><td>0.0</td><td>0.0</td><td>0.0</td><td>0.0</td><td>0.0</td><td>0.0</td><td>0.0</td><td>0.0</td><td>0.0</td><td>0.0</td><td>0.0</td><td>&hellip;</td><td>1057.214</td><td>841.004773</td><td>35.448667</td><td>28.388</td><td>28.388</td><td>100.101</td><td>61.4271</td><td>-21.73925</td><td>-21.604</td><td>-37.422</td><td>-8.043</td><td>30.527895</td><td>47.1635</td><td>56.487</td><td>28.171</td><td>63.064</td><td>30.856862</td><td>172.0125</td><td>172.0125</td><td>146.58</td><td>197.445</td><td>35.966986</td><td>-6.7885</td><td>-10.4455</td><td>-18.712</td><td>9.776</td><td>24.494082</td><td>19.798667</td><td>0.479</td><td>-23.028</td><td>44.88</td><td>62.84628</td><td>128.78175</td><td>95.0515</td><td>54.246</td><td>117.41</td><td>165.037097</td></tr><tr><td>1013</td><td>1</td><td>0.0</td><td>0.0</td><td>0.0</td><td>0.0</td><td>0.0</td><td>81.025</td><td>81.025</td><td>79.174</td><td>82.876</td><td>2.617709</td><td>108.185</td><td>108.185</td><td>108.185</td><td>108.185</td><td>0.0</td><td>0.0</td><td>0.0</td><td>0.0</td><td>0.0</td><td>0.0</td><td>0.0</td><td>0.0</td><td>0.0</td><td>0.0</td><td>0.0</td><td>0.0</td><td>0.0</td><td>0.0</td><td>0.0</td><td>0.0</td><td>0.0</td><td>0.0</td><td>0.0</td><td>0.0</td><td>0.0</td><td>&hellip;</td><td>154.936</td><td>206.032437</td><td>127.506929</td><td>72.4295</td><td>55.424</td><td>115.748</td><td>148.451868</td><td>48.910831</td><td>39.576</td><td>19.124</td><td>53.817</td><td>61.241793</td><td>10.213556</td><td>-3.869</td><td>-36.702</td><td>46.752</td><td>70.523212</td><td>116.974935</td><td>117.168</td><td>107.782</td><td>127.137</td><td>15.021014</td><td>35.104383</td><td>28.823</td><td>7.876</td><td>50.781</td><td>41.088696</td><td>56.846983</td><td>59.0675</td><td>38.772</td><td>68.538</td><td>31.22018</td><td>75.791333</td><td>102.826</td><td>12.517</td><td>122.604</td><td>59.865846</td></tr><tr><td>&hellip;</td><td>&hellip;</td><td>&hellip;</td><td>&hellip;</td><td>&hellip;</td><td>&hellip;</td><td>&hellip;</td><td>&hellip;</td><td>&hellip;</td><td>&hellip;</td><td>&hellip;</td><td>&hellip;</td><td>&hellip;</td><td>&hellip;</td><td>&hellip;</td><td>&hellip;</td><td>&hellip;</td><td>&hellip;</td><td>&hellip;</td><td>&hellip;</td><td>&hellip;</td><td>&hellip;</td><td>&hellip;</td><td>&hellip;</td><td>&hellip;</td><td>&hellip;</td><td>&hellip;</td><td>&hellip;</td><td>&hellip;</td><td>&hellip;</td><td>&hellip;</td><td>&hellip;</td><td>&hellip;</td><td>&hellip;</td><td>&hellip;</td><td>&hellip;</td><td>&hellip;</td><td>&hellip;</td><td>&hellip;</td><td>&hellip;</td><td>&hellip;</td><td>&hellip;</td><td>&hellip;</td><td>&hellip;</td><td>&hellip;</td><td>&hellip;</td><td>&hellip;</td><td>&hellip;</td><td>&hellip;</td><td>&hellip;</td><td>&hellip;</td><td>&hellip;</td><td>&hellip;</td><td>&hellip;</td><td>&hellip;</td><td>&hellip;</td><td>&hellip;</td><td>&hellip;</td><td>&hellip;</td><td>&hellip;</td><td>&hellip;</td><td>&hellip;</td><td>&hellip;</td><td>&hellip;</td><td>&hellip;</td><td>&hellip;</td><td>&hellip;</td><td>&hellip;</td><td>&hellip;</td><td>&hellip;</td><td>&hellip;</td><td>&hellip;</td><td>&hellip;</td><td>&hellip;</td><td>&hellip;</td></tr><tr><td>1005</td><td>1</td><td>84.407818</td><td>80.111</td><td>72.154</td><td>111.848</td><td>27.360151</td><td>96.177667</td><td>92.6675</td><td>79.926</td><td>111.742</td><td>21.13742</td><td>118.586</td><td>115.9235</td><td>111.783</td><td>119.98</td><td>23.381584</td><td>0.0</td><td>0.0</td><td>0.0</td><td>0.0</td><td>0.0</td><td>0.0</td><td>0.0</td><td>0.0</td><td>0.0</td><td>0.0</td><td>0.0</td><td>0.0</td><td>0.0</td><td>0.0</td><td>0.0</td><td>0.0</td><td>0.0</td><td>0.0</td><td>0.0</td><td>0.0</td><td>&hellip;</td><td>15.838</td><td>198.471062</td><td>139.927682</td><td>-35.2915</td><td>-56.141</td><td>-7.452</td><td>788.856818</td><td>-33.893</td><td>-42.006</td><td>-59.014</td><td>-31.74</td><td>58.332693</td><td>37.841875</td><td>19.9045</td><td>7.795</td><td>42.097</td><td>92.419762</td><td>54.598784</td><td>55.923</td><td>40.129</td><td>64.373</td><td>22.153259</td><td>-28.101</td><td>-43.979</td><td>-56.032</td><td>-31.591</td><td>49.601632</td><td>0.118708</td><td>-15.547</td><td>-37.125</td><td>7.582</td><td>80.482006</td><td>4.120043</td><td>-0.674</td><td>-16.598</td><td>16.213</td><td>52.355752</td></tr><tr><td>1064</td><td>3</td><td>0.0</td><td>0.0</td><td>0.0</td><td>0.0</td><td>0.0</td><td>62.4178</td><td>60.909</td><td>55.562</td><td>72.203</td><td>10.010214</td><td>73.901167</td><td>80.8585</td><td>59.001</td><td>90.609</td><td>21.05043</td><td>0.0</td><td>0.0</td><td>0.0</td><td>0.0</td><td>0.0</td><td>0.0</td><td>0.0</td><td>0.0</td><td>0.0</td><td>0.0</td><td>0.0</td><td>0.0</td><td>0.0</td><td>0.0</td><td>0.0</td><td>0.0</td><td>0.0</td><td>0.0</td><td>0.0</td><td>0.0</td><td>&hellip;</td><td>1260.922</td><td>849.766819</td><td>728.744708</td><td>73.126</td><td>31.118</td><td>241.504</td><td>2579.576157</td><td>913.349509</td><td>112.364</td><td>72.366</td><td>208.739</td><td>3976.371761</td><td>-0.785422</td><td>-24.736</td><td>-38.766</td><td>-0.981</td><td>97.503161</td><td>144.742014</td><td>139.666</td><td>132.967</td><td>150.586</td><td>24.643057</td><td>516.418942</td><td>149.796</td><td>88.621</td><td>771.541</td><td>838.198172</td><td>301.518017</td><td>180.3125</td><td>162.398</td><td>208.821</td><td>371.067696</td><td>102.4024</td><td>91.402</td><td>84.606</td><td>99.823</td><td>84.122388</td></tr><tr><td>1045</td><td>1</td><td>0.0</td><td>0.0</td><td>0.0</td><td>0.0</td><td>0.0</td><td>82.397875</td><td>72.3495</td><td>71.062</td><td>76.064</td><td>22.74794</td><td>67.481</td><td>67.481</td><td>66.475</td><td>68.487</td><td>1.422699</td><td>0.0</td><td>0.0</td><td>0.0</td><td>0.0</td><td>0.0</td><td>0.0</td><td>0.0</td><td>0.0</td><td>0.0</td><td>0.0</td><td>0.0</td><td>0.0</td><td>0.0</td><td>0.0</td><td>0.0</td><td>0.0</td><td>0.0</td><td>0.0</td><td>0.0</td><td>0.0</td><td>&hellip;</td><td>222.361</td><td>1391.351285</td><td>78.248017</td><td>51.495</td><td>26.966</td><td>79.813</td><td>104.766162</td><td>99.899116</td><td>68.322</td><td>45.714</td><td>86.446</td><td>137.930349</td><td>69.464102</td><td>54.707</td><td>36.572</td><td>81.086</td><td>61.976758</td><td>201.342233</td><td>156.7375</td><td>141.654</td><td>174.9</td><td>131.688835</td><td>126.714327</td><td>62.043</td><td>40.744</td><td>86.545</td><td>355.135443</td><td>156.838904</td><td>171.712</td><td>101.674</td><td>189.9</td><td>71.594546</td><td>121.621277</td><td>119.989</td><td>80.855</td><td>142.096</td><td>73.139723</td></tr><tr><td>1005</td><td>3</td><td>96.9385</td><td>90.023</td><td>80.468</td><td>99.578</td><td>22.534403</td><td>98.0678</td><td>95.96</td><td>95.93</td><td>96.291</td><td>14.519268</td><td>110.114667</td><td>107.9005</td><td>103.722</td><td>128.247</td><td>16.669831</td><td>0.0</td><td>0.0</td><td>0.0</td><td>0.0</td><td>0.0</td><td>0.0</td><td>0.0</td><td>0.0</td><td>0.0</td><td>0.0</td><td>0.0</td><td>0.0</td><td>0.0</td><td>0.0</td><td>0.0</td><td>0.0</td><td>0.0</td><td>0.0</td><td>0.0</td><td>0.0</td><td>&hellip;</td><td>15.964</td><td>187.344538</td><td>-7.363</td><td>-31.871</td><td>-40.233</td><td>-15.165</td><td>79.537777</td><td>14.899761</td><td>-33.3495</td><td>-47.815</td><td>-23.457</td><td>326.577692</td><td>23.851966</td><td>16.012</td><td>-0.795</td><td>32.334</td><td>53.801241</td><td>52.192133</td><td>56.131</td><td>48.127</td><td>64.014</td><td>19.154188</td><td>361.564278</td><td>-48.0995</td><td>-57.54</td><td>-32.292</td><td>1732.465644</td><td>1.99331</td><td>-7.84</td><td>-31.736</td><td>16.045</td><td>45.678636</td><td>2.7323125</td><td>-7.408</td><td>-23.842</td><td>32.341</td><td>31.120326</td></tr><tr><td>1063</td><td>3</td><td>0.0</td><td>0.0</td><td>0.0</td><td>0.0</td><td>0.0</td><td>69.064167</td><td>64.1045</td><td>62.489</td><td>81.189</td><td>10.448514</td><td>71.343833</td><td>65.844</td><td>60.164</td><td>78.772</td><td>18.955859</td><td>0.0</td><td>0.0</td><td>0.0</td><td>0.0</td><td>0.0</td><td>0.0</td><td>0.0</td><td>0.0</td><td>0.0</td><td>0.0</td><td>0.0</td><td>0.0</td><td>0.0</td><td>0.0</td><td>0.0</td><td>0.0</td><td>0.0</td><td>0.0</td><td>0.0</td><td>0.0</td><td>&hellip;</td><td>542.852</td><td>753.109447</td><td>195.055111</td><td>53.427</td><td>32.317</td><td>76.659</td><td>588.165249</td><td>107.54</td><td>25.2325</td><td>13.747</td><td>44.07</td><td>295.65772</td><td>51.496833</td><td>39.5835</td><td>30.994</td><td>57.146</td><td>35.333176</td><td>194.405393</td><td>113.539</td><td>101.482</td><td>141.393</td><td>236.273511</td><td>99.059692</td><td>49.573</td><td>22.727</td><td>80.298</td><td>247.844205</td><td>111.359636</td><td>21.1745</td><td>-43.22</td><td>67.873</td><td>398.896131</td><td>54.14</td><td>49.248</td><td>34.636</td><td>64.64</td><td>30.207687</td></tr></tbody></table></div>"
      ],
      "text/plain": [
       "shape: (108, 767)\n",
       "┌─────────┬────────────┬───────────┬────────────┬───┬────────────┬──────────┬──────────┬───────────┐\n",
       "│ user_id ┆ platform_i ┆ HL_!_mean ┆ HL_!_media ┆ … ┆ IL_th_medi ┆ IL_th_q1 ┆ IL_th_q3 ┆ IL_th_std │\n",
       "│ ---     ┆ d          ┆ ---       ┆ n          ┆   ┆ an         ┆ ---      ┆ ---      ┆ ---       │\n",
       "│ i64     ┆ ---        ┆ f64       ┆ ---        ┆   ┆ ---        ┆ f64      ┆ f64      ┆ f64       │\n",
       "│         ┆ i64        ┆           ┆ f64        ┆   ┆ f64        ┆          ┆          ┆           │\n",
       "╞═════════╪════════════╪═══════════╪════════════╪═══╪════════════╪══════════╪══════════╪═══════════╡\n",
       "│ 1054    ┆ 3          ┆ 0.0       ┆ 0.0        ┆ … ┆ 20.945     ┆ -0.849   ┆ 44.784   ┆ 57.544564 │\n",
       "│ 1062    ┆ 3          ┆ 0.0       ┆ 0.0        ┆ … ┆ 130.0155   ┆ 123.363  ┆ 150.372  ┆ 41.455118 │\n",
       "│ 1043    ┆ 1          ┆ 0.0       ┆ 0.0        ┆ … ┆ 104.891    ┆ 90.529   ┆ 122.544  ┆ 72.044077 │\n",
       "│ 1051    ┆ 2          ┆ 0.0       ┆ 0.0        ┆ … ┆ 95.0515    ┆ 54.246   ┆ 117.41   ┆ 165.03709 │\n",
       "│         ┆            ┆           ┆            ┆   ┆            ┆          ┆          ┆ 7         │\n",
       "│ 1013    ┆ 1          ┆ 0.0       ┆ 0.0        ┆ … ┆ 102.826    ┆ 12.517   ┆ 122.604  ┆ 59.865846 │\n",
       "│ …       ┆ …          ┆ …         ┆ …          ┆ … ┆ …          ┆ …        ┆ …        ┆ …         │\n",
       "│ 1005    ┆ 1          ┆ 84.407818 ┆ 80.111     ┆ … ┆ -0.674     ┆ -16.598  ┆ 16.213   ┆ 52.355752 │\n",
       "│ 1064    ┆ 3          ┆ 0.0       ┆ 0.0        ┆ … ┆ 91.402     ┆ 84.606   ┆ 99.823   ┆ 84.122388 │\n",
       "│ 1045    ┆ 1          ┆ 0.0       ┆ 0.0        ┆ … ┆ 119.989    ┆ 80.855   ┆ 142.096  ┆ 73.139723 │\n",
       "│ 1005    ┆ 3          ┆ 96.9385   ┆ 90.023     ┆ … ┆ -7.408     ┆ -23.842  ┆ 32.341   ┆ 31.120326 │\n",
       "│ 1063    ┆ 3          ┆ 0.0       ┆ 0.0        ┆ … ┆ 49.248     ┆ 34.636   ┆ 64.64    ┆ 30.207687 │\n",
       "└─────────┴────────────┴───────────┴────────────┴───┴────────────┴──────────┴──────────┴───────────┘"
      ]
     },
     "execution_count": 2,
     "metadata": {},
     "output_type": "execute_result"
    }
   ],
   "source": [
    "filepath = \"ml_experiments/imputation_global/dataset_1_full.csv\"\n",
    "df = pl.read_csv(filepath, has_header=True)\n",
    "df"
   ]
  },
  {
   "cell_type": "code",
   "execution_count": 3,
   "id": "dcb84121",
   "metadata": {},
   "outputs": [
    {
     "data": {
      "text/html": [
       "<div><style>\n",
       ".dataframe > thead > tr,\n",
       ".dataframe > tbody > tr {\n",
       "  text-align: right;\n",
       "  white-space: pre-wrap;\n",
       "}\n",
       "</style>\n",
       "<small>shape: (108, 50)</small><table border=\"1\" class=\"dataframe\"><thead><tr><th>IL_Key.backspaceKey.backspace_mean</th><th>IL_Key.backspaceKey.backspace_median</th><th>IL_Key.backspaceKey.backspace_q1</th><th>IL_Key.backspaceKey.backspace_q3</th><th>IL_Key.backspaceKey.backspace_std</th><th>IL_Key.spacea_mean</th><th>IL_Key.spacea_median</th><th>IL_Key.spacea_q1</th><th>IL_Key.spacea_q3</th><th>IL_Key.spacea_std</th><th>IL_Key.spacet_mean</th><th>IL_Key.spacet_median</th><th>IL_Key.spacet_q1</th><th>IL_Key.spacet_q3</th><th>IL_Key.spacet_std</th><th>IL_dKey.space_mean</th><th>IL_dKey.space_median</th><th>IL_dKey.space_q1</th><th>IL_dKey.space_q3</th><th>IL_dKey.space_std</th><th>IL_eKey.space_mean</th><th>IL_eKey.space_median</th><th>IL_eKey.space_q1</th><th>IL_eKey.space_q3</th><th>IL_eKey.space_std</th><th>IL_he_mean</th><th>IL_he_median</th><th>IL_he_q1</th><th>IL_he_q3</th><th>IL_he_std</th><th>IL_in_mean</th><th>IL_in_median</th><th>IL_in_q1</th><th>IL_in_q3</th><th>IL_in_std</th><th>IL_sKey.space_mean</th><th>IL_sKey.space_median</th><th>IL_sKey.space_q1</th><th>IL_sKey.space_q3</th><th>IL_sKey.space_std</th><th>IL_tKey.space_mean</th><th>IL_tKey.space_median</th><th>IL_tKey.space_q1</th><th>IL_tKey.space_q3</th><th>IL_tKey.space_std</th><th>IL_th_mean</th><th>IL_th_median</th><th>IL_th_q1</th><th>IL_th_q3</th><th>IL_th_std</th></tr><tr><td>f64</td><td>f64</td><td>f64</td><td>f64</td><td>f64</td><td>f64</td><td>f64</td><td>f64</td><td>f64</td><td>f64</td><td>f64</td><td>f64</td><td>f64</td><td>f64</td><td>f64</td><td>f64</td><td>f64</td><td>f64</td><td>f64</td><td>f64</td><td>f64</td><td>f64</td><td>f64</td><td>f64</td><td>f64</td><td>f64</td><td>f64</td><td>f64</td><td>f64</td><td>f64</td><td>f64</td><td>f64</td><td>f64</td><td>f64</td><td>f64</td><td>f64</td><td>f64</td><td>f64</td><td>f64</td><td>f64</td><td>f64</td><td>f64</td><td>f64</td><td>f64</td><td>f64</td><td>f64</td><td>f64</td><td>f64</td><td>f64</td><td>f64</td></tr></thead><tbody><tr><td>678.895937</td><td>96.922</td><td>83.359</td><td>129.306</td><td>2263.088354</td><td>663.396417</td><td>279.261</td><td>144.553</td><td>751.792</td><td>826.418657</td><td>285.975186</td><td>74.898</td><td>50.948</td><td>148.101</td><td>599.18967</td><td>19.910444</td><td>18.2655</td><td>0.876</td><td>36.877</td><td>30.551565</td><td>38.730547</td><td>16.4115</td><td>0.89</td><td>34.913</td><td>124.940589</td><td>53.613129</td><td>34.665</td><td>11.604</td><td>65.379</td><td>71.70731</td><td>43.158303</td><td>36.839</td><td>-7.417</td><td>62.556</td><td>69.606264</td><td>40.451651</td><td>3.716</td><td>-23.296</td><td>28.167</td><td>183.215757</td><td>49.305879</td><td>14.778</td><td>1.303</td><td>47.333</td><td>93.815671</td><td>27.971242</td><td>20.945</td><td>-0.849</td><td>44.784</td><td>57.544564</td></tr><tr><td>186.129254</td><td>127.788</td><td>110.918</td><td>200.817</td><td>142.53756</td><td>344.615333</td><td>143.024</td><td>115.126</td><td>323.403</td><td>612.782809</td><td>439.800459</td><td>233.901</td><td>162.811</td><td>366.019</td><td>736.220441</td><td>236.767458</td><td>99.427</td><td>58.675</td><td>199.486</td><td>486.999896</td><td>153.168777</td><td>89.069</td><td>52.743</td><td>150.65</td><td>247.304042</td><td>153.675618</td><td>79.425</td><td>50.371</td><td>184.811</td><td>195.51237</td><td>195.54375</td><td>161.597</td><td>150.347</td><td>174.692</td><td>141.124145</td><td>172.894803</td><td>70.3245</td><td>47.948</td><td>104.046</td><td>374.040367</td><td>637.650362</td><td>182.278</td><td>156.784</td><td>266.533</td><td>3257.729133</td><td>135.339154</td><td>130.0155</td><td>123.363</td><td>150.372</td><td>41.455118</td></tr><tr><td>200.852731</td><td>105.9635</td><td>91.559</td><td>183.562</td><td>428.612087</td><td>752.663767</td><td>137.627</td><td>57.039</td><td>321.784</td><td>2234.59125</td><td>648.701479</td><td>303.244</td><td>201.228</td><td>607.34</td><td>954.011421</td><td>69.859515</td><td>52.801</td><td>39.178</td><td>65.079</td><td>62.097853</td><td>104.060894</td><td>56.454</td><td>41.645</td><td>79.068</td><td>189.298869</td><td>93.225933</td><td>65.9105</td><td>44.151</td><td>118.063</td><td>91.862657</td><td>104.603038</td><td>94.3185</td><td>85.895</td><td>119.291</td><td>25.207111</td><td>72.963771</td><td>49.911</td><td>38.608</td><td>70.497</td><td>90.817456</td><td>131.47347</td><td>99.429</td><td>54.177</td><td>139.164</td><td>134.204826</td><td>112.356167</td><td>104.891</td><td>90.529</td><td>122.544</td><td>72.044077</td></tr><tr><td>170.687699</td><td>96.634</td><td>87.781</td><td>128.44</td><td>253.373449</td><td>1732.991</td><td>736.734</td><td>438.438</td><td>3581.479</td><td>1967.80947</td><td>857.221125</td><td>563.2485</td><td>289.557</td><td>1057.214</td><td>841.004773</td><td>35.448667</td><td>28.388</td><td>28.388</td><td>100.101</td><td>61.4271</td><td>-21.73925</td><td>-21.604</td><td>-37.422</td><td>-8.043</td><td>30.527895</td><td>47.1635</td><td>56.487</td><td>28.171</td><td>63.064</td><td>30.856862</td><td>172.0125</td><td>172.0125</td><td>146.58</td><td>197.445</td><td>35.966986</td><td>-6.7885</td><td>-10.4455</td><td>-18.712</td><td>9.776</td><td>24.494082</td><td>19.798667</td><td>0.479</td><td>-23.028</td><td>44.88</td><td>62.84628</td><td>128.78175</td><td>95.0515</td><td>54.246</td><td>117.41</td><td>165.037097</td></tr><tr><td>199.033827</td><td>94.509</td><td>80.961</td><td>159.383</td><td>295.665753</td><td>764.75702</td><td>84.709</td><td>51.42</td><td>150.749</td><td>4424.441072</td><td>161.114846</td><td>89.965</td><td>69.263</td><td>154.936</td><td>206.032437</td><td>127.506929</td><td>72.4295</td><td>55.424</td><td>115.748</td><td>148.451868</td><td>48.910831</td><td>39.576</td><td>19.124</td><td>53.817</td><td>61.241793</td><td>10.213556</td><td>-3.869</td><td>-36.702</td><td>46.752</td><td>70.523212</td><td>116.974935</td><td>117.168</td><td>107.782</td><td>127.137</td><td>15.021014</td><td>35.104383</td><td>28.823</td><td>7.876</td><td>50.781</td><td>41.088696</td><td>56.846983</td><td>59.0675</td><td>38.772</td><td>68.538</td><td>31.22018</td><td>75.791333</td><td>102.826</td><td>12.517</td><td>122.604</td><td>59.865846</td></tr><tr><td>&hellip;</td><td>&hellip;</td><td>&hellip;</td><td>&hellip;</td><td>&hellip;</td><td>&hellip;</td><td>&hellip;</td><td>&hellip;</td><td>&hellip;</td><td>&hellip;</td><td>&hellip;</td><td>&hellip;</td><td>&hellip;</td><td>&hellip;</td><td>&hellip;</td><td>&hellip;</td><td>&hellip;</td><td>&hellip;</td><td>&hellip;</td><td>&hellip;</td><td>&hellip;</td><td>&hellip;</td><td>&hellip;</td><td>&hellip;</td><td>&hellip;</td><td>&hellip;</td><td>&hellip;</td><td>&hellip;</td><td>&hellip;</td><td>&hellip;</td><td>&hellip;</td><td>&hellip;</td><td>&hellip;</td><td>&hellip;</td><td>&hellip;</td><td>&hellip;</td><td>&hellip;</td><td>&hellip;</td><td>&hellip;</td><td>&hellip;</td><td>&hellip;</td><td>&hellip;</td><td>&hellip;</td><td>&hellip;</td><td>&hellip;</td><td>&hellip;</td><td>&hellip;</td><td>&hellip;</td><td>&hellip;</td><td>&hellip;</td></tr><tr><td>103.054407</td><td>79.36</td><td>71.8</td><td>96.265</td><td>66.342629</td><td>121.012977</td><td>104.062</td><td>48.736</td><td>135.903</td><td>165.379801</td><td>33.336714</td><td>-15.987</td><td>-39.723</td><td>15.838</td><td>198.471062</td><td>139.927682</td><td>-35.2915</td><td>-56.141</td><td>-7.452</td><td>788.856818</td><td>-33.893</td><td>-42.006</td><td>-59.014</td><td>-31.74</td><td>58.332693</td><td>37.841875</td><td>19.9045</td><td>7.795</td><td>42.097</td><td>92.419762</td><td>54.598784</td><td>55.923</td><td>40.129</td><td>64.373</td><td>22.153259</td><td>-28.101</td><td>-43.979</td><td>-56.032</td><td>-31.591</td><td>49.601632</td><td>0.118708</td><td>-15.547</td><td>-37.125</td><td>7.582</td><td>80.482006</td><td>4.120043</td><td>-0.674</td><td>-16.598</td><td>16.213</td><td>52.355752</td></tr><tr><td>587.55905</td><td>90.5655</td><td>79.539</td><td>115.316</td><td>2699.873295</td><td>1600.413988</td><td>392.715</td><td>127.987</td><td>1098.157</td><td>4572.507912</td><td>860.036699</td><td>443.488</td><td>243.634</td><td>1260.922</td><td>849.766819</td><td>728.744708</td><td>73.126</td><td>31.118</td><td>241.504</td><td>2579.576157</td><td>913.349509</td><td>112.364</td><td>72.366</td><td>208.739</td><td>3976.371761</td><td>-0.785422</td><td>-24.736</td><td>-38.766</td><td>-0.981</td><td>97.503161</td><td>144.742014</td><td>139.666</td><td>132.967</td><td>150.586</td><td>24.643057</td><td>516.418942</td><td>149.796</td><td>88.621</td><td>771.541</td><td>838.198172</td><td>301.518017</td><td>180.3125</td><td>162.398</td><td>208.821</td><td>371.067696</td><td>102.4024</td><td>91.402</td><td>84.606</td><td>99.823</td><td>84.122388</td></tr><tr><td>117.781331</td><td>96.676</td><td>82.441</td><td>114.315</td><td>83.733445</td><td>366.032923</td><td>108.957</td><td>63.019</td><td>213.368</td><td>895.084748</td><td>409.027159</td><td>170.216</td><td>75.126</td><td>222.361</td><td>1391.351285</td><td>78.248017</td><td>51.495</td><td>26.966</td><td>79.813</td><td>104.766162</td><td>99.899116</td><td>68.322</td><td>45.714</td><td>86.446</td><td>137.930349</td><td>69.464102</td><td>54.707</td><td>36.572</td><td>81.086</td><td>61.976758</td><td>201.342233</td><td>156.7375</td><td>141.654</td><td>174.9</td><td>131.688835</td><td>126.714327</td><td>62.043</td><td>40.744</td><td>86.545</td><td>355.135443</td><td>156.838904</td><td>171.712</td><td>101.674</td><td>189.9</td><td>71.594546</td><td>121.621277</td><td>119.989</td><td>80.855</td><td>142.096</td><td>73.139723</td></tr><tr><td>83.432765</td><td>80.093</td><td>79.852</td><td>88.02</td><td>6.785008</td><td>505.698806</td><td>80.162</td><td>31.992</td><td>272.952</td><td>1387.223879</td><td>33.928317</td><td>-15.359</td><td>-33.528</td><td>15.964</td><td>187.344538</td><td>-7.363</td><td>-31.871</td><td>-40.233</td><td>-15.165</td><td>79.537777</td><td>14.899761</td><td>-33.3495</td><td>-47.815</td><td>-23.457</td><td>326.577692</td><td>23.851966</td><td>16.012</td><td>-0.795</td><td>32.334</td><td>53.801241</td><td>52.192133</td><td>56.131</td><td>48.127</td><td>64.014</td><td>19.154188</td><td>361.564278</td><td>-48.0995</td><td>-57.54</td><td>-32.292</td><td>1732.465644</td><td>1.99331</td><td>-7.84</td><td>-31.736</td><td>16.045</td><td>45.678636</td><td>2.7323125</td><td>-7.408</td><td>-23.842</td><td>32.341</td><td>31.120326</td></tr><tr><td>232.841271</td><td>90.17</td><td>78.147</td><td>113.804</td><td>438.832579</td><td>546.985481</td><td>123.815</td><td>63.163</td><td>487.999</td><td>1467.22329</td><td>466.335556</td><td>186.217</td><td>68.892</td><td>542.852</td><td>753.109447</td><td>195.055111</td><td>53.427</td><td>32.317</td><td>76.659</td><td>588.165249</td><td>107.54</td><td>25.2325</td><td>13.747</td><td>44.07</td><td>295.65772</td><td>51.496833</td><td>39.5835</td><td>30.994</td><td>57.146</td><td>35.333176</td><td>194.405393</td><td>113.539</td><td>101.482</td><td>141.393</td><td>236.273511</td><td>99.059692</td><td>49.573</td><td>22.727</td><td>80.298</td><td>247.844205</td><td>111.359636</td><td>21.1745</td><td>-43.22</td><td>67.873</td><td>398.896131</td><td>54.14</td><td>49.248</td><td>34.636</td><td>64.64</td><td>30.207687</td></tr></tbody></table></div>"
      ],
      "text/plain": [
       "shape: (108, 50)\n",
       "┌────────────┬───────────┬───────────┬───────────┬───┬───────────┬──────────┬──────────┬───────────┐\n",
       "│ IL_Key.bac ┆ IL_Key.ba ┆ IL_Key.ba ┆ IL_Key.ba ┆ … ┆ IL_th_med ┆ IL_th_q1 ┆ IL_th_q3 ┆ IL_th_std │\n",
       "│ kspaceKey. ┆ ckspaceKe ┆ ckspaceKe ┆ ckspaceKe ┆   ┆ ian       ┆ ---      ┆ ---      ┆ ---       │\n",
       "│ backspace_ ┆ y.backspa ┆ y.backspa ┆ y.backspa ┆   ┆ ---       ┆ f64      ┆ f64      ┆ f64       │\n",
       "│ …          ┆ ce_…      ┆ ce_…      ┆ ce_…      ┆   ┆ f64       ┆          ┆          ┆           │\n",
       "│ ---        ┆ ---       ┆ ---       ┆ ---       ┆   ┆           ┆          ┆          ┆           │\n",
       "│ f64        ┆ f64       ┆ f64       ┆ f64       ┆   ┆           ┆          ┆          ┆           │\n",
       "╞════════════╪═══════════╪═══════════╪═══════════╪═══╪═══════════╪══════════╪══════════╪═══════════╡\n",
       "│ 678.895937 ┆ 96.922    ┆ 83.359    ┆ 129.306   ┆ … ┆ 20.945    ┆ -0.849   ┆ 44.784   ┆ 57.544564 │\n",
       "│ 186.129254 ┆ 127.788   ┆ 110.918   ┆ 200.817   ┆ … ┆ 130.0155  ┆ 123.363  ┆ 150.372  ┆ 41.455118 │\n",
       "│ 200.852731 ┆ 105.9635  ┆ 91.559    ┆ 183.562   ┆ … ┆ 104.891   ┆ 90.529   ┆ 122.544  ┆ 72.044077 │\n",
       "│ 170.687699 ┆ 96.634    ┆ 87.781    ┆ 128.44    ┆ … ┆ 95.0515   ┆ 54.246   ┆ 117.41   ┆ 165.03709 │\n",
       "│            ┆           ┆           ┆           ┆   ┆           ┆          ┆          ┆ 7         │\n",
       "│ 199.033827 ┆ 94.509    ┆ 80.961    ┆ 159.383   ┆ … ┆ 102.826   ┆ 12.517   ┆ 122.604  ┆ 59.865846 │\n",
       "│ …          ┆ …         ┆ …         ┆ …         ┆ … ┆ …         ┆ …        ┆ …        ┆ …         │\n",
       "│ 103.054407 ┆ 79.36     ┆ 71.8      ┆ 96.265    ┆ … ┆ -0.674    ┆ -16.598  ┆ 16.213   ┆ 52.355752 │\n",
       "│ 587.55905  ┆ 90.5655   ┆ 79.539    ┆ 115.316   ┆ … ┆ 91.402    ┆ 84.606   ┆ 99.823   ┆ 84.122388 │\n",
       "│ 117.781331 ┆ 96.676    ┆ 82.441    ┆ 114.315   ┆ … ┆ 119.989   ┆ 80.855   ┆ 142.096  ┆ 73.139723 │\n",
       "│ 83.432765  ┆ 80.093    ┆ 79.852    ┆ 88.02     ┆ … ┆ -7.408    ┆ -23.842  ┆ 32.341   ┆ 31.120326 │\n",
       "│ 232.841271 ┆ 90.17     ┆ 78.147    ┆ 113.804   ┆ … ┆ 49.248    ┆ 34.636   ┆ 64.64    ┆ 30.207687 │\n",
       "└────────────┴───────────┴───────────┴───────────┴───┴───────────┴──────────┴──────────┴───────────┘"
      ]
     },
     "execution_count": 3,
     "metadata": {},
     "output_type": "execute_result"
    }
   ],
   "source": [
    "df_il = df[[col for col in df.columns if col.startswith(\"IL_\")]]\n",
    "df_il"
   ]
  },
  {
   "cell_type": "code",
   "execution_count": 4,
   "id": "a6a46df5-c605-46f4-843b-d14bc3414573",
   "metadata": {},
   "outputs": [
    {
     "data": {
      "text/html": [
       "<div><style>\n",
       ".dataframe > thead > tr,\n",
       ".dataframe > tbody > tr {\n",
       "  text-align: right;\n",
       "  white-space: pre-wrap;\n",
       "}\n",
       "</style>\n",
       "<small>shape: (1, 50)</small><table border=\"1\" class=\"dataframe\"><thead><tr><th>IL_Key.backspaceKey.backspace_mean</th><th>IL_Key.backspaceKey.backspace_median</th><th>IL_Key.backspaceKey.backspace_q1</th><th>IL_Key.backspaceKey.backspace_q3</th><th>IL_Key.backspaceKey.backspace_std</th><th>IL_Key.spacea_mean</th><th>IL_Key.spacea_median</th><th>IL_Key.spacea_q1</th><th>IL_Key.spacea_q3</th><th>IL_Key.spacea_std</th><th>IL_Key.spacet_mean</th><th>IL_Key.spacet_median</th><th>IL_Key.spacet_q1</th><th>IL_Key.spacet_q3</th><th>IL_Key.spacet_std</th><th>IL_dKey.space_mean</th><th>IL_dKey.space_median</th><th>IL_dKey.space_q1</th><th>IL_dKey.space_q3</th><th>IL_dKey.space_std</th><th>IL_eKey.space_mean</th><th>IL_eKey.space_median</th><th>IL_eKey.space_q1</th><th>IL_eKey.space_q3</th><th>IL_eKey.space_std</th><th>IL_he_mean</th><th>IL_he_median</th><th>IL_he_q1</th><th>IL_he_q3</th><th>IL_he_std</th><th>IL_in_mean</th><th>IL_in_median</th><th>IL_in_q1</th><th>IL_in_q3</th><th>IL_in_std</th><th>IL_sKey.space_mean</th><th>IL_sKey.space_median</th><th>IL_sKey.space_q1</th><th>IL_sKey.space_q3</th><th>IL_sKey.space_std</th><th>IL_tKey.space_mean</th><th>IL_tKey.space_median</th><th>IL_tKey.space_q1</th><th>IL_tKey.space_q3</th><th>IL_tKey.space_std</th><th>IL_th_mean</th><th>IL_th_median</th><th>IL_th_q1</th><th>IL_th_q3</th><th>IL_th_std</th></tr><tr><td>u32</td><td>u32</td><td>u32</td><td>u32</td><td>u32</td><td>u32</td><td>u32</td><td>u32</td><td>u32</td><td>u32</td><td>u32</td><td>u32</td><td>u32</td><td>u32</td><td>u32</td><td>u32</td><td>u32</td><td>u32</td><td>u32</td><td>u32</td><td>u32</td><td>u32</td><td>u32</td><td>u32</td><td>u32</td><td>u32</td><td>u32</td><td>u32</td><td>u32</td><td>u32</td><td>u32</td><td>u32</td><td>u32</td><td>u32</td><td>u32</td><td>u32</td><td>u32</td><td>u32</td><td>u32</td><td>u32</td><td>u32</td><td>u32</td><td>u32</td><td>u32</td><td>u32</td><td>u32</td><td>u32</td><td>u32</td><td>u32</td><td>u32</td></tr></thead><tbody><tr><td>0</td><td>0</td><td>0</td><td>0</td><td>0</td><td>0</td><td>0</td><td>0</td><td>0</td><td>0</td><td>0</td><td>0</td><td>0</td><td>0</td><td>0</td><td>0</td><td>0</td><td>0</td><td>0</td><td>0</td><td>0</td><td>0</td><td>0</td><td>0</td><td>0</td><td>0</td><td>0</td><td>0</td><td>0</td><td>0</td><td>0</td><td>0</td><td>0</td><td>0</td><td>0</td><td>0</td><td>0</td><td>0</td><td>0</td><td>0</td><td>0</td><td>0</td><td>0</td><td>0</td><td>0</td><td>0</td><td>0</td><td>0</td><td>0</td><td>0</td></tr></tbody></table></div>"
      ],
      "text/plain": [
       "shape: (1, 50)\n",
       "┌────────────┬───────────┬───────────┬───────────┬───┬───────────┬──────────┬──────────┬───────────┐\n",
       "│ IL_Key.bac ┆ IL_Key.ba ┆ IL_Key.ba ┆ IL_Key.ba ┆ … ┆ IL_th_med ┆ IL_th_q1 ┆ IL_th_q3 ┆ IL_th_std │\n",
       "│ kspaceKey. ┆ ckspaceKe ┆ ckspaceKe ┆ ckspaceKe ┆   ┆ ian       ┆ ---      ┆ ---      ┆ ---       │\n",
       "│ backspace_ ┆ y.backspa ┆ y.backspa ┆ y.backspa ┆   ┆ ---       ┆ u32      ┆ u32      ┆ u32       │\n",
       "│ …          ┆ ce_…      ┆ ce_…      ┆ ce_…      ┆   ┆ u32       ┆          ┆          ┆           │\n",
       "│ ---        ┆ ---       ┆ ---       ┆ ---       ┆   ┆           ┆          ┆          ┆           │\n",
       "│ u32        ┆ u32       ┆ u32       ┆ u32       ┆   ┆           ┆          ┆          ┆           │\n",
       "╞════════════╪═══════════╪═══════════╪═══════════╪═══╪═══════════╪══════════╪══════════╪═══════════╡\n",
       "│ 0          ┆ 0         ┆ 0         ┆ 0         ┆ … ┆ 0         ┆ 0        ┆ 0        ┆ 0         │\n",
       "└────────────┴───────────┴───────────┴───────────┴───┴───────────┴──────────┴──────────┴───────────┘"
      ]
     },
     "execution_count": 4,
     "metadata": {},
     "output_type": "execute_result"
    }
   ],
   "source": [
    "df_il.select(pl.all().is_nan().sum())\n"
   ]
  },
  {
   "cell_type": "code",
   "execution_count": null,
   "id": "cff26bb2",
   "metadata": {},
   "outputs": [],
   "source": []
  },
  {
   "cell_type": "code",
   "execution_count": 5,
   "id": "e36d848a",
   "metadata": {},
   "outputs": [
    {
     "name": "stdout",
     "output_type": "stream",
     "text": [
      "['Key.backspaceKey.backspace', 'Key.backspaceKey.backspace', 'Key.backspaceKey.backspace', 'Key.backspaceKey.backspace', 'Key.backspaceKey.backspace', 'Key.spacea', 'Key.spacea', 'Key.spacea', 'Key.spacea', 'Key.spacea', 'Key.spacet', 'Key.spacet', 'Key.spacet', 'Key.spacet', 'Key.spacet', 'dKey.space', 'dKey.space', 'dKey.space', 'dKey.space', 'dKey.space', 'eKey.space', 'eKey.space', 'eKey.space', 'eKey.space', 'eKey.space', 'he', 'he', 'he', 'he', 'he', 'in', 'in', 'in', 'in', 'in', 'sKey.space', 'sKey.space', 'sKey.space', 'sKey.space', 'sKey.space', 'tKey.space', 'tKey.space', 'tKey.space', 'tKey.space', 'tKey.space', 'th', 'th', 'th', 'th', 'th']\n",
      "['Key.backspaceKey.backspace_median', 'Key.backspaceKey.backspace_mean', 'Key.backspaceKey.backspace_std', 'Key.backspaceKey.backspace_q1', 'Key.backspaceKey.backspace_q3', 'Key.backspaceKey.backspace_median', 'Key.backspaceKey.backspace_mean', 'Key.backspaceKey.backspace_std', 'Key.backspaceKey.backspace_q1', 'Key.backspaceKey.backspace_q3', 'Key.backspaceKey.backspace_median', 'Key.backspaceKey.backspace_mean', 'Key.backspaceKey.backspace_std', 'Key.backspaceKey.backspace_q1', 'Key.backspaceKey.backspace_q3', 'Key.backspaceKey.backspace_median', 'Key.backspaceKey.backspace_mean', 'Key.backspaceKey.backspace_std', 'Key.backspaceKey.backspace_q1', 'Key.backspaceKey.backspace_q3', 'Key.backspaceKey.backspace_median', 'Key.backspaceKey.backspace_mean', 'Key.backspaceKey.backspace_std', 'Key.backspaceKey.backspace_q1', 'Key.backspaceKey.backspace_q3', 'Key.spacea_median', 'Key.spacea_mean', 'Key.spacea_std', 'Key.spacea_q1', 'Key.spacea_q3', 'Key.spacea_median', 'Key.spacea_mean', 'Key.spacea_std', 'Key.spacea_q1', 'Key.spacea_q3', 'Key.spacea_median', 'Key.spacea_mean', 'Key.spacea_std', 'Key.spacea_q1', 'Key.spacea_q3', 'Key.spacea_median', 'Key.spacea_mean', 'Key.spacea_std', 'Key.spacea_q1', 'Key.spacea_q3', 'Key.spacea_median', 'Key.spacea_mean', 'Key.spacea_std', 'Key.spacea_q1', 'Key.spacea_q3', 'Key.spacet_median', 'Key.spacet_mean', 'Key.spacet_std', 'Key.spacet_q1', 'Key.spacet_q3', 'Key.spacet_median', 'Key.spacet_mean', 'Key.spacet_std', 'Key.spacet_q1', 'Key.spacet_q3', 'Key.spacet_median', 'Key.spacet_mean', 'Key.spacet_std', 'Key.spacet_q1', 'Key.spacet_q3', 'Key.spacet_median', 'Key.spacet_mean', 'Key.spacet_std', 'Key.spacet_q1', 'Key.spacet_q3', 'Key.spacet_median', 'Key.spacet_mean', 'Key.spacet_std', 'Key.spacet_q1', 'Key.spacet_q3', 'dKey.space_median', 'dKey.space_mean', 'dKey.space_std', 'dKey.space_q1', 'dKey.space_q3', 'dKey.space_median', 'dKey.space_mean', 'dKey.space_std', 'dKey.space_q1', 'dKey.space_q3', 'dKey.space_median', 'dKey.space_mean', 'dKey.space_std', 'dKey.space_q1', 'dKey.space_q3', 'dKey.space_median', 'dKey.space_mean', 'dKey.space_std', 'dKey.space_q1', 'dKey.space_q3', 'dKey.space_median', 'dKey.space_mean', 'dKey.space_std', 'dKey.space_q1', 'dKey.space_q3', 'eKey.space_median', 'eKey.space_mean', 'eKey.space_std', 'eKey.space_q1', 'eKey.space_q3', 'eKey.space_median', 'eKey.space_mean', 'eKey.space_std', 'eKey.space_q1', 'eKey.space_q3', 'eKey.space_median', 'eKey.space_mean', 'eKey.space_std', 'eKey.space_q1', 'eKey.space_q3', 'eKey.space_median', 'eKey.space_mean', 'eKey.space_std', 'eKey.space_q1', 'eKey.space_q3', 'eKey.space_median', 'eKey.space_mean', 'eKey.space_std', 'eKey.space_q1', 'eKey.space_q3', 'he_median', 'he_mean', 'he_std', 'he_q1', 'he_q3', 'he_median', 'he_mean', 'he_std', 'he_q1', 'he_q3', 'he_median', 'he_mean', 'he_std', 'he_q1', 'he_q3', 'he_median', 'he_mean', 'he_std', 'he_q1', 'he_q3', 'he_median', 'he_mean', 'he_std', 'he_q1', 'he_q3', 'in_median', 'in_mean', 'in_std', 'in_q1', 'in_q3', 'in_median', 'in_mean', 'in_std', 'in_q1', 'in_q3', 'in_median', 'in_mean', 'in_std', 'in_q1', 'in_q3', 'in_median', 'in_mean', 'in_std', 'in_q1', 'in_q3', 'in_median', 'in_mean', 'in_std', 'in_q1', 'in_q3', 'sKey.space_median', 'sKey.space_mean', 'sKey.space_std', 'sKey.space_q1', 'sKey.space_q3', 'sKey.space_median', 'sKey.space_mean', 'sKey.space_std', 'sKey.space_q1', 'sKey.space_q3', 'sKey.space_median', 'sKey.space_mean', 'sKey.space_std', 'sKey.space_q1', 'sKey.space_q3', 'sKey.space_median', 'sKey.space_mean', 'sKey.space_std', 'sKey.space_q1', 'sKey.space_q3', 'sKey.space_median', 'sKey.space_mean', 'sKey.space_std', 'sKey.space_q1', 'sKey.space_q3', 'tKey.space_median', 'tKey.space_mean', 'tKey.space_std', 'tKey.space_q1', 'tKey.space_q3', 'tKey.space_median', 'tKey.space_mean', 'tKey.space_std', 'tKey.space_q1', 'tKey.space_q3', 'tKey.space_median', 'tKey.space_mean', 'tKey.space_std', 'tKey.space_q1', 'tKey.space_q3', 'tKey.space_median', 'tKey.space_mean', 'tKey.space_std', 'tKey.space_q1', 'tKey.space_q3', 'tKey.space_median', 'tKey.space_mean', 'tKey.space_std', 'tKey.space_q1', 'tKey.space_q3', 'th_median', 'th_mean', 'th_std', 'th_q1', 'th_q3', 'th_median', 'th_mean', 'th_std', 'th_q1', 'th_q3', 'th_median', 'th_mean', 'th_std', 'th_q1', 'th_q3', 'th_median', 'th_mean', 'th_std', 'th_q1', 'th_q3', 'th_median', 'th_mean', 'th_std', 'th_q1', 'th_q3']\n",
      "Key.backspaceKey.backspace_mean\n",
      "Key.backspaceKey.backspace_median\n",
      "Key.backspaceKey.backspace_q1\n",
      "Key.backspaceKey.backspace_q3\n",
      "Key.backspaceKey.backspace_std\n",
      "Key.spacea_mean\n",
      "Key.spacea_median\n",
      "Key.spacea_q1\n",
      "Key.spacea_q3\n",
      "Key.spacea_std\n",
      "Key.spacet_mean\n",
      "Key.spacet_median\n",
      "Key.spacet_q1\n",
      "Key.spacet_q3\n",
      "Key.spacet_std\n",
      "dKey.space_mean\n",
      "dKey.space_median\n",
      "dKey.space_q1\n",
      "dKey.space_q3\n",
      "dKey.space_std\n",
      "eKey.space_mean\n",
      "eKey.space_median\n",
      "eKey.space_q1\n",
      "eKey.space_q3\n",
      "eKey.space_std\n",
      "he_mean\n",
      "he_median\n",
      "he_q1\n",
      "he_q3\n",
      "he_std\n",
      "in_mean\n",
      "in_median\n",
      "in_q1\n",
      "in_q3\n",
      "in_std\n",
      "sKey.space_mean\n",
      "sKey.space_median\n",
      "sKey.space_q1\n",
      "sKey.space_q3\n",
      "sKey.space_std\n",
      "tKey.space_mean\n",
      "tKey.space_median\n",
      "tKey.space_q1\n",
      "tKey.space_q3\n",
      "tKey.space_std\n",
      "th_mean\n",
      "th_median\n",
      "th_q1\n",
      "th_q3\n",
      "th_std\n"
     ]
    }
   ],
   "source": [
    "key_pairs = list( k.split(\"_\")[1] for k in df_il.columns)\n",
    "print(key_pairs)\n",
    "\n",
    "\n",
    "extractable_features = ['median', 'mean','std', 'q1','q3']\n",
    "extractable_feature_columns = [k+\"_\"+f for k in key_pairs for f in extractable_features]\n",
    "\n",
    "print(extractable_feature_columns)\n",
    "\n",
    "\n",
    "\n",
    "for c in df_il.columns:\n",
    "    print(c.replace(\"IL_\", \"\"))"
   ]
  },
  {
   "cell_type": "markdown",
   "id": "f28f9293",
   "metadata": {},
   "source": [
    "# Sessions\n"
   ]
  },
  {
   "cell_type": "code",
   "execution_count": 6,
   "id": "b1407fdd",
   "metadata": {},
   "outputs": [
    {
     "data": {
      "text/html": [
       "<div><style>\n",
       ".dataframe > thead > tr,\n",
       ".dataframe > tbody > tr {\n",
       "  text-align: right;\n",
       "  white-space: pre-wrap;\n",
       "}\n",
       "</style>\n",
       "<small>shape: (216, 768)</small><table border=\"1\" class=\"dataframe\"><thead><tr><th>user_id</th><th>platform_id</th><th>session_id</th><th>HL_!_mean</th><th>HL_!_median</th><th>HL_!_q1</th><th>HL_!_q3</th><th>HL_!_std</th><th>HL_&quot;&quot;&quot;&quot;_mean</th><th>HL_&quot;&quot;&quot;&quot;_median</th><th>HL_&quot;&quot;&quot;&quot;_q1</th><th>HL_&quot;&quot;&quot;&quot;_q3</th><th>HL_&quot;&quot;&quot;&quot;_std</th><th>HL_&quot;&quot;_mean</th><th>HL_&quot;&quot;_median</th><th>HL_&quot;&quot;_q1</th><th>HL_&quot;&quot;_q3</th><th>HL_&quot;&quot;_std</th><th>HL_&quot;&quot;its&quot;&quot;_mean</th><th>HL_&quot;&quot;its&quot;&quot;_median</th><th>HL_&quot;&quot;its&quot;&quot;_q1</th><th>HL_&quot;&quot;its&quot;&quot;_q3</th><th>HL_&quot;&quot;its&quot;&quot;_std</th><th>HL_&quot;&quot;wouldve&quot;&quot;_mean</th><th>HL_&quot;&quot;wouldve&quot;&quot;_median</th><th>HL_&quot;&quot;wouldve&quot;&quot;_q1</th><th>HL_&quot;&quot;wouldve&quot;&quot;_q3</th><th>HL_&quot;&quot;wouldve&quot;&quot;_std</th><th>HL_%_mean</th><th>HL_%_median</th><th>HL_%_q1</th><th>HL_%_q3</th><th>HL_%_std</th><th>HL_&amp;_mean</th><th>HL_&amp;_median</th><th>HL_&amp;_q1</th><th>HL_&amp;_q3</th><th>&hellip;</th><th>IL_Key.spacet_q3</th><th>IL_Key.spacet_std</th><th>IL_dKey.space_mean</th><th>IL_dKey.space_median</th><th>IL_dKey.space_q1</th><th>IL_dKey.space_q3</th><th>IL_dKey.space_std</th><th>IL_eKey.space_mean</th><th>IL_eKey.space_median</th><th>IL_eKey.space_q1</th><th>IL_eKey.space_q3</th><th>IL_eKey.space_std</th><th>IL_he_mean</th><th>IL_he_median</th><th>IL_he_q1</th><th>IL_he_q3</th><th>IL_he_std</th><th>IL_in_mean</th><th>IL_in_median</th><th>IL_in_q1</th><th>IL_in_q3</th><th>IL_in_std</th><th>IL_sKey.space_mean</th><th>IL_sKey.space_median</th><th>IL_sKey.space_q1</th><th>IL_sKey.space_q3</th><th>IL_sKey.space_std</th><th>IL_tKey.space_mean</th><th>IL_tKey.space_median</th><th>IL_tKey.space_q1</th><th>IL_tKey.space_q3</th><th>IL_tKey.space_std</th><th>IL_th_mean</th><th>IL_th_median</th><th>IL_th_q1</th><th>IL_th_q3</th><th>IL_th_std</th></tr><tr><td>i64</td><td>i64</td><td>i64</td><td>f64</td><td>f64</td><td>f64</td><td>f64</td><td>f64</td><td>f64</td><td>f64</td><td>f64</td><td>f64</td><td>f64</td><td>f64</td><td>f64</td><td>f64</td><td>f64</td><td>f64</td><td>f64</td><td>f64</td><td>f64</td><td>f64</td><td>f64</td><td>f64</td><td>f64</td><td>f64</td><td>f64</td><td>f64</td><td>f64</td><td>f64</td><td>f64</td><td>f64</td><td>f64</td><td>f64</td><td>f64</td><td>f64</td><td>f64</td><td>&hellip;</td><td>f64</td><td>f64</td><td>f64</td><td>f64</td><td>f64</td><td>f64</td><td>f64</td><td>f64</td><td>f64</td><td>f64</td><td>f64</td><td>f64</td><td>f64</td><td>f64</td><td>f64</td><td>f64</td><td>f64</td><td>f64</td><td>f64</td><td>f64</td><td>f64</td><td>f64</td><td>f64</td><td>f64</td><td>f64</td><td>f64</td><td>f64</td><td>f64</td><td>f64</td><td>f64</td><td>f64</td><td>f64</td><td>f64</td><td>f64</td><td>f64</td><td>f64</td><td>f64</td></tr></thead><tbody><tr><td>1046</td><td>1</td><td>2</td><td>0.0</td><td>0.0</td><td>0.0</td><td>0.0</td><td>0.0</td><td>91.536333</td><td>86.934</td><td>86.934</td><td>104.395</td><td>11.284809</td><td>0.0</td><td>0.0</td><td>0.0</td><td>0.0</td><td>0.0</td><td>0.0</td><td>0.0</td><td>0.0</td><td>0.0</td><td>0.0</td><td>0.0</td><td>0.0</td><td>0.0</td><td>0.0</td><td>0.0</td><td>0.0</td><td>0.0</td><td>0.0</td><td>0.0</td><td>0.0</td><td>0.0</td><td>0.0</td><td>0.0</td><td>0.0</td><td>&hellip;</td><td>1004.191</td><td>718.57546</td><td>187.78025</td><td>11.4655</td><td>-19.781</td><td>68.091</td><td>594.173032</td><td>324.923708</td><td>21.698</td><td>0.694</td><td>94.824</td><td>1184.965986</td><td>70.234923</td><td>68.863</td><td>57.132</td><td>104.315</td><td>51.968947</td><td>171.006</td><td>164.477</td><td>161.517</td><td>181.485</td><td>18.245692</td><td>257.912118</td><td>38.495</td><td>18.93</td><td>77.414</td><td>525.78821</td><td>344.619687</td><td>206.7375</td><td>199.49</td><td>220.917</td><td>397.030296</td><td>210.362692</td><td>155.306</td><td>140.223</td><td>161.459</td><td>209.854171</td></tr><tr><td>1009</td><td>2</td><td>2</td><td>0.0</td><td>0.0</td><td>0.0</td><td>0.0</td><td>0.0</td><td>104.029</td><td>104.029</td><td>103.996</td><td>104.062</td><td>0.046669</td><td>0.0</td><td>0.0</td><td>0.0</td><td>0.0</td><td>0.0</td><td>0.0</td><td>0.0</td><td>0.0</td><td>0.0</td><td>0.0</td><td>0.0</td><td>0.0</td><td>0.0</td><td>0.0</td><td>0.0</td><td>0.0</td><td>0.0</td><td>0.0</td><td>0.0</td><td>0.0</td><td>0.0</td><td>0.0</td><td>0.0</td><td>0.0</td><td>&hellip;</td><td>624.055</td><td>724.328108</td><td>117.370667</td><td>64.0975</td><td>39.845</td><td>88.049</td><td>160.517334</td><td>120.064273</td><td>88.343</td><td>56.06</td><td>120.199</td><td>121.377872</td><td>134.879857</td><td>56.081</td><td>47.993</td><td>176.054</td><td>170.844573</td><td>137.7156</td><td>111.901</td><td>96.73</td><td>127.909</td><td>72.20966</td><td>163.946</td><td>67.933</td><td>47.975</td><td>144.058</td><td>220.395609</td><td>46.6285</td><td>43.8575</td><td>16.094</td><td>79.961</td><td>29.647948</td><td>69.5298</td><td>31.9425</td><td>15.603</td><td>87.708</td><td>110.564454</td></tr><tr><td>1053</td><td>1</td><td>1</td><td>0.0</td><td>0.0</td><td>0.0</td><td>0.0</td><td>0.0</td><td>91.988</td><td>91.988</td><td>70.557</td><td>113.419</td><td>30.308011</td><td>0.0</td><td>0.0</td><td>0.0</td><td>0.0</td><td>0.0</td><td>0.0</td><td>0.0</td><td>0.0</td><td>0.0</td><td>0.0</td><td>0.0</td><td>0.0</td><td>0.0</td><td>0.0</td><td>0.0</td><td>0.0</td><td>0.0</td><td>0.0</td><td>0.0</td><td>0.0</td><td>0.0</td><td>0.0</td><td>0.0</td><td>0.0</td><td>&hellip;</td><td>64.885</td><td>491.416117</td><td>38.167955</td><td>-20.7465</td><td>-37.244</td><td>0.913</td><td>286.344373</td><td>10.621469</td><td>-1.663</td><td>-16.777</td><td>16.784</td><td>60.509376</td><td>45.911947</td><td>-1.657</td><td>-10.864</td><td>13.078</td><td>166.045626</td><td>59.518619</td><td>59.65</td><td>42.897</td><td>69.04</td><td>22.253443</td><td>26.1002</td><td>-7.139</td><td>-21.836</td><td>21.841</td><td>89.986989</td><td>39.254619</td><td>4.742</td><td>-17.556</td><td>17.56</td><td>151.342921</td><td>2.272821</td><td>-13.122</td><td>-23.134</td><td>-1.095</td><td>79.861714</td></tr><tr><td>1012</td><td>2</td><td>1</td><td>0.0</td><td>0.0</td><td>0.0</td><td>0.0</td><td>0.0</td><td>65.759286</td><td>70.727</td><td>63.28</td><td>72.51</td><td>12.213574</td><td>0.0</td><td>0.0</td><td>0.0</td><td>0.0</td><td>0.0</td><td>0.0</td><td>0.0</td><td>0.0</td><td>0.0</td><td>0.0</td><td>0.0</td><td>0.0</td><td>0.0</td><td>0.0</td><td>0.0</td><td>0.0</td><td>0.0</td><td>0.0</td><td>0.0</td><td>0.0</td><td>0.0</td><td>0.0</td><td>0.0</td><td>0.0</td><td>&hellip;</td><td>189.069</td><td>351.75288</td><td>41.7319</td><td>40.743</td><td>14.754</td><td>67.751</td><td>31.335859</td><td>54.099458</td><td>50.399</td><td>43.946</td><td>65.551</td><td>23.205788</td><td>25.46215</td><td>29.33</td><td>14.833</td><td>36.721</td><td>17.379662</td><td>76.831857</td><td>66.956</td><td>56.672</td><td>82.416</td><td>33.415642</td><td>78.2315</td><td>61.664</td><td>47.069</td><td>73.668</td><td>82.449666</td><td>121.74213</td><td>70.837</td><td>49.588</td><td>132.663</td><td>143.963071</td><td>35.080739</td><td>33.712</td><td>24.206</td><td>44.56</td><td>21.562516</td></tr><tr><td>1056</td><td>2</td><td>1</td><td>0.0</td><td>0.0</td><td>0.0</td><td>0.0</td><td>0.0</td><td>0.0</td><td>0.0</td><td>0.0</td><td>0.0</td><td>0.0</td><td>0.0</td><td>0.0</td><td>0.0</td><td>0.0</td><td>0.0</td><td>0.0</td><td>0.0</td><td>0.0</td><td>0.0</td><td>0.0</td><td>0.0</td><td>0.0</td><td>0.0</td><td>0.0</td><td>0.0</td><td>0.0</td><td>0.0</td><td>0.0</td><td>0.0</td><td>0.0</td><td>0.0</td><td>0.0</td><td>0.0</td><td>0.0</td><td>&hellip;</td><td>665.303</td><td>18834.265532</td><td>162.281333</td><td>159.363</td><td>159.363</td><td>179.113</td><td>15.578872</td><td>315.48925</td><td>220.6915</td><td>215.383</td><td>279.42</td><td>292.074491</td><td>239.183</td><td>235.7305</td><td>223.326</td><td>248.135</td><td>20.241605</td><td>264.9945</td><td>264.9945</td><td>140.557</td><td>389.432</td><td>175.9812</td><td>228.3253</td><td>194.222</td><td>170.178</td><td>204.337</td><td>114.536083</td><td>449.958</td><td>231.929</td><td>193.241</td><td>328.916</td><td>533.252503</td><td>160.142</td><td>139.399</td><td>130.609</td><td>144.075</td><td>55.928567</td></tr><tr><td>&hellip;</td><td>&hellip;</td><td>&hellip;</td><td>&hellip;</td><td>&hellip;</td><td>&hellip;</td><td>&hellip;</td><td>&hellip;</td><td>&hellip;</td><td>&hellip;</td><td>&hellip;</td><td>&hellip;</td><td>&hellip;</td><td>&hellip;</td><td>&hellip;</td><td>&hellip;</td><td>&hellip;</td><td>&hellip;</td><td>&hellip;</td><td>&hellip;</td><td>&hellip;</td><td>&hellip;</td><td>&hellip;</td><td>&hellip;</td><td>&hellip;</td><td>&hellip;</td><td>&hellip;</td><td>&hellip;</td><td>&hellip;</td><td>&hellip;</td><td>&hellip;</td><td>&hellip;</td><td>&hellip;</td><td>&hellip;</td><td>&hellip;</td><td>&hellip;</td><td>&hellip;</td><td>&hellip;</td><td>&hellip;</td><td>&hellip;</td><td>&hellip;</td><td>&hellip;</td><td>&hellip;</td><td>&hellip;</td><td>&hellip;</td><td>&hellip;</td><td>&hellip;</td><td>&hellip;</td><td>&hellip;</td><td>&hellip;</td><td>&hellip;</td><td>&hellip;</td><td>&hellip;</td><td>&hellip;</td><td>&hellip;</td><td>&hellip;</td><td>&hellip;</td><td>&hellip;</td><td>&hellip;</td><td>&hellip;</td><td>&hellip;</td><td>&hellip;</td><td>&hellip;</td><td>&hellip;</td><td>&hellip;</td><td>&hellip;</td><td>&hellip;</td><td>&hellip;</td><td>&hellip;</td><td>&hellip;</td><td>&hellip;</td><td>&hellip;</td><td>&hellip;</td><td>&hellip;</td><td>&hellip;</td></tr><tr><td>1062</td><td>3</td><td>1</td><td>0.0</td><td>0.0</td><td>0.0</td><td>0.0</td><td>0.0</td><td>0.0</td><td>0.0</td><td>0.0</td><td>0.0</td><td>0.0</td><td>0.0</td><td>0.0</td><td>0.0</td><td>0.0</td><td>0.0</td><td>0.0</td><td>0.0</td><td>0.0</td><td>0.0</td><td>0.0</td><td>0.0</td><td>0.0</td><td>0.0</td><td>0.0</td><td>0.0</td><td>0.0</td><td>0.0</td><td>0.0</td><td>0.0</td><td>0.0</td><td>0.0</td><td>0.0</td><td>0.0</td><td>0.0</td><td>&hellip;</td><td>366.019</td><td>944.064845</td><td>255.265885</td><td>100.46</td><td>61.601</td><td>293.767</td><td>444.927846</td><td>144.339375</td><td>75.941</td><td>48.521</td><td>110.571</td><td>285.492071</td><td>190.841765</td><td>84.127</td><td>67.949</td><td>188.865</td><td>244.862447</td><td>208.001625</td><td>153.738</td><td>148.567</td><td>162.853</td><td>191.625012</td><td>122.015714</td><td>70.236</td><td>42.605</td><td>101.202</td><td>175.360987</td><td>234.356533</td><td>168.8505</td><td>151.641</td><td>213.279</td><td>163.763334</td><td>143.813577</td><td>134.6755</td><td>123.363</td><td>156.857</td><td>33.101729</td></tr><tr><td>1006</td><td>1</td><td>2</td><td>0.0</td><td>0.0</td><td>0.0</td><td>0.0</td><td>0.0</td><td>126.568</td><td>126.568</td><td>126.568</td><td>126.568</td><td>0.0</td><td>0.0</td><td>0.0</td><td>0.0</td><td>0.0</td><td>0.0</td><td>0.0</td><td>0.0</td><td>0.0</td><td>0.0</td><td>0.0</td><td>0.0</td><td>0.0</td><td>0.0</td><td>0.0</td><td>0.0</td><td>0.0</td><td>0.0</td><td>0.0</td><td>0.0</td><td>0.0</td><td>0.0</td><td>0.0</td><td>0.0</td><td>0.0</td><td>&hellip;</td><td>114.083</td><td>4626.701287</td><td>-34.294563</td><td>-37.693</td><td>-50.971</td><td>-17.114</td><td>21.470458</td><td>-28.247432</td><td>-31.031</td><td>-55.129</td><td>-15.596</td><td>49.795617</td><td>4.867947</td><td>7.529</td><td>-27.442</td><td>33.442</td><td>40.554149</td><td>-53.777389</td><td>-66.612</td><td>-79.948</td><td>-51.701</td><td>49.157199</td><td>-37.020269</td><td>-40.105</td><td>-68.334</td><td>-8.353</td><td>40.390075</td><td>66.5835</td><td>67.713</td><td>33.695</td><td>94.115</td><td>68.561301</td><td>28.218423</td><td>3.2265</td><td>-15.136</td><td>83.77</td><td>67.645506</td></tr><tr><td>1039</td><td>1</td><td>1</td><td>0.0</td><td>0.0</td><td>0.0</td><td>0.0</td><td>0.0</td><td>55.62675</td><td>54.756</td><td>51.261</td><td>58.251</td><td>5.560992</td><td>97.604</td><td>97.604</td><td>79.669</td><td>115.539</td><td>25.36392</td><td>0.0</td><td>0.0</td><td>0.0</td><td>0.0</td><td>0.0</td><td>0.0</td><td>0.0</td><td>0.0</td><td>0.0</td><td>0.0</td><td>0.0</td><td>0.0</td><td>0.0</td><td>0.0</td><td>0.0</td><td>0.0</td><td>0.0</td><td>0.0</td><td>0.0</td><td>&hellip;</td><td>245.393</td><td>98.884162</td><td>119.503182</td><td>56.127</td><td>41.596</td><td>116.458</td><td>195.334508</td><td>176.422457</td><td>81.888</td><td>69.105</td><td>139.895</td><td>256.900473</td><td>133.796071</td><td>104.77</td><td>92.65</td><td>129.678</td><td>101.794849</td><td>185.609933</td><td>184.498</td><td>177.186</td><td>190.408</td><td>18.10605</td><td>116.140643</td><td>101.94</td><td>51.268</td><td>135.145</td><td>90.646403</td><td>225.102938</td><td>216.9875</td><td>116.64</td><td>270.874</td><td>150.083792</td><td>158.009421</td><td>66.48</td><td>50.337</td><td>154.239</td><td>268.09989</td></tr><tr><td>1055</td><td>3</td><td>1</td><td>0.0</td><td>0.0</td><td>0.0</td><td>0.0</td><td>0.0</td><td>100.92</td><td>100.92</td><td>56.133</td><td>145.707</td><td>63.338383</td><td>0.0</td><td>0.0</td><td>0.0</td><td>0.0</td><td>0.0</td><td>0.0</td><td>0.0</td><td>0.0</td><td>0.0</td><td>0.0</td><td>0.0</td><td>0.0</td><td>0.0</td><td>0.0</td><td>0.0</td><td>0.0</td><td>0.0</td><td>0.0</td><td>0.0</td><td>0.0</td><td>0.0</td><td>0.0</td><td>0.0</td><td>0.0</td><td>&hellip;</td><td>358.999</td><td>177.152115</td><td>139.764333</td><td>58.408</td><td>41.62</td><td>122.285</td><td>206.073681</td><td>134.807556</td><td>63.917</td><td>24.097</td><td>136.79</td><td>194.317997</td><td>49.843053</td><td>-0.795</td><td>-15.829</td><td>21.879</td><td>159.192115</td><td>55.65825</td><td>45.2095</td><td>34.909</td><td>88.368</td><td>38.416887</td><td>114.270857</td><td>74.841</td><td>29.339</td><td>138.378</td><td>131.723294</td><td>193.780417</td><td>81.0735</td><td>37.543</td><td>131.258</td><td>350.741778</td><td>9.255059</td><td>-1.519</td><td>-15.703</td><td>26.55</td><td>35.218586</td></tr><tr><td>1054</td><td>1</td><td>2</td><td>0.0</td><td>0.0</td><td>0.0</td><td>0.0</td><td>0.0</td><td>0.0</td><td>0.0</td><td>0.0</td><td>0.0</td><td>0.0</td><td>0.0</td><td>0.0</td><td>0.0</td><td>0.0</td><td>0.0</td><td>0.0</td><td>0.0</td><td>0.0</td><td>0.0</td><td>0.0</td><td>0.0</td><td>0.0</td><td>0.0</td><td>0.0</td><td>0.0</td><td>0.0</td><td>0.0</td><td>0.0</td><td>0.0</td><td>0.0</td><td>0.0</td><td>0.0</td><td>0.0</td><td>0.0</td><td>&hellip;</td><td>162.1</td><td>1044.297248</td><td>6.235571</td><td>3.812</td><td>-8.149</td><td>26.328</td><td>23.824664</td><td>41.855459</td><td>5.041</td><td>-4.792</td><td>22.614</td><td>205.192865</td><td>71.228565</td><td>53.079</td><td>39.084</td><td>77.96</td><td>64.136285</td><td>35.829467</td><td>26.498</td><td>-20.46</td><td>64.561</td><td>74.267745</td><td>27.007292</td><td>1.4375</td><td>-10.592</td><td>47.068</td><td>72.90299</td><td>78.032667</td><td>39.05</td><td>16.647</td><td>72.047</td><td>136.058717</td><td>46.540115</td><td>29.1705</td><td>18.918</td><td>48.184</td><td>75.38011</td></tr></tbody></table></div>"
      ],
      "text/plain": [
       "shape: (216, 768)\n",
       "┌─────────┬────────────┬────────────┬───────────┬───┬────────────┬──────────┬──────────┬───────────┐\n",
       "│ user_id ┆ platform_i ┆ session_id ┆ HL_!_mean ┆ … ┆ IL_th_medi ┆ IL_th_q1 ┆ IL_th_q3 ┆ IL_th_std │\n",
       "│ ---     ┆ d          ┆ ---        ┆ ---       ┆   ┆ an         ┆ ---      ┆ ---      ┆ ---       │\n",
       "│ i64     ┆ ---        ┆ i64        ┆ f64       ┆   ┆ ---        ┆ f64      ┆ f64      ┆ f64       │\n",
       "│         ┆ i64        ┆            ┆           ┆   ┆ f64        ┆          ┆          ┆           │\n",
       "╞═════════╪════════════╪════════════╪═══════════╪═══╪════════════╪══════════╪══════════╪═══════════╡\n",
       "│ 1046    ┆ 1          ┆ 2          ┆ 0.0       ┆ … ┆ 155.306    ┆ 140.223  ┆ 161.459  ┆ 209.85417 │\n",
       "│         ┆            ┆            ┆           ┆   ┆            ┆          ┆          ┆ 1         │\n",
       "│ 1009    ┆ 2          ┆ 2          ┆ 0.0       ┆ … ┆ 31.9425    ┆ 15.603   ┆ 87.708   ┆ 110.56445 │\n",
       "│         ┆            ┆            ┆           ┆   ┆            ┆          ┆          ┆ 4         │\n",
       "│ 1053    ┆ 1          ┆ 1          ┆ 0.0       ┆ … ┆ -13.122    ┆ -23.134  ┆ -1.095   ┆ 79.861714 │\n",
       "│ 1012    ┆ 2          ┆ 1          ┆ 0.0       ┆ … ┆ 33.712     ┆ 24.206   ┆ 44.56    ┆ 21.562516 │\n",
       "│ 1056    ┆ 2          ┆ 1          ┆ 0.0       ┆ … ┆ 139.399    ┆ 130.609  ┆ 144.075  ┆ 55.928567 │\n",
       "│ …       ┆ …          ┆ …          ┆ …         ┆ … ┆ …          ┆ …        ┆ …        ┆ …         │\n",
       "│ 1062    ┆ 3          ┆ 1          ┆ 0.0       ┆ … ┆ 134.6755   ┆ 123.363  ┆ 156.857  ┆ 33.101729 │\n",
       "│ 1006    ┆ 1          ┆ 2          ┆ 0.0       ┆ … ┆ 3.2265     ┆ -15.136  ┆ 83.77    ┆ 67.645506 │\n",
       "│ 1039    ┆ 1          ┆ 1          ┆ 0.0       ┆ … ┆ 66.48      ┆ 50.337   ┆ 154.239  ┆ 268.09989 │\n",
       "│ 1055    ┆ 3          ┆ 1          ┆ 0.0       ┆ … ┆ -1.519     ┆ -15.703  ┆ 26.55    ┆ 35.218586 │\n",
       "│ 1054    ┆ 1          ┆ 2          ┆ 0.0       ┆ … ┆ 29.1705    ┆ 18.918   ┆ 48.184   ┆ 75.38011  │\n",
       "└─────────┴────────────┴────────────┴───────────┴───┴────────────┴──────────┴──────────┴───────────┘"
      ]
     },
     "execution_count": 6,
     "metadata": {},
     "output_type": "execute_result"
    }
   ],
   "source": [
    "filepath = \"ml_experiments/imputation_global/dataset_2_full.csv\"\n",
    "df_sessions = pl.read_csv(filepath, has_header=True)\n",
    "df_sessions"
   ]
  },
  {
   "cell_type": "code",
   "execution_count": 7,
   "id": "a24380ca",
   "metadata": {},
   "outputs": [
    {
     "data": {
      "text/html": [
       "<div><style>\n",
       ".dataframe > thead > tr,\n",
       ".dataframe > tbody > tr {\n",
       "  text-align: right;\n",
       "  white-space: pre-wrap;\n",
       "}\n",
       "</style>\n",
       "<small>shape: (216, 52)</small><table border=\"1\" class=\"dataframe\"><thead><tr><th>user_id</th><th>session_id</th><th>IL_Key.backspaceKey.backspace_mean</th><th>IL_Key.backspaceKey.backspace_median</th><th>IL_Key.backspaceKey.backspace_q1</th><th>IL_Key.backspaceKey.backspace_q3</th><th>IL_Key.backspaceKey.backspace_std</th><th>IL_Key.spacea_mean</th><th>IL_Key.spacea_median</th><th>IL_Key.spacea_q1</th><th>IL_Key.spacea_q3</th><th>IL_Key.spacea_std</th><th>IL_Key.spacet_mean</th><th>IL_Key.spacet_median</th><th>IL_Key.spacet_q1</th><th>IL_Key.spacet_q3</th><th>IL_Key.spacet_std</th><th>IL_dKey.space_mean</th><th>IL_dKey.space_median</th><th>IL_dKey.space_q1</th><th>IL_dKey.space_q3</th><th>IL_dKey.space_std</th><th>IL_eKey.space_mean</th><th>IL_eKey.space_median</th><th>IL_eKey.space_q1</th><th>IL_eKey.space_q3</th><th>IL_eKey.space_std</th><th>IL_he_mean</th><th>IL_he_median</th><th>IL_he_q1</th><th>IL_he_q3</th><th>IL_he_std</th><th>IL_in_mean</th><th>IL_in_median</th><th>IL_in_q1</th><th>IL_in_q3</th><th>IL_in_std</th><th>IL_sKey.space_mean</th><th>IL_sKey.space_median</th><th>IL_sKey.space_q1</th><th>IL_sKey.space_q3</th><th>IL_sKey.space_std</th><th>IL_tKey.space_mean</th><th>IL_tKey.space_median</th><th>IL_tKey.space_q1</th><th>IL_tKey.space_q3</th><th>IL_tKey.space_std</th><th>IL_th_mean</th><th>IL_th_median</th><th>IL_th_q1</th><th>IL_th_q3</th><th>IL_th_std</th></tr><tr><td>i64</td><td>i64</td><td>f64</td><td>f64</td><td>f64</td><td>f64</td><td>f64</td><td>f64</td><td>f64</td><td>f64</td><td>f64</td><td>f64</td><td>f64</td><td>f64</td><td>f64</td><td>f64</td><td>f64</td><td>f64</td><td>f64</td><td>f64</td><td>f64</td><td>f64</td><td>f64</td><td>f64</td><td>f64</td><td>f64</td><td>f64</td><td>f64</td><td>f64</td><td>f64</td><td>f64</td><td>f64</td><td>f64</td><td>f64</td><td>f64</td><td>f64</td><td>f64</td><td>f64</td><td>f64</td><td>f64</td><td>f64</td><td>f64</td><td>f64</td><td>f64</td><td>f64</td><td>f64</td><td>f64</td><td>f64</td><td>f64</td><td>f64</td><td>f64</td><td>f64</td></tr></thead><tbody><tr><td>1046</td><td>2</td><td>167.902136</td><td>118.136</td><td>104.848</td><td>174.901</td><td>110.67573</td><td>504.3622</td><td>200.651</td><td>119.233</td><td>925.155</td><td>587.804767</td><td>800.269813</td><td>551.56</td><td>228.629</td><td>1004.191</td><td>718.57546</td><td>187.78025</td><td>11.4655</td><td>-19.781</td><td>68.091</td><td>594.173032</td><td>324.923708</td><td>21.698</td><td>0.694</td><td>94.824</td><td>1184.965986</td><td>70.234923</td><td>68.863</td><td>57.132</td><td>104.315</td><td>51.968947</td><td>171.006</td><td>164.477</td><td>161.517</td><td>181.485</td><td>18.245692</td><td>257.912118</td><td>38.495</td><td>18.93</td><td>77.414</td><td>525.78821</td><td>344.619687</td><td>206.7375</td><td>199.49</td><td>220.917</td><td>397.030296</td><td>210.362692</td><td>155.306</td><td>140.223</td><td>161.459</td><td>209.854171</td></tr><tr><td>1009</td><td>2</td><td>90.147929</td><td>87.9185</td><td>79.947</td><td>96.009</td><td>22.256058</td><td>168.012</td><td>160.107</td><td>160.107</td><td>344.463</td><td>172.634293</td><td>554.550062</td><td>279.8745</td><td>88.072</td><td>624.055</td><td>724.328108</td><td>117.370667</td><td>64.0975</td><td>39.845</td><td>88.049</td><td>160.517334</td><td>120.064273</td><td>88.343</td><td>56.06</td><td>120.199</td><td>121.377872</td><td>134.879857</td><td>56.081</td><td>47.993</td><td>176.054</td><td>170.844573</td><td>137.7156</td><td>111.901</td><td>96.73</td><td>127.909</td><td>72.20966</td><td>163.946</td><td>67.933</td><td>47.975</td><td>144.058</td><td>220.395609</td><td>46.6285</td><td>43.8575</td><td>16.094</td><td>79.961</td><td>29.647948</td><td>69.5298</td><td>31.9425</td><td>15.603</td><td>87.708</td><td>110.564454</td></tr><tr><td>1053</td><td>1</td><td>110.445766</td><td>80.5115</td><td>73.13</td><td>91.093</td><td>87.654364</td><td>92.269429</td><td>21.075</td><td>-10.113</td><td>63.604</td><td>203.506258</td><td>126.251333</td><td>16.764</td><td>-1.094</td><td>64.885</td><td>491.416117</td><td>38.167955</td><td>-20.7465</td><td>-37.244</td><td>0.913</td><td>286.344373</td><td>10.621469</td><td>-1.663</td><td>-16.777</td><td>16.784</td><td>60.509376</td><td>45.911947</td><td>-1.657</td><td>-10.864</td><td>13.078</td><td>166.045626</td><td>59.518619</td><td>59.65</td><td>42.897</td><td>69.04</td><td>22.253443</td><td>26.1002</td><td>-7.139</td><td>-21.836</td><td>21.841</td><td>89.986989</td><td>39.254619</td><td>4.742</td><td>-17.556</td><td>17.56</td><td>151.342921</td><td>2.272821</td><td>-13.122</td><td>-23.134</td><td>-1.095</td><td>79.861714</td></tr><tr><td>1012</td><td>1</td><td>85.607857</td><td>76.256</td><td>67.721</td><td>87.603</td><td>33.343096</td><td>140.8401</td><td>64.886</td><td>56.663</td><td>140.836</td><td>168.286488</td><td>188.782656</td><td>59.067</td><td>32.127</td><td>189.069</td><td>351.75288</td><td>41.7319</td><td>40.743</td><td>14.754</td><td>67.751</td><td>31.335859</td><td>54.099458</td><td>50.399</td><td>43.946</td><td>65.551</td><td>23.205788</td><td>25.46215</td><td>29.33</td><td>14.833</td><td>36.721</td><td>17.379662</td><td>76.831857</td><td>66.956</td><td>56.672</td><td>82.416</td><td>33.415642</td><td>78.2315</td><td>61.664</td><td>47.069</td><td>73.668</td><td>82.449666</td><td>121.74213</td><td>70.837</td><td>49.588</td><td>132.663</td><td>143.963071</td><td>35.080739</td><td>33.712</td><td>24.206</td><td>44.56</td><td>21.562516</td></tr><tr><td>1056</td><td>1</td><td>247.001</td><td>143.202</td><td>143.202</td><td>513.035</td><td>232.237504</td><td>516.3865</td><td>484.0145</td><td>426.244</td><td>543.418</td><td>239.732311</td><td>6474.8041</td><td>504.0625</td><td>466.462</td><td>665.303</td><td>18834.265532</td><td>162.281333</td><td>159.363</td><td>159.363</td><td>179.113</td><td>15.578872</td><td>315.48925</td><td>220.6915</td><td>215.383</td><td>279.42</td><td>292.074491</td><td>239.183</td><td>235.7305</td><td>223.326</td><td>248.135</td><td>20.241605</td><td>264.9945</td><td>264.9945</td><td>140.557</td><td>389.432</td><td>175.9812</td><td>228.3253</td><td>194.222</td><td>170.178</td><td>204.337</td><td>114.536083</td><td>449.958</td><td>231.929</td><td>193.241</td><td>328.916</td><td>533.252503</td><td>160.142</td><td>139.399</td><td>130.609</td><td>144.075</td><td>55.928567</td></tr><tr><td>&hellip;</td><td>&hellip;</td><td>&hellip;</td><td>&hellip;</td><td>&hellip;</td><td>&hellip;</td><td>&hellip;</td><td>&hellip;</td><td>&hellip;</td><td>&hellip;</td><td>&hellip;</td><td>&hellip;</td><td>&hellip;</td><td>&hellip;</td><td>&hellip;</td><td>&hellip;</td><td>&hellip;</td><td>&hellip;</td><td>&hellip;</td><td>&hellip;</td><td>&hellip;</td><td>&hellip;</td><td>&hellip;</td><td>&hellip;</td><td>&hellip;</td><td>&hellip;</td><td>&hellip;</td><td>&hellip;</td><td>&hellip;</td><td>&hellip;</td><td>&hellip;</td><td>&hellip;</td><td>&hellip;</td><td>&hellip;</td><td>&hellip;</td><td>&hellip;</td><td>&hellip;</td><td>&hellip;</td><td>&hellip;</td><td>&hellip;</td><td>&hellip;</td><td>&hellip;</td><td>&hellip;</td><td>&hellip;</td><td>&hellip;</td><td>&hellip;</td><td>&hellip;</td><td>&hellip;</td><td>&hellip;</td><td>&hellip;</td><td>&hellip;</td><td>&hellip;</td></tr><tr><td>1062</td><td>1</td><td>174.1746</td><td>123.1215</td><td>104.315</td><td>154.79</td><td>130.037628</td><td>244.1095</td><td>168.0735</td><td>106.266</td><td>288.991</td><td>218.378876</td><td>521.378767</td><td>242.303</td><td>160.289</td><td>366.019</td><td>944.064845</td><td>255.265885</td><td>100.46</td><td>61.601</td><td>293.767</td><td>444.927846</td><td>144.339375</td><td>75.941</td><td>48.521</td><td>110.571</td><td>285.492071</td><td>190.841765</td><td>84.127</td><td>67.949</td><td>188.865</td><td>244.862447</td><td>208.001625</td><td>153.738</td><td>148.567</td><td>162.853</td><td>191.625012</td><td>122.015714</td><td>70.236</td><td>42.605</td><td>101.202</td><td>175.360987</td><td>234.356533</td><td>168.8505</td><td>151.641</td><td>213.279</td><td>163.763334</td><td>143.813577</td><td>134.6755</td><td>123.363</td><td>156.857</td><td>33.101729</td></tr><tr><td>1006</td><td>2</td><td>132.551838</td><td>91.762</td><td>82.827</td><td>101.1</td><td>181.319977</td><td>975.391258</td><td>40.046</td><td>-14.914</td><td>284.344</td><td>3975.022024</td><td>1161.58332</td><td>64.672</td><td>7.137</td><td>114.083</td><td>4626.701287</td><td>-34.294563</td><td>-37.693</td><td>-50.971</td><td>-17.114</td><td>21.470458</td><td>-28.247432</td><td>-31.031</td><td>-55.129</td><td>-15.596</td><td>49.795617</td><td>4.867947</td><td>7.529</td><td>-27.442</td><td>33.442</td><td>40.554149</td><td>-53.777389</td><td>-66.612</td><td>-79.948</td><td>-51.701</td><td>49.157199</td><td>-37.020269</td><td>-40.105</td><td>-68.334</td><td>-8.353</td><td>40.390075</td><td>66.5835</td><td>67.713</td><td>33.695</td><td>94.115</td><td>68.561301</td><td>28.218423</td><td>3.2265</td><td>-15.136</td><td>83.77</td><td>67.645506</td></tr><tr><td>1039</td><td>1</td><td>864.858895</td><td>118.421</td><td>105.874</td><td>171.869</td><td>4155.734754</td><td>464.180941</td><td>181.692</td><td>132.115</td><td>322.295</td><td>832.857869</td><td>221.956312</td><td>209.595</td><td>145.579</td><td>245.393</td><td>98.884162</td><td>119.503182</td><td>56.127</td><td>41.596</td><td>116.458</td><td>195.334508</td><td>176.422457</td><td>81.888</td><td>69.105</td><td>139.895</td><td>256.900473</td><td>133.796071</td><td>104.77</td><td>92.65</td><td>129.678</td><td>101.794849</td><td>185.609933</td><td>184.498</td><td>177.186</td><td>190.408</td><td>18.10605</td><td>116.140643</td><td>101.94</td><td>51.268</td><td>135.145</td><td>90.646403</td><td>225.102938</td><td>216.9875</td><td>116.64</td><td>270.874</td><td>150.083792</td><td>158.009421</td><td>66.48</td><td>50.337</td><td>154.239</td><td>268.09989</td></tr><tr><td>1055</td><td>1</td><td>165.85303</td><td>94.315</td><td>74.56</td><td>139.091</td><td>213.651611</td><td>2200.236333</td><td>99.1305</td><td>21.563</td><td>231.285</td><td>8705.325415</td><td>169.6406</td><td>139.54</td><td>35.856</td><td>358.999</td><td>177.152115</td><td>139.764333</td><td>58.408</td><td>41.62</td><td>122.285</td><td>206.073681</td><td>134.807556</td><td>63.917</td><td>24.097</td><td>136.79</td><td>194.317997</td><td>49.843053</td><td>-0.795</td><td>-15.829</td><td>21.879</td><td>159.192115</td><td>55.65825</td><td>45.2095</td><td>34.909</td><td>88.368</td><td>38.416887</td><td>114.270857</td><td>74.841</td><td>29.339</td><td>138.378</td><td>131.723294</td><td>193.780417</td><td>81.0735</td><td>37.543</td><td>131.258</td><td>350.741778</td><td>9.255059</td><td>-1.519</td><td>-15.703</td><td>26.55</td><td>35.218586</td></tr><tr><td>1054</td><td>2</td><td>110.60007</td><td>101.436</td><td>93.856</td><td>113.451</td><td>38.974649</td><td>185.2732</td><td>109.823</td><td>76.148</td><td>227.439</td><td>207.524284</td><td>451.489432</td><td>65.897</td><td>35.386</td><td>162.1</td><td>1044.297248</td><td>6.235571</td><td>3.812</td><td>-8.149</td><td>26.328</td><td>23.824664</td><td>41.855459</td><td>5.041</td><td>-4.792</td><td>22.614</td><td>205.192865</td><td>71.228565</td><td>53.079</td><td>39.084</td><td>77.96</td><td>64.136285</td><td>35.829467</td><td>26.498</td><td>-20.46</td><td>64.561</td><td>74.267745</td><td>27.007292</td><td>1.4375</td><td>-10.592</td><td>47.068</td><td>72.90299</td><td>78.032667</td><td>39.05</td><td>16.647</td><td>72.047</td><td>136.058717</td><td>46.540115</td><td>29.1705</td><td>18.918</td><td>48.184</td><td>75.38011</td></tr></tbody></table></div>"
      ],
      "text/plain": [
       "shape: (216, 52)\n",
       "┌─────────┬────────────┬────────────┬────────────┬───┬───────────┬──────────┬──────────┬───────────┐\n",
       "│ user_id ┆ session_id ┆ IL_Key.bac ┆ IL_Key.bac ┆ … ┆ IL_th_med ┆ IL_th_q1 ┆ IL_th_q3 ┆ IL_th_std │\n",
       "│ ---     ┆ ---        ┆ kspaceKey. ┆ kspaceKey. ┆   ┆ ian       ┆ ---      ┆ ---      ┆ ---       │\n",
       "│ i64     ┆ i64        ┆ backspace_ ┆ backspace_ ┆   ┆ ---       ┆ f64      ┆ f64      ┆ f64       │\n",
       "│         ┆            ┆ …          ┆ …          ┆   ┆ f64       ┆          ┆          ┆           │\n",
       "│         ┆            ┆ ---        ┆ ---        ┆   ┆           ┆          ┆          ┆           │\n",
       "│         ┆            ┆ f64        ┆ f64        ┆   ┆           ┆          ┆          ┆           │\n",
       "╞═════════╪════════════╪════════════╪════════════╪═══╪═══════════╪══════════╪══════════╪═══════════╡\n",
       "│ 1046    ┆ 2          ┆ 167.902136 ┆ 118.136    ┆ … ┆ 155.306   ┆ 140.223  ┆ 161.459  ┆ 209.85417 │\n",
       "│         ┆            ┆            ┆            ┆   ┆           ┆          ┆          ┆ 1         │\n",
       "│ 1009    ┆ 2          ┆ 90.147929  ┆ 87.9185    ┆ … ┆ 31.9425   ┆ 15.603   ┆ 87.708   ┆ 110.56445 │\n",
       "│         ┆            ┆            ┆            ┆   ┆           ┆          ┆          ┆ 4         │\n",
       "│ 1053    ┆ 1          ┆ 110.445766 ┆ 80.5115    ┆ … ┆ -13.122   ┆ -23.134  ┆ -1.095   ┆ 79.861714 │\n",
       "│ 1012    ┆ 1          ┆ 85.607857  ┆ 76.256     ┆ … ┆ 33.712    ┆ 24.206   ┆ 44.56    ┆ 21.562516 │\n",
       "│ 1056    ┆ 1          ┆ 247.001    ┆ 143.202    ┆ … ┆ 139.399   ┆ 130.609  ┆ 144.075  ┆ 55.928567 │\n",
       "│ …       ┆ …          ┆ …          ┆ …          ┆ … ┆ …         ┆ …        ┆ …        ┆ …         │\n",
       "│ 1062    ┆ 1          ┆ 174.1746   ┆ 123.1215   ┆ … ┆ 134.6755  ┆ 123.363  ┆ 156.857  ┆ 33.101729 │\n",
       "│ 1006    ┆ 2          ┆ 132.551838 ┆ 91.762     ┆ … ┆ 3.2265    ┆ -15.136  ┆ 83.77    ┆ 67.645506 │\n",
       "│ 1039    ┆ 1          ┆ 864.858895 ┆ 118.421    ┆ … ┆ 66.48     ┆ 50.337   ┆ 154.239  ┆ 268.09989 │\n",
       "│ 1055    ┆ 1          ┆ 165.85303  ┆ 94.315     ┆ … ┆ -1.519    ┆ -15.703  ┆ 26.55    ┆ 35.218586 │\n",
       "│ 1054    ┆ 2          ┆ 110.60007  ┆ 101.436    ┆ … ┆ 29.1705   ┆ 18.918   ┆ 48.184   ┆ 75.38011  │\n",
       "└─────────┴────────────┴────────────┴────────────┴───┴───────────┴──────────┴──────────┴───────────┘"
      ]
     },
     "execution_count": 7,
     "metadata": {},
     "output_type": "execute_result"
    }
   ],
   "source": [
    "df_sessions_il = df_sessions[ [\"user_id\", \"session_id\"] + [col for col in df.columns if col.startswith(\"IL_\")] ]\n",
    "df_sessions_il"
   ]
  },
  {
   "cell_type": "code",
   "execution_count": 8,
   "id": "db8a404b-ac24-4863-b106-4ed77fad70a2",
   "metadata": {},
   "outputs": [
    {
     "data": {
      "text/html": [
       "<div><style>\n",
       ".dataframe > thead > tr,\n",
       ".dataframe > tbody > tr {\n",
       "  text-align: right;\n",
       "  white-space: pre-wrap;\n",
       "}\n",
       "</style>\n",
       "<small>shape: (1, 52)</small><table border=\"1\" class=\"dataframe\"><thead><tr><th>user_id</th><th>session_id</th><th>IL_Key.backspaceKey.backspace_mean</th><th>IL_Key.backspaceKey.backspace_median</th><th>IL_Key.backspaceKey.backspace_q1</th><th>IL_Key.backspaceKey.backspace_q3</th><th>IL_Key.backspaceKey.backspace_std</th><th>IL_Key.spacea_mean</th><th>IL_Key.spacea_median</th><th>IL_Key.spacea_q1</th><th>IL_Key.spacea_q3</th><th>IL_Key.spacea_std</th><th>IL_Key.spacet_mean</th><th>IL_Key.spacet_median</th><th>IL_Key.spacet_q1</th><th>IL_Key.spacet_q3</th><th>IL_Key.spacet_std</th><th>IL_dKey.space_mean</th><th>IL_dKey.space_median</th><th>IL_dKey.space_q1</th><th>IL_dKey.space_q3</th><th>IL_dKey.space_std</th><th>IL_eKey.space_mean</th><th>IL_eKey.space_median</th><th>IL_eKey.space_q1</th><th>IL_eKey.space_q3</th><th>IL_eKey.space_std</th><th>IL_he_mean</th><th>IL_he_median</th><th>IL_he_q1</th><th>IL_he_q3</th><th>IL_he_std</th><th>IL_in_mean</th><th>IL_in_median</th><th>IL_in_q1</th><th>IL_in_q3</th><th>IL_in_std</th><th>IL_sKey.space_mean</th><th>IL_sKey.space_median</th><th>IL_sKey.space_q1</th><th>IL_sKey.space_q3</th><th>IL_sKey.space_std</th><th>IL_tKey.space_mean</th><th>IL_tKey.space_median</th><th>IL_tKey.space_q1</th><th>IL_tKey.space_q3</th><th>IL_tKey.space_std</th><th>IL_th_mean</th><th>IL_th_median</th><th>IL_th_q1</th><th>IL_th_q3</th><th>IL_th_std</th></tr><tr><td>u32</td><td>u32</td><td>u32</td><td>u32</td><td>u32</td><td>u32</td><td>u32</td><td>u32</td><td>u32</td><td>u32</td><td>u32</td><td>u32</td><td>u32</td><td>u32</td><td>u32</td><td>u32</td><td>u32</td><td>u32</td><td>u32</td><td>u32</td><td>u32</td><td>u32</td><td>u32</td><td>u32</td><td>u32</td><td>u32</td><td>u32</td><td>u32</td><td>u32</td><td>u32</td><td>u32</td><td>u32</td><td>u32</td><td>u32</td><td>u32</td><td>u32</td><td>u32</td><td>u32</td><td>u32</td><td>u32</td><td>u32</td><td>u32</td><td>u32</td><td>u32</td><td>u32</td><td>u32</td><td>u32</td><td>u32</td><td>u32</td><td>u32</td><td>u32</td><td>u32</td></tr></thead><tbody><tr><td>0</td><td>0</td><td>0</td><td>0</td><td>0</td><td>0</td><td>0</td><td>0</td><td>0</td><td>0</td><td>0</td><td>0</td><td>0</td><td>0</td><td>0</td><td>0</td><td>0</td><td>0</td><td>0</td><td>0</td><td>0</td><td>0</td><td>0</td><td>0</td><td>0</td><td>0</td><td>0</td><td>0</td><td>0</td><td>0</td><td>0</td><td>0</td><td>0</td><td>0</td><td>0</td><td>0</td><td>0</td><td>0</td><td>0</td><td>0</td><td>0</td><td>0</td><td>0</td><td>0</td><td>0</td><td>0</td><td>0</td><td>0</td><td>0</td><td>0</td><td>0</td><td>0</td></tr></tbody></table></div>"
      ],
      "text/plain": [
       "shape: (1, 52)\n",
       "┌─────────┬────────────┬────────────┬────────────┬───┬───────────┬──────────┬──────────┬───────────┐\n",
       "│ user_id ┆ session_id ┆ IL_Key.bac ┆ IL_Key.bac ┆ … ┆ IL_th_med ┆ IL_th_q1 ┆ IL_th_q3 ┆ IL_th_std │\n",
       "│ ---     ┆ ---        ┆ kspaceKey. ┆ kspaceKey. ┆   ┆ ian       ┆ ---      ┆ ---      ┆ ---       │\n",
       "│ u32     ┆ u32        ┆ backspace_ ┆ backspace_ ┆   ┆ ---       ┆ u32      ┆ u32      ┆ u32       │\n",
       "│         ┆            ┆ …          ┆ …          ┆   ┆ u32       ┆          ┆          ┆           │\n",
       "│         ┆            ┆ ---        ┆ ---        ┆   ┆           ┆          ┆          ┆           │\n",
       "│         ┆            ┆ u32        ┆ u32        ┆   ┆           ┆          ┆          ┆           │\n",
       "╞═════════╪════════════╪════════════╪════════════╪═══╪═══════════╪══════════╪══════════╪═══════════╡\n",
       "│ 0       ┆ 0          ┆ 0          ┆ 0          ┆ … ┆ 0         ┆ 0        ┆ 0        ┆ 0         │\n",
       "└─────────┴────────────┴────────────┴────────────┴───┴───────────┴──────────┴──────────┴───────────┘"
      ]
     },
     "execution_count": 8,
     "metadata": {},
     "output_type": "execute_result"
    }
   ],
   "source": [
    "df_sessions_il.select(pl.all().is_nan().sum())\n"
   ]
  },
  {
   "cell_type": "code",
   "execution_count": null,
   "id": "bdc3a389",
   "metadata": {},
   "outputs": [
    {
     "ename": "SyntaxError",
     "evalue": "unmatched ')' (266617291.py, line 4)",
     "output_type": "error",
     "traceback": [
      "  \u001b[36mCell\u001b[39m\u001b[36m \u001b[39m\u001b[32mIn[9]\u001b[39m\u001b[32m, line 4\u001b[39m\n\u001b[31m    \u001b[39m\u001b[31mwith pl.Config(tbl_rows=-1, tbl_cols=2000, max_colwidth=1000):)\u001b[39m\n                                                                  ^\n\u001b[31mSyntaxError\u001b[39m\u001b[31m:\u001b[39m unmatched ')'\n"
     ]
    }
   ],
   "source": [
    "# df_sessions_il.select(pl.all().is_nan().sum())\n",
    "\n",
    "\n",
    "# with pl.Config(tbl_rows=-1, tbl_cols=2000, max_colwidth=1000):)\n",
    "#     for user_id in df_sessions[\"user_id\"].unique():\n",
    "#         # print(user_id)\n",
    "#         user_sessions = df_sessions_il.filter(pl.col(\"user_id\") == user_id)\n",
    "#         # print(user_sessions)\n",
    "#         for session_id in user_sessions[\"session_id\"].unique():\n",
    "#             # print(session_id)\n",
    "#             session_data = user_sessions.filter(pl.col(\"session_id\") == session_id)\n",
    "#             # print(session_data)\n",
    "#             # print columns if they ARE nan\n",
    "#             print(session_data.select(pl.all().is_nan().sum()))\n",
    "#             # print columns if they are NOT nan\n",
    "#             # print(session_data.select(pl.all().is_not_nan().sum()))\n",
    "            \n",
    "            \n",
    "            \n",
    "#             # g = session_data.group_by(session_data.columns[2:]).agg(pl.all().is_nan().sum())\n",
    "            "
   ]
  },
  {
   "cell_type": "code",
   "execution_count": 10,
   "id": "66e84d7b",
   "metadata": {},
   "outputs": [
    {
     "data": {
      "text/html": [
       "<div><style>\n",
       ".dataframe > thead > tr,\n",
       ".dataframe > tbody > tr {\n",
       "  text-align: right;\n",
       "  white-space: pre-wrap;\n",
       "}\n",
       "</style>\n",
       "<small>shape: (1, 52)</small><table border=\"1\" class=\"dataframe\"><thead><tr><th>user_id</th><th>session_id</th><th>IL_Key.backspaceKey.backspace_mean</th><th>IL_Key.backspaceKey.backspace_median</th><th>IL_Key.backspaceKey.backspace_q1</th><th>IL_Key.backspaceKey.backspace_q3</th><th>IL_Key.backspaceKey.backspace_std</th><th>IL_Key.spacea_mean</th><th>IL_Key.spacea_median</th><th>IL_Key.spacea_q1</th><th>IL_Key.spacea_q3</th><th>IL_Key.spacea_std</th><th>IL_Key.spacet_mean</th><th>IL_Key.spacet_median</th><th>IL_Key.spacet_q1</th><th>IL_Key.spacet_q3</th><th>IL_Key.spacet_std</th><th>IL_dKey.space_mean</th><th>IL_dKey.space_median</th><th>IL_dKey.space_q1</th><th>IL_dKey.space_q3</th><th>IL_dKey.space_std</th><th>IL_eKey.space_mean</th><th>IL_eKey.space_median</th><th>IL_eKey.space_q1</th><th>IL_eKey.space_q3</th><th>IL_eKey.space_std</th><th>IL_he_mean</th><th>IL_he_median</th><th>IL_he_q1</th><th>IL_he_q3</th><th>IL_he_std</th><th>IL_in_mean</th><th>IL_in_median</th><th>IL_in_q1</th><th>IL_in_q3</th><th>IL_in_std</th><th>IL_sKey.space_mean</th><th>IL_sKey.space_median</th><th>IL_sKey.space_q1</th><th>IL_sKey.space_q3</th><th>IL_sKey.space_std</th><th>IL_tKey.space_mean</th><th>IL_tKey.space_median</th><th>IL_tKey.space_q1</th><th>IL_tKey.space_q3</th><th>IL_tKey.space_std</th><th>IL_th_mean</th><th>IL_th_median</th><th>IL_th_q1</th><th>IL_th_q3</th><th>IL_th_std</th></tr><tr><td>u32</td><td>u32</td><td>u32</td><td>u32</td><td>u32</td><td>u32</td><td>u32</td><td>u32</td><td>u32</td><td>u32</td><td>u32</td><td>u32</td><td>u32</td><td>u32</td><td>u32</td><td>u32</td><td>u32</td><td>u32</td><td>u32</td><td>u32</td><td>u32</td><td>u32</td><td>u32</td><td>u32</td><td>u32</td><td>u32</td><td>u32</td><td>u32</td><td>u32</td><td>u32</td><td>u32</td><td>u32</td><td>u32</td><td>u32</td><td>u32</td><td>u32</td><td>u32</td><td>u32</td><td>u32</td><td>u32</td><td>u32</td><td>u32</td><td>u32</td><td>u32</td><td>u32</td><td>u32</td><td>u32</td><td>u32</td><td>u32</td><td>u32</td><td>u32</td><td>u32</td></tr></thead><tbody><tr><td>0</td><td>0</td><td>0</td><td>0</td><td>0</td><td>0</td><td>0</td><td>0</td><td>0</td><td>0</td><td>0</td><td>0</td><td>0</td><td>0</td><td>0</td><td>0</td><td>0</td><td>0</td><td>0</td><td>0</td><td>0</td><td>0</td><td>0</td><td>0</td><td>0</td><td>0</td><td>0</td><td>0</td><td>0</td><td>0</td><td>0</td><td>0</td><td>0</td><td>0</td><td>0</td><td>0</td><td>0</td><td>0</td><td>0</td><td>0</td><td>0</td><td>0</td><td>0</td><td>0</td><td>0</td><td>0</td><td>0</td><td>0</td><td>0</td><td>0</td><td>0</td><td>0</td></tr></tbody></table></div>"
      ],
      "text/plain": [
       "shape: (1, 52)\n",
       "┌─────────┬────────────┬────────────┬────────────┬───┬───────────┬──────────┬──────────┬───────────┐\n",
       "│ user_id ┆ session_id ┆ IL_Key.bac ┆ IL_Key.bac ┆ … ┆ IL_th_med ┆ IL_th_q1 ┆ IL_th_q3 ┆ IL_th_std │\n",
       "│ ---     ┆ ---        ┆ kspaceKey. ┆ kspaceKey. ┆   ┆ ian       ┆ ---      ┆ ---      ┆ ---       │\n",
       "│ u32     ┆ u32        ┆ backspace_ ┆ backspace_ ┆   ┆ ---       ┆ u32      ┆ u32      ┆ u32       │\n",
       "│         ┆            ┆ …          ┆ …          ┆   ┆ u32       ┆          ┆          ┆           │\n",
       "│         ┆            ┆ ---        ┆ ---        ┆   ┆           ┆          ┆          ┆           │\n",
       "│         ┆            ┆ u32        ┆ u32        ┆   ┆           ┆          ┆          ┆           │\n",
       "╞═════════╪════════════╪════════════╪════════════╪═══╪═══════════╪══════════╪══════════╪═══════════╡\n",
       "│ 0       ┆ 0          ┆ 0          ┆ 0          ┆ … ┆ 0         ┆ 0        ┆ 0        ┆ 0         │\n",
       "└─────────┴────────────┴────────────┴────────────┴───┴───────────┴──────────┴──────────┴───────────┘"
      ]
     },
     "execution_count": 10,
     "metadata": {},
     "output_type": "execute_result"
    }
   ],
   "source": [
    "df_sessions_il.select(pl.all().is_nan().sum())\n"
   ]
  },
  {
   "cell_type": "code",
   "execution_count": null,
   "id": "ce190019",
   "metadata": {},
   "outputs": [],
   "source": []
  },
  {
   "cell_type": "markdown",
   "id": "77b2b037",
   "metadata": {},
   "source": [
    "# Platform, session, video\n"
   ]
  },
  {
   "cell_type": "code",
   "execution_count": 11,
   "id": "c42424fa",
   "metadata": {},
   "outputs": [
    {
     "data": {
      "text/html": [
       "<div><style>\n",
       ".dataframe > thead > tr,\n",
       ".dataframe > tbody > tr {\n",
       "  text-align: right;\n",
       "  white-space: pre-wrap;\n",
       "}\n",
       "</style>\n",
       "<small>shape: (648, 769)</small><table border=\"1\" class=\"dataframe\"><thead><tr><th>user_id</th><th>platform_id</th><th>session_id</th><th>video_id</th><th>HL_!_mean</th><th>HL_!_median</th><th>HL_!_q1</th><th>HL_!_q3</th><th>HL_!_std</th><th>HL_&quot;&quot;&quot;&quot;_mean</th><th>HL_&quot;&quot;&quot;&quot;_median</th><th>HL_&quot;&quot;&quot;&quot;_q1</th><th>HL_&quot;&quot;&quot;&quot;_q3</th><th>HL_&quot;&quot;&quot;&quot;_std</th><th>HL_&quot;&quot;_mean</th><th>HL_&quot;&quot;_median</th><th>HL_&quot;&quot;_q1</th><th>HL_&quot;&quot;_q3</th><th>HL_&quot;&quot;_std</th><th>HL_&quot;&quot;its&quot;&quot;_mean</th><th>HL_&quot;&quot;its&quot;&quot;_median</th><th>HL_&quot;&quot;its&quot;&quot;_q1</th><th>HL_&quot;&quot;its&quot;&quot;_q3</th><th>HL_&quot;&quot;its&quot;&quot;_std</th><th>HL_&quot;&quot;wouldve&quot;&quot;_mean</th><th>HL_&quot;&quot;wouldve&quot;&quot;_median</th><th>HL_&quot;&quot;wouldve&quot;&quot;_q1</th><th>HL_&quot;&quot;wouldve&quot;&quot;_q3</th><th>HL_&quot;&quot;wouldve&quot;&quot;_std</th><th>HL_%_mean</th><th>HL_%_median</th><th>HL_%_q1</th><th>HL_%_q3</th><th>HL_%_std</th><th>HL_&amp;_mean</th><th>HL_&amp;_median</th><th>HL_&amp;_q1</th><th>&hellip;</th><th>IL_Key.spacet_q3</th><th>IL_Key.spacet_std</th><th>IL_dKey.space_mean</th><th>IL_dKey.space_median</th><th>IL_dKey.space_q1</th><th>IL_dKey.space_q3</th><th>IL_dKey.space_std</th><th>IL_eKey.space_mean</th><th>IL_eKey.space_median</th><th>IL_eKey.space_q1</th><th>IL_eKey.space_q3</th><th>IL_eKey.space_std</th><th>IL_he_mean</th><th>IL_he_median</th><th>IL_he_q1</th><th>IL_he_q3</th><th>IL_he_std</th><th>IL_in_mean</th><th>IL_in_median</th><th>IL_in_q1</th><th>IL_in_q3</th><th>IL_in_std</th><th>IL_sKey.space_mean</th><th>IL_sKey.space_median</th><th>IL_sKey.space_q1</th><th>IL_sKey.space_q3</th><th>IL_sKey.space_std</th><th>IL_tKey.space_mean</th><th>IL_tKey.space_median</th><th>IL_tKey.space_q1</th><th>IL_tKey.space_q3</th><th>IL_tKey.space_std</th><th>IL_th_mean</th><th>IL_th_median</th><th>IL_th_q1</th><th>IL_th_q3</th><th>IL_th_std</th></tr><tr><td>i64</td><td>i64</td><td>i64</td><td>i64</td><td>f64</td><td>f64</td><td>f64</td><td>f64</td><td>f64</td><td>f64</td><td>f64</td><td>f64</td><td>f64</td><td>f64</td><td>f64</td><td>f64</td><td>f64</td><td>f64</td><td>f64</td><td>f64</td><td>f64</td><td>f64</td><td>f64</td><td>f64</td><td>f64</td><td>f64</td><td>f64</td><td>f64</td><td>f64</td><td>f64</td><td>f64</td><td>f64</td><td>f64</td><td>f64</td><td>f64</td><td>f64</td><td>f64</td><td>&hellip;</td><td>f64</td><td>f64</td><td>f64</td><td>f64</td><td>f64</td><td>f64</td><td>f64</td><td>f64</td><td>f64</td><td>f64</td><td>f64</td><td>f64</td><td>f64</td><td>f64</td><td>f64</td><td>f64</td><td>f64</td><td>f64</td><td>f64</td><td>f64</td><td>f64</td><td>f64</td><td>f64</td><td>f64</td><td>f64</td><td>f64</td><td>f64</td><td>f64</td><td>f64</td><td>f64</td><td>f64</td><td>f64</td><td>f64</td><td>f64</td><td>f64</td><td>f64</td><td>f64</td></tr></thead><tbody><tr><td>1008</td><td>1</td><td>2</td><td>1</td><td>0.0</td><td>0.0</td><td>0.0</td><td>0.0</td><td>0.0</td><td>72.366</td><td>72.366</td><td>72.366</td><td>72.366</td><td>0.0</td><td>0.0</td><td>0.0</td><td>0.0</td><td>0.0</td><td>0.0</td><td>0.0</td><td>0.0</td><td>0.0</td><td>0.0</td><td>0.0</td><td>0.0</td><td>0.0</td><td>0.0</td><td>0.0</td><td>0.0</td><td>0.0</td><td>0.0</td><td>0.0</td><td>0.0</td><td>0.0</td><td>0.0</td><td>0.0</td><td>0.0</td><td>&hellip;</td><td>46.901</td><td>67.07624</td><td>5.891</td><td>5.891</td><td>5.891</td><td>5.891</td><td>0.0</td><td>-6.684286</td><td>4.039</td><td>1.216</td><td>13.688</td><td>38.267976</td><td>23.576</td><td>22.5885</td><td>8.322</td><td>36.855</td><td>25.116736</td><td>26.519</td><td>26.519</td><td>-60.468</td><td>113.506</td><td>123.018195</td><td>11.2852</td><td>3.877</td><td>0.833</td><td>26.706</td><td>30.055084</td><td>44.3034</td><td>55.295</td><td>20.269</td><td>69.415</td><td>35.300003</td><td>9.042857</td><td>7.941</td><td>7.152</td><td>19.564</td><td>9.803363</td></tr><tr><td>1063</td><td>1</td><td>1</td><td>2</td><td>51.86</td><td>51.86</td><td>51.86</td><td>51.86</td><td>0.0</td><td>72.85425</td><td>68.2975</td><td>64.64</td><td>71.955</td><td>16.292985</td><td>76.9535</td><td>68.5595</td><td>65.271</td><td>71.848</td><td>20.74778</td><td>0.0</td><td>0.0</td><td>0.0</td><td>0.0</td><td>0.0</td><td>0.0</td><td>0.0</td><td>0.0</td><td>0.0</td><td>0.0</td><td>0.0</td><td>0.0</td><td>0.0</td><td>0.0</td><td>0.0</td><td>0.0</td><td>0.0</td><td>0.0</td><td>&hellip;</td><td>201.029</td><td>200.943865</td><td>56.25305</td><td>57.137</td><td>29.617</td><td>78.185</td><td>35.718138</td><td>147.3805</td><td>26.5005</td><td>11.69</td><td>53.085</td><td>393.80012</td><td>51.895</td><td>50.089</td><td>36.021</td><td>64.329</td><td>18.506658</td><td>117.744941</td><td>114.367</td><td>99.693</td><td>126.73</td><td>26.782608</td><td>327.666562</td><td>59.8015</td><td>41.729</td><td>73.433</td><td>899.199988</td><td>48.750526</td><td>44.659</td><td>34.402</td><td>64.481</td><td>82.462732</td><td>51.807824</td><td>40.456</td><td>33.89</td><td>63.902</td><td>28.276781</td></tr><tr><td>1005</td><td>2</td><td>2</td><td>2</td><td>80.2645</td><td>80.2645</td><td>72.427</td><td>88.102</td><td>11.083899</td><td>79.921</td><td>79.921</td><td>79.921</td><td>79.921</td><td>0.0</td><td>0.0</td><td>0.0</td><td>0.0</td><td>0.0</td><td>0.0</td><td>0.0</td><td>0.0</td><td>0.0</td><td>0.0</td><td>0.0</td><td>0.0</td><td>0.0</td><td>0.0</td><td>0.0</td><td>0.0</td><td>0.0</td><td>0.0</td><td>0.0</td><td>0.0</td><td>0.0</td><td>0.0</td><td>0.0</td><td>0.0</td><td>&hellip;</td><td>40.158</td><td>54.490409</td><td>-54.174</td><td>-54.174</td><td>-68.184</td><td>-40.164</td><td>19.813132</td><td>-46.023889</td><td>-40.007</td><td>-64.154</td><td>-39.94</td><td>24.473131</td><td>31.8998</td><td>32.011</td><td>24.082</td><td>47.813</td><td>16.954612</td><td>42.890333</td><td>39.883</td><td>39.883</td><td>72.643</td><td>28.368804</td><td>-32.2575</td><td>-35.4515</td><td>-47.737</td><td>-15.367</td><td>19.876421</td><td>-19.053636</td><td>-15.685</td><td>-28.583</td><td>-7.544</td><td>24.016507</td><td>31.242625</td><td>-7.593</td><td>-14.724</td><td>24.026</td><td>102.368982</td></tr><tr><td>1045</td><td>1</td><td>1</td><td>1</td><td>0.0</td><td>0.0</td><td>0.0</td><td>0.0</td><td>0.0</td><td>0.0</td><td>0.0</td><td>0.0</td><td>0.0</td><td>0.0</td><td>67.481</td><td>67.481</td><td>66.475</td><td>68.487</td><td>1.422699</td><td>0.0</td><td>0.0</td><td>0.0</td><td>0.0</td><td>0.0</td><td>0.0</td><td>0.0</td><td>0.0</td><td>0.0</td><td>0.0</td><td>0.0</td><td>0.0</td><td>0.0</td><td>0.0</td><td>0.0</td><td>0.0</td><td>0.0</td><td>0.0</td><td>&hellip;</td><td>257.724</td><td>179.002214</td><td>105.715533</td><td>75.498</td><td>46.203</td><td>127.374</td><td>141.597182</td><td>96.534045</td><td>77.377</td><td>65.365</td><td>85.947</td><td>80.214193</td><td>83.7805</td><td>64.308</td><td>38.312</td><td>103.568</td><td>78.607055</td><td>213.314563</td><td>169.8915</td><td>161.518</td><td>194.871</td><td>137.602749</td><td>184.065333</td><td>59.275</td><td>45.993</td><td>279.883</td><td>216.174365</td><td>193.373538</td><td>176.169</td><td>165.515</td><td>200.092</td><td>68.391366</td><td>121.644176</td><td>122.863</td><td>113.737</td><td>143.564</td><td>34.579507</td></tr><tr><td>1047</td><td>2</td><td>1</td><td>3</td><td>0.0</td><td>0.0</td><td>0.0</td><td>0.0</td><td>0.0</td><td>78.64825</td><td>80.025</td><td>73.212</td><td>86.838</td><td>16.400022</td><td>102.815</td><td>102.815</td><td>102.815</td><td>102.815</td><td>0.0</td><td>0.0</td><td>0.0</td><td>0.0</td><td>0.0</td><td>0.0</td><td>0.0</td><td>0.0</td><td>0.0</td><td>0.0</td><td>0.0</td><td>0.0</td><td>0.0</td><td>0.0</td><td>0.0</td><td>0.0</td><td>0.0</td><td>0.0</td><td>0.0</td><td>&hellip;</td><td>242.047</td><td>120.078123</td><td>32.0535</td><td>8.8875</td><td>5.184</td><td>34.436</td><td>57.92301</td><td>110.978912</td><td>13.439</td><td>-7.307</td><td>70.12</td><td>331.896793</td><td>54.855929</td><td>15.692</td><td>6.454</td><td>37.109</td><td>141.279805</td><td>51.21881</td><td>42.924</td><td>28.922</td><td>71.01</td><td>34.622669</td><td>34.67735</td><td>19.19</td><td>1.354</td><td>41.463</td><td>59.712156</td><td>26.975833</td><td>1.557</td><td>-23.533</td><td>37.858</td><td>99.009357</td><td>46.26572</td><td>21.141</td><td>-1.344</td><td>52.773</td><td>72.212178</td></tr><tr><td>&hellip;</td><td>&hellip;</td><td>&hellip;</td><td>&hellip;</td><td>&hellip;</td><td>&hellip;</td><td>&hellip;</td><td>&hellip;</td><td>&hellip;</td><td>&hellip;</td><td>&hellip;</td><td>&hellip;</td><td>&hellip;</td><td>&hellip;</td><td>&hellip;</td><td>&hellip;</td><td>&hellip;</td><td>&hellip;</td><td>&hellip;</td><td>&hellip;</td><td>&hellip;</td><td>&hellip;</td><td>&hellip;</td><td>&hellip;</td><td>&hellip;</td><td>&hellip;</td><td>&hellip;</td><td>&hellip;</td><td>&hellip;</td><td>&hellip;</td><td>&hellip;</td><td>&hellip;</td><td>&hellip;</td><td>&hellip;</td><td>&hellip;</td><td>&hellip;</td><td>&hellip;</td><td>&hellip;</td><td>&hellip;</td><td>&hellip;</td><td>&hellip;</td><td>&hellip;</td><td>&hellip;</td><td>&hellip;</td><td>&hellip;</td><td>&hellip;</td><td>&hellip;</td><td>&hellip;</td><td>&hellip;</td><td>&hellip;</td><td>&hellip;</td><td>&hellip;</td><td>&hellip;</td><td>&hellip;</td><td>&hellip;</td><td>&hellip;</td><td>&hellip;</td><td>&hellip;</td><td>&hellip;</td><td>&hellip;</td><td>&hellip;</td><td>&hellip;</td><td>&hellip;</td><td>&hellip;</td><td>&hellip;</td><td>&hellip;</td><td>&hellip;</td><td>&hellip;</td><td>&hellip;</td><td>&hellip;</td><td>&hellip;</td><td>&hellip;</td><td>&hellip;</td><td>&hellip;</td><td>&hellip;</td></tr><tr><td>1009</td><td>2</td><td>1</td><td>1</td><td>0.0</td><td>0.0</td><td>0.0</td><td>0.0</td><td>0.0</td><td>0.0</td><td>0.0</td><td>0.0</td><td>0.0</td><td>0.0</td><td>95.906</td><td>95.906</td><td>95.906</td><td>95.906</td><td>0.0</td><td>0.0</td><td>0.0</td><td>0.0</td><td>0.0</td><td>0.0</td><td>0.0</td><td>0.0</td><td>0.0</td><td>0.0</td><td>0.0</td><td>0.0</td><td>0.0</td><td>0.0</td><td>0.0</td><td>0.0</td><td>0.0</td><td>0.0</td><td>0.0</td><td>&hellip;</td><td>304.041</td><td>117.771248</td><td>7.991</td><td>7.991</td><td>7.991</td><td>7.991</td><td>0.0</td><td>157.348667</td><td>52.149</td><td>47.628</td><td>112.031</td><td>241.95636</td><td>95.979</td><td>95.979</td><td>95.979</td><td>95.979</td><td>0.0</td><td>95.9075</td><td>95.9075</td><td>87.773</td><td>104.042</td><td>11.50392</td><td>-5.176333</td><td>-7.489</td><td>-7.489</td><td>7.962</td><td>12.148236</td><td>55.984</td><td>56.033</td><td>56.033</td><td>71.968</td><td>16.008556</td><td>74.705333</td><td>95.95</td><td>95.95</td><td>120.058</td><td>58.921155</td></tr><tr><td>1054</td><td>2</td><td>2</td><td>2</td><td>0.0</td><td>0.0</td><td>0.0</td><td>0.0</td><td>0.0</td><td>0.0</td><td>0.0</td><td>0.0</td><td>0.0</td><td>0.0</td><td>0.0</td><td>0.0</td><td>0.0</td><td>0.0</td><td>0.0</td><td>0.0</td><td>0.0</td><td>0.0</td><td>0.0</td><td>0.0</td><td>0.0</td><td>0.0</td><td>0.0</td><td>0.0</td><td>0.0</td><td>0.0</td><td>0.0</td><td>0.0</td><td>0.0</td><td>0.0</td><td>0.0</td><td>0.0</td><td>0.0</td><td>&hellip;</td><td>602.75</td><td>1179.801601</td><td>-14.14725</td><td>-15.1165</td><td>-18.589</td><td>-11.644</td><td>13.319448</td><td>14.249357</td><td>13.307</td><td>3.734</td><td>24.344</td><td>16.62785</td><td>39.822571</td><td>49.62</td><td>40.453</td><td>53.421</td><td>22.973234</td><td>4.17525</td><td>-1.611</td><td>-20.157</td><td>16.935</td><td>30.65406</td><td>-17.303125</td><td>-23.988</td><td>-51.722</td><td>1.277</td><td>47.385693</td><td>18.725417</td><td>14.102</td><td>1.485</td><td>32.36</td><td>24.823595</td><td>27.0525</td><td>16.3325</td><td>6.009</td><td>43.585</td><td>48.304495</td></tr><tr><td>1045</td><td>2</td><td>2</td><td>2</td><td>0.0</td><td>0.0</td><td>0.0</td><td>0.0</td><td>0.0</td><td>0.0</td><td>0.0</td><td>0.0</td><td>0.0</td><td>0.0</td><td>92.291</td><td>92.291</td><td>87.501</td><td>97.081</td><td>6.774083</td><td>0.0</td><td>0.0</td><td>0.0</td><td>0.0</td><td>0.0</td><td>0.0</td><td>0.0</td><td>0.0</td><td>0.0</td><td>0.0</td><td>0.0</td><td>0.0</td><td>0.0</td><td>0.0</td><td>0.0</td><td>0.0</td><td>0.0</td><td>0.0</td><td>&hellip;</td><td>195.919</td><td>826.145195</td><td>59.176308</td><td>28.405</td><td>6.157</td><td>60.16</td><td>114.550581</td><td>61.015143</td><td>47.338</td><td>20.684</td><td>59.193</td><td>104.892655</td><td>56.509182</td><td>56.279</td><td>31.413</td><td>90.925</td><td>35.111988</td><td>139.876429</td><td>142.875</td><td>140.561</td><td>148.11</td><td>10.575597</td><td>38.118889</td><td>40.148</td><td>13.387</td><td>54.471</td><td>26.480428</td><td>128.327231</td><td>165.105</td><td>69.303</td><td>170.875</td><td>63.004532</td><td>105.712818</td><td>101.296</td><td>92.346</td><td>132.763</td><td>28.523626</td></tr><tr><td>1049</td><td>3</td><td>2</td><td>1</td><td>0.0</td><td>0.0</td><td>0.0</td><td>0.0</td><td>0.0</td><td>119.52</td><td>119.52</td><td>119.52</td><td>119.52</td><td>0.0</td><td>0.0</td><td>0.0</td><td>0.0</td><td>0.0</td><td>0.0</td><td>0.0</td><td>0.0</td><td>0.0</td><td>0.0</td><td>0.0</td><td>0.0</td><td>0.0</td><td>0.0</td><td>0.0</td><td>0.0</td><td>0.0</td><td>0.0</td><td>0.0</td><td>0.0</td><td>0.0</td><td>0.0</td><td>0.0</td><td>0.0</td><td>&hellip;</td><td>175.178</td><td>349.832359</td><td>74.230333</td><td>21.204</td><td>-12.086</td><td>37.547</td><td>188.171939</td><td>349.102286</td><td>25.828</td><td>2.076</td><td>160.74</td><td>842.253481</td><td>84.751625</td><td>34.183</td><td>30.727</td><td>160.86</td><td>84.987242</td><td>-47.494714</td><td>-61.371</td><td>-67.255</td><td>-34.93</td><td>55.363311</td><td>1134.804667</td><td>182.147</td><td>10.77</td><td>2434.723</td><td>1583.301593</td><td>117.286667</td><td>26.0</td><td>10.971</td><td>85.378</td><td>290.368072</td><td>18.979556</td><td>31.001</td><td>-3.283</td><td>39.236</td><td>30.476001</td></tr><tr><td>1029</td><td>3</td><td>2</td><td>1</td><td>0.0</td><td>0.0</td><td>0.0</td><td>0.0</td><td>0.0</td><td>0.0</td><td>0.0</td><td>0.0</td><td>0.0</td><td>0.0</td><td>0.0</td><td>0.0</td><td>0.0</td><td>0.0</td><td>0.0</td><td>0.0</td><td>0.0</td><td>0.0</td><td>0.0</td><td>0.0</td><td>0.0</td><td>0.0</td><td>0.0</td><td>0.0</td><td>0.0</td><td>0.0</td><td>0.0</td><td>0.0</td><td>0.0</td><td>0.0</td><td>0.0</td><td>0.0</td><td>0.0</td><td>&hellip;</td><td>611.835</td><td>289.79885</td><td>-41.281</td><td>-41.281</td><td>-41.281</td><td>-41.281</td><td>0.0</td><td>1.687571</td><td>0.65</td><td>-19.947</td><td>46.702</td><td>49.282496</td><td>60.829</td><td>60.425</td><td>41.871</td><td>79.074</td><td>22.910045</td><td>114.566</td><td>114.566</td><td>114.566</td><td>114.566</td><td>0.0</td><td>11.746</td><td>12.941</td><td>12.941</td><td>19.548</td><td>8.463015</td><td>48.5835</td><td>48.5835</td><td>42.398</td><td>54.769</td><td>8.747618</td><td>169.7584</td><td>107.095</td><td>105.573</td><td>109.571</td><td>206.067803</td></tr></tbody></table></div>"
      ],
      "text/plain": [
       "shape: (648, 769)\n",
       "┌─────────┬────────────┬────────────┬──────────┬───┬────────────┬──────────┬──────────┬────────────┐\n",
       "│ user_id ┆ platform_i ┆ session_id ┆ video_id ┆ … ┆ IL_th_medi ┆ IL_th_q1 ┆ IL_th_q3 ┆ IL_th_std  │\n",
       "│ ---     ┆ d          ┆ ---        ┆ ---      ┆   ┆ an         ┆ ---      ┆ ---      ┆ ---        │\n",
       "│ i64     ┆ ---        ┆ i64        ┆ i64      ┆   ┆ ---        ┆ f64      ┆ f64      ┆ f64        │\n",
       "│         ┆ i64        ┆            ┆          ┆   ┆ f64        ┆          ┆          ┆            │\n",
       "╞═════════╪════════════╪════════════╪══════════╪═══╪════════════╪══════════╪══════════╪════════════╡\n",
       "│ 1008    ┆ 1          ┆ 2          ┆ 1        ┆ … ┆ 7.941      ┆ 7.152    ┆ 19.564   ┆ 9.803363   │\n",
       "│ 1063    ┆ 1          ┆ 1          ┆ 2        ┆ … ┆ 40.456     ┆ 33.89    ┆ 63.902   ┆ 28.276781  │\n",
       "│ 1005    ┆ 2          ┆ 2          ┆ 2        ┆ … ┆ -7.593     ┆ -14.724  ┆ 24.026   ┆ 102.368982 │\n",
       "│ 1045    ┆ 1          ┆ 1          ┆ 1        ┆ … ┆ 122.863    ┆ 113.737  ┆ 143.564  ┆ 34.579507  │\n",
       "│ 1047    ┆ 2          ┆ 1          ┆ 3        ┆ … ┆ 21.141     ┆ -1.344   ┆ 52.773   ┆ 72.212178  │\n",
       "│ …       ┆ …          ┆ …          ┆ …        ┆ … ┆ …          ┆ …        ┆ …        ┆ …          │\n",
       "│ 1009    ┆ 2          ┆ 1          ┆ 1        ┆ … ┆ 95.95      ┆ 95.95    ┆ 120.058  ┆ 58.921155  │\n",
       "│ 1054    ┆ 2          ┆ 2          ┆ 2        ┆ … ┆ 16.3325    ┆ 6.009    ┆ 43.585   ┆ 48.304495  │\n",
       "│ 1045    ┆ 2          ┆ 2          ┆ 2        ┆ … ┆ 101.296    ┆ 92.346   ┆ 132.763  ┆ 28.523626  │\n",
       "│ 1049    ┆ 3          ┆ 2          ┆ 1        ┆ … ┆ 31.001     ┆ -3.283   ┆ 39.236   ┆ 30.476001  │\n",
       "│ 1029    ┆ 3          ┆ 2          ┆ 1        ┆ … ┆ 107.095    ┆ 105.573  ┆ 109.571  ┆ 206.067803 │\n",
       "└─────────┴────────────┴────────────┴──────────┴───┴────────────┴──────────┴──────────┴────────────┘"
      ]
     },
     "execution_count": 11,
     "metadata": {},
     "output_type": "execute_result"
    }
   ],
   "source": [
    "filepath = \"ml_experiments/imputation_global/dataset_3_full.csv\"\n",
    "df_video = pl.read_csv(filepath, has_header=True)\n",
    "df_video"
   ]
  },
  {
   "cell_type": "code",
   "execution_count": null,
   "id": "970cf2b6",
   "metadata": {},
   "outputs": [],
   "source": [
    "df_video_il = df_video[ [\"user_id\", \"session_id\", \"video_id\"] + [col for col in df.columns if col.startswith(\"IL_\")] ]\n",
    "df_video_il"
   ]
  },
  {
   "cell_type": "code",
   "execution_count": null,
   "id": "14502dd2",
   "metadata": {},
   "outputs": [],
   "source": [
    "df_video_il.select(pl.all().is_nan()).sum()"
   ]
  },
  {
   "cell_type": "code",
   "execution_count": 14,
   "id": "d4c80f5c",
   "metadata": {},
   "outputs": [
    {
     "data": {
      "text/html": [
       "<div><style>\n",
       ".dataframe > thead > tr,\n",
       ".dataframe > tbody > tr {\n",
       "  text-align: right;\n",
       "  white-space: pre-wrap;\n",
       "}\n",
       "</style>\n",
       "<small>shape: (273_548, 19)</small><table border=\"1\" class=\"dataframe\"><thead><tr><th>user_id</th><th>platform_id</th><th>video_id</th><th>session_id</th><th>sequence_id</th><th>key1</th><th>key2</th><th>key1_press</th><th>key1_release</th><th>key2_press</th><th>key2_release</th><th>HL</th><th>IL</th><th>PL</th><th>RL</th><th>key1_timestamp</th><th>valid</th><th>error_description</th><th>outlier</th></tr><tr><td>i64</td><td>i64</td><td>i64</td><td>i64</td><td>i64</td><td>str</td><td>str</td><td>f64</td><td>f64</td><td>f64</td><td>f64</td><td>f64</td><td>f64</td><td>f64</td><td>f64</td><td>i64</td><td>bool</td><td>str</td><td>bool</td></tr></thead><tbody><tr><td>1056</td><td>2</td><td>1</td><td>1</td><td>0</td><td>&quot;Key.tab&quot;</td><td>&quot;Key.caps_lock&quot;</td><td>1.7333e18</td><td>1.7333e18</td><td>1.7333e18</td><td>1.7333e18</td><td>1.6379e7</td><td>6.40879e8</td><td>6.57258e8</td><td>6.41461e8</td><td>1733257624132830000</td><td>true</td><td>&quot;No error&quot;</td><td>false</td></tr><tr><td>1056</td><td>2</td><td>1</td><td>1</td><td>1</td><td>&quot;Key.caps_lock&quot;</td><td>&quot;M&quot;</td><td>1.7333e18</td><td>1.7333e18</td><td>1.7333e18</td><td>1.7333e18</td><td>582000.0</td><td>9.98291e8</td><td>9.98873e8</td><td>1.0813e9</td><td>1733257624790088000</td><td>true</td><td>&quot;No error&quot;</td><td>false</td></tr><tr><td>1056</td><td>2</td><td>1</td><td>1</td><td>2</td><td>&quot;M&quot;</td><td>&quot;M&quot;</td><td>1.7333e18</td><td>1.7333e18</td><td>1.7333e18</td><td>1.7333e18</td><td>8.3045e7</td><td>3.1907e9</td><td>3.2738e9</td><td>3.2628e9</td><td>1733257625788961000</td><td>true</td><td>&quot;No error&quot;</td><td>false</td></tr><tr><td>1056</td><td>2</td><td>1</td><td>1</td><td>3</td><td>&quot;M&quot;</td><td>&quot;Key.caps_lock&quot;</td><td>1.7333e18</td><td>1.7333e18</td><td>1.7333e18</td><td>1.7333e18</td><td>7.2116e7</td><td>6.08728e8</td><td>6.80844e8</td><td>6.09335e8</td><td>1733257629062726000</td><td>true</td><td>&quot;No error&quot;</td><td>false</td></tr><tr><td>1056</td><td>2</td><td>1</td><td>1</td><td>4</td><td>&quot;Key.caps_lock&quot;</td><td>&quot;y&quot;</td><td>1.7333e18</td><td>1.7333e18</td><td>1.7333e18</td><td>1.7333e18</td><td>607000.0</td><td>4.95765e8</td><td>4.96372e8</td><td>5.65721e8</td><td>1733257629743570000</td><td>true</td><td>&quot;No error&quot;</td><td>false</td></tr><tr><td>&hellip;</td><td>&hellip;</td><td>&hellip;</td><td>&hellip;</td><td>&hellip;</td><td>&hellip;</td><td>&hellip;</td><td>&hellip;</td><td>&hellip;</td><td>&hellip;</td><td>&hellip;</td><td>&hellip;</td><td>&hellip;</td><td>&hellip;</td><td>&hellip;</td><td>&hellip;</td><td>&hellip;</td><td>&hellip;</td><td>&hellip;</td></tr><tr><td>1012</td><td>2</td><td>2</td><td>2</td><td>304</td><td>&quot;.&quot;</td><td>&quot;Key.space&quot;</td><td>1.6524e18</td><td>1.6524e18</td><td>1.6524e18</td><td>1.6524e18</td><td>5.882e7</td><td>1.29055e8</td><td>1.87875e8</td><td>1.9042e8</td><td>1652376430245292000</td><td>true</td><td>&quot;No error&quot;</td><td>false</td></tr><tr><td>1012</td><td>2</td><td>2</td><td>2</td><td>305</td><td>&quot;Key.space&quot;</td><td>&quot;Key.cmd&quot;</td><td>1.6524e18</td><td>1.6524e18</td><td>1.6524e18</td><td>1.6524e18</td><td>6.1365e7</td><td>1.4324e10</td><td>1.4386e10</td><td>1.4664e10</td><td>1652376430433167000</td><td>true</td><td>&quot;No error&quot;</td><td>true</td></tr><tr><td>1012</td><td>2</td><td>2</td><td>2</td><td>306</td><td>&quot;Key.cmd&quot;</td><td>&quot;Key.tab&quot;</td><td>1.6524e18</td><td>1.6524e18</td><td>1.6524e18</td><td>1.6524e18</td><td>3.39675e8</td><td>-7.1951e7</td><td>2.67724e8</td><td>4.3282e7</td><td>1652376444818980000</td><td>true</td><td>&quot;No error&quot;</td><td>true</td></tr><tr><td>1012</td><td>2</td><td>2</td><td>2</td><td>307</td><td>&quot;Key.tab&quot;</td><td>&quot;Key.ctrl&quot;</td><td>1.6524e18</td><td>1.6524e18</td><td>1.6524e18</td><td>null</td><td>1.15233e8</td><td>null</td><td>null</td><td>null</td><td>1652376445086704000</td><td>false</td><td>&quot;Missing key2 release&quot;</td><td>false</td></tr><tr><td>1012</td><td>2</td><td>2</td><td>2</td><td>308</td><td>&quot;Key.ctrl&quot;</td><td>&quot;c&quot;</td><td>1.6524e18</td><td>null</td><td>1.6524e18</td><td>null</td><td>null</td><td>null</td><td>null</td><td>null</td><td>1652376447078023000</td><td>false</td><td>&quot;Missing key2 release&quot;</td><td>false</td></tr></tbody></table></div>"
      ],
      "text/plain": [
       "shape: (273_548, 19)\n",
       "┌─────────┬─────────────┬──────────┬────────────┬───┬──────────────┬───────┬─────────────┬─────────┐\n",
       "│ user_id ┆ platform_id ┆ video_id ┆ session_id ┆ … ┆ key1_timesta ┆ valid ┆ error_descr ┆ outlier │\n",
       "│ ---     ┆ ---         ┆ ---      ┆ ---        ┆   ┆ mp           ┆ ---   ┆ iption      ┆ ---     │\n",
       "│ i64     ┆ i64         ┆ i64      ┆ i64        ┆   ┆ ---          ┆ bool  ┆ ---         ┆ bool    │\n",
       "│         ┆             ┆          ┆            ┆   ┆ i64          ┆       ┆ str         ┆         │\n",
       "╞═════════╪═════════════╪══════════╪════════════╪═══╪══════════════╪═══════╪═════════════╪═════════╡\n",
       "│ 1056    ┆ 2           ┆ 1        ┆ 1          ┆ … ┆ 173325762413 ┆ true  ┆ No error    ┆ false   │\n",
       "│         ┆             ┆          ┆            ┆   ┆ 2830000      ┆       ┆             ┆         │\n",
       "│ 1056    ┆ 2           ┆ 1        ┆ 1          ┆ … ┆ 173325762479 ┆ true  ┆ No error    ┆ false   │\n",
       "│         ┆             ┆          ┆            ┆   ┆ 0088000      ┆       ┆             ┆         │\n",
       "│ 1056    ┆ 2           ┆ 1        ┆ 1          ┆ … ┆ 173325762578 ┆ true  ┆ No error    ┆ false   │\n",
       "│         ┆             ┆          ┆            ┆   ┆ 8961000      ┆       ┆             ┆         │\n",
       "│ 1056    ┆ 2           ┆ 1        ┆ 1          ┆ … ┆ 173325762906 ┆ true  ┆ No error    ┆ false   │\n",
       "│         ┆             ┆          ┆            ┆   ┆ 2726000      ┆       ┆             ┆         │\n",
       "│ 1056    ┆ 2           ┆ 1        ┆ 1          ┆ … ┆ 173325762974 ┆ true  ┆ No error    ┆ false   │\n",
       "│         ┆             ┆          ┆            ┆   ┆ 3570000      ┆       ┆             ┆         │\n",
       "│ …       ┆ …           ┆ …        ┆ …          ┆ … ┆ …            ┆ …     ┆ …           ┆ …       │\n",
       "│ 1012    ┆ 2           ┆ 2        ┆ 2          ┆ … ┆ 165237643024 ┆ true  ┆ No error    ┆ false   │\n",
       "│         ┆             ┆          ┆            ┆   ┆ 5292000      ┆       ┆             ┆         │\n",
       "│ 1012    ┆ 2           ┆ 2        ┆ 2          ┆ … ┆ 165237643043 ┆ true  ┆ No error    ┆ true    │\n",
       "│         ┆             ┆          ┆            ┆   ┆ 3167000      ┆       ┆             ┆         │\n",
       "│ 1012    ┆ 2           ┆ 2        ┆ 2          ┆ … ┆ 165237644481 ┆ true  ┆ No error    ┆ true    │\n",
       "│         ┆             ┆          ┆            ┆   ┆ 8980000      ┆       ┆             ┆         │\n",
       "│ 1012    ┆ 2           ┆ 2        ┆ 2          ┆ … ┆ 165237644508 ┆ false ┆ Missing     ┆ false   │\n",
       "│         ┆             ┆          ┆            ┆   ┆ 6704000      ┆       ┆ key2        ┆         │\n",
       "│         ┆             ┆          ┆            ┆   ┆              ┆       ┆ release     ┆         │\n",
       "│ 1012    ┆ 2           ┆ 2        ┆ 2          ┆ … ┆ 165237644707 ┆ false ┆ Missing     ┆ false   │\n",
       "│         ┆             ┆          ┆            ┆   ┆ 8023000      ┆       ┆ key2        ┆         │\n",
       "│         ┆             ┆          ┆            ┆   ┆              ┆       ┆ release     ┆         │\n",
       "└─────────┴─────────────┴──────────┴────────────┴───┴──────────────┴───────┴─────────────┴─────────┘"
      ]
     },
     "execution_count": 14,
     "metadata": {},
     "output_type": "execute_result"
    }
   ],
   "source": [
    "import polars as pl\n",
    "\n",
    "filepath = \"processed_data-2025-05-25_180139-Loris-MBP.cable.rcn.com/typenet_features.csv\"\n",
    "df_typenet = pl.read_csv(filepath, has_header=True)\n",
    "df_typenet"
   ]
  },
  {
   "cell_type": "code",
   "execution_count": 15,
   "id": "7a019c9a-2a64-4906-8992-c4b31125d41a",
   "metadata": {},
   "outputs": [
    {
     "data": {
      "text/html": [
       "<div><style>\n",
       ".dataframe > thead > tr,\n",
       ".dataframe > tbody > tr {\n",
       "  text-align: right;\n",
       "  white-space: pre-wrap;\n",
       "}\n",
       "</style>\n",
       "<small>shape: (0, 19)</small><table border=\"1\" class=\"dataframe\"><thead><tr><th>user_id</th><th>platform_id</th><th>video_id</th><th>session_id</th><th>sequence_id</th><th>key1</th><th>key2</th><th>key1_press</th><th>key1_release</th><th>key2_press</th><th>key2_release</th><th>HL</th><th>IL</th><th>PL</th><th>RL</th><th>key1_timestamp</th><th>valid</th><th>error_description</th><th>outlier</th></tr><tr><td>i64</td><td>i64</td><td>i64</td><td>i64</td><td>i64</td><td>str</td><td>str</td><td>f64</td><td>f64</td><td>f64</td><td>f64</td><td>f64</td><td>f64</td><td>f64</td><td>f64</td><td>i64</td><td>bool</td><td>str</td><td>bool</td></tr></thead><tbody></tbody></table></div>"
      ],
      "text/plain": [
       "shape: (0, 19)\n",
       "┌─────────┬─────────────┬──────────┬────────────┬───┬──────────────┬───────┬─────────────┬─────────┐\n",
       "│ user_id ┆ platform_id ┆ video_id ┆ session_id ┆ … ┆ key1_timesta ┆ valid ┆ error_descr ┆ outlier │\n",
       "│ ---     ┆ ---         ┆ ---      ┆ ---        ┆   ┆ mp           ┆ ---   ┆ iption      ┆ ---     │\n",
       "│ i64     ┆ i64         ┆ i64      ┆ i64        ┆   ┆ ---          ┆ bool  ┆ ---         ┆ bool    │\n",
       "│         ┆             ┆          ┆            ┆   ┆ i64          ┆       ┆ str         ┆         │\n",
       "╞═════════╪═════════════╪══════════╪════════════╪═══╪══════════════╪═══════╪═════════════╪═════════╡\n",
       "└─────────┴─────────────┴──────────┴────────────┴───┴──────────────┴───────┴─────────────┴─────────┘"
      ]
     },
     "execution_count": 15,
     "metadata": {},
     "output_type": "execute_result"
    }
   ],
   "source": [
    "df_typenet.filter(~pl.col(\"valid\") & pl.col(\"outlier\"))"
   ]
  },
  {
   "cell_type": "code",
   "execution_count": null,
   "id": "5c5101f1-c4c0-4bd0-9fff-b32b225c408c",
   "metadata": {},
   "outputs": [],
   "source": []
  },
  {
   "cell_type": "code",
   "execution_count": null,
   "id": "81a2299a-4d3b-4a59-8267-d3451a17af7d",
   "metadata": {},
   "outputs": [],
   "source": []
  },
  {
   "cell_type": "code",
   "execution_count": null,
   "id": "30f05e68-36a7-4efd-8986-78185b51c433",
   "metadata": {},
   "outputs": [],
   "source": []
  },
  {
   "cell_type": "code",
   "execution_count": 16,
   "id": "0bac9907-c96f-46eb-94d7-2aee4bff0fb6",
   "metadata": {},
   "outputs": [
    {
     "name": "stdout",
     "output_type": "stream",
     "text": [
      "eKey.space\n",
      "tKey.space\n",
      "Key.spacea\n",
      "th\n",
      "he\n",
      "Key.backspaceKey.backspace\n",
      "dKey.space\n",
      "Key.spacet\n",
      "sKey.space\n",
      "in\n"
     ]
    }
   ],
   "source": [
    "alvins_keys = set(['Key.backspaceKey.backspace', 'eKey.space', 'Key.spacet', 'sKey.space', 'th', 'tKey.space', 'Key.spacea', 'he', 'in', 'dKey.space'])\n",
    "loris_keys = set(col.split(\"_\")[1] for col in df.columns if col.startswith(\"IL_\"))\n",
    "\n",
    "for k in list(alvins_keys): \n",
    "    print(k)"
   ]
  },
  {
   "cell_type": "code",
   "execution_count": null,
   "id": "9b4445c9-6b58-4963-b626-c3031604245e",
   "metadata": {},
   "outputs": [],
   "source": [
    "alvins_keys.difference(loris_keys)"
   ]
  },
  {
   "cell_type": "code",
   "execution_count": null,
   "id": "bf56fb60-c6f9-4dd8-ab31-f5868989b8ae",
   "metadata": {},
   "outputs": [],
   "source": [
    "loris_keys"
   ]
  },
  {
   "cell_type": "code",
   "execution_count": null,
   "id": "49a46974-5ba0-4eca-ad25-6df74f6a6004",
   "metadata": {},
   "outputs": [],
   "source": [
    "df_null = df_typenet.filter(pl.col(\"IL\").is_null())\n",
    "df_null"
   ]
  },
  {
   "cell_type": "code",
   "execution_count": null,
   "id": "6cedd797-333f-41bb-b8dd-08de80808f63",
   "metadata": {},
   "outputs": [],
   "source": [
    "df_top_keys = df_typenet.group_by(\"key1\", \"key2\").count().sort(\"count\", descending=True).head(10)\n",
    "df_top_keys"
   ]
  },
  {
   "cell_type": "code",
   "execution_count": null,
   "id": "37f478f3-e439-498c-a8e3-a46610646554",
   "metadata": {},
   "outputs": [],
   "source": [
    "pairs = df_top_keys.with_columns(\n",
    "    pl.concat_str([\n",
    "                    pl.col(\"key1\"),\n",
    "                    pl.col(\"key2\")\n",
    "                ]).alias(\"pairs\")\n",
    ")['pairs'].to_list()\n",
    "\n",
    "print(pairs)\n"
   ]
  },
  {
   "cell_type": "code",
   "execution_count": null,
   "id": "3fc194e6-2d81-4fb7-ac15-c7d4fbd1a32f",
   "metadata": {},
   "outputs": [],
   "source": [
    "df_null_top = df_null.filter(\n",
    "    (pl.col(\"key1\").is_in(df_top_keys['key1'].to_list())) & (pl.col(\"key2\").is_in(df_top_keys['key2'].to_list())) & (pl.col(\"valid\"))\n",
    ")\n",
    "df_null_top"
   ]
  },
  {
   "cell_type": "code",
   "execution_count": null,
   "id": "94066dfa-9013-49a1-a07b-a49c437faed3",
   "metadata": {},
   "outputs": [],
   "source": [
    "# Sort out invalid"
   ]
  },
  {
   "cell_type": "code",
   "execution_count": null,
   "id": "6a7a2a5f-397c-4b5e-b93b-623e64544fb3",
   "metadata": {},
   "outputs": [],
   "source": []
  },
  {
   "cell_type": "code",
   "execution_count": null,
   "id": "43d05b7e-1067-4774-a493-3bffcc76d2e2",
   "metadata": {},
   "outputs": [],
   "source": []
  },
  {
   "cell_type": "code",
   "execution_count": null,
   "id": "9b15a4a2-5242-47f8-adba-25530e2a3358",
   "metadata": {},
   "outputs": [],
   "source": [
    "df_null_top.group_by(\"user_id\").count()"
   ]
  },
  {
   "cell_type": "code",
   "execution_count": null,
   "id": "34aea29d-f8a5-455c-af00-ad5f228184c5",
   "metadata": {},
   "outputs": [],
   "source": [
    "# Check for null in platform Id dataset.\n",
    "\n",
    "df_top_pairs =  (\n",
    "    df_typenet.lazy()\n",
    "        .filter(\n",
    "            (\n",
    "                pl.col(\"key1\").is_in(df_top_keys['key1'].to_list())) & (pl.col(\"key2\").is_in(df_top_keys['key2'].to_list())) & (pl.col(\"valid\"))\n",
    "        )\n",
    ").collect()\n",
    "\n",
    "df_top_pairs        \n",
    "    "
   ]
  },
  {
   "cell_type": "code",
   "execution_count": null,
   "id": "84d4902c-fc6d-4361-baa2-1a9d4bfcbeac",
   "metadata": {},
   "outputs": [],
   "source": [
    "alvins_keys = set(['Key.backspaceKey.backspace', 'eKey.space', 'Key.spacet', 'sKey.space', 'th', 'tKey.space', 'Key.spacea', 'he', 'in', 'dKey.space'])\n",
    "\n",
    "\n",
    "for user_id in df_top_pairs['user_id'].unique():\n",
    "    df_user = df_top_pairs.filter(pl.col(\"user_id\") == user_id)\n",
    "    for platform_id in df_user['platform_id'].unique():\n",
    "        df_platform = df_user.filter(pl.col(\"platform_id\") == platform_id)\n",
    "\n",
    "        # Get all key pairs in each \n",
    "        pairs = df_platform.with_columns(\n",
    "                                        pl.concat_str([\n",
    "                                                        pl.col(\"key1\"),\n",
    "                                                        pl.col(\"key2\")\n",
    "                                                    ]).alias(\"pairs\")\n",
    "                                    )['pairs'].to_list()\n",
    "\n",
    "        # Check if key pairs are not in alvin_keys\n",
    "        if (diff := alvins_keys.difference(set(pairs))) != set():\n",
    "            print(f\"user_id: {user_id}, platform_id: {platform_id}\\n\\t{diff}\")\n",
    "                \n"
   ]
  },
  {
   "cell_type": "code",
   "execution_count": null,
   "id": "6853f729-3753-4835-9cba-8b9ca4275169",
   "metadata": {},
   "outputs": [],
   "source": [
    "alvins_keys = set(['Key.backspaceKey.backspace', 'eKey.space', 'Key.spacet', 'sKey.space', 'th', 'tKey.space', 'Key.spacea', 'he', 'in', 'dKey.space'])\n",
    "\n",
    "\n",
    "for user_id in df_top_pairs['user_id'].unique():\n",
    "    df_user = df_top_pairs.filter(pl.col(\"user_id\") == user_id)\n",
    "    # print(df_user)\n",
    "    for platform_id in df_user['platform_id'].unique():\n",
    "        df_platform = df_user.filter(pl.col(\"platform_id\") == platform_id)\n",
    "        # print(df_platform)\n",
    "        for session_id in df_platform[\"session_id\"].unique():\n",
    "            df_session = df_platform.filter(pl.col(\"session_id\") == session_id)\n",
    "\n",
    "            # Get all key pairs in each \n",
    "            pairs = df_session.with_columns(\n",
    "                                            pl.concat_str([\n",
    "                                                            pl.col(\"key1\"),\n",
    "                                                            pl.col(\"key2\")\n",
    "                                                        ]).alias(\"pairs\")\n",
    "                                        )['pairs'].to_list()\n",
    "            # Check if key pairs are not in alvin_keys\n",
    "            if (diff := alvins_keys.difference(set(pairs))) != set():\n",
    "                print(f\"user_id: {user_id}, platform_id: {platform_id}, session_id: {session_id}\\n\\t{diff}\")\n",
    "                \n"
   ]
  },
  {
   "cell_type": "code",
   "execution_count": null,
   "id": "1752ab6c-85c2-4582-950f-2b70dd682274",
   "metadata": {},
   "outputs": [],
   "source": [
    "alvins_keys = set(['Key.backspaceKey.backspace', 'eKey.space', 'Key.spacet', 'sKey.space', 'th', 'tKey.space', 'Key.spacea', 'he', 'in', 'dKey.space'])\n",
    "\n",
    "counts = 0\n",
    "for user_id in df_top_pairs['user_id'].unique():\n",
    "    df_user = df_top_pairs.filter(pl.col(\"user_id\") == user_id)\n",
    "    # print(df_user)\n",
    "    for platform_id in df_user['platform_id'].unique():\n",
    "        df_platform = df_user.filter(pl.col(\"platform_id\") == platform_id)\n",
    "        # print(df_platform)\n",
    "        for session_id in df_platform[\"session_id\"].unique():\n",
    "            df_session = df_platform.filter(pl.col(\"session_id\") == session_id)\n",
    "            if df_sessions.is_empty():\n",
    "                raise ValueError(\"df_sessions is empty: user_id: {user_id}, platform_id: {platform_id}, session_id: {session_id}\")\n",
    "            for video_id in df_session['video_id'].unique():\n",
    "                df_video = df_session.filter(pl.col(\"video_id\") == video_id)\n",
    "\n",
    "                # Get all key pairs in each \n",
    "                pairs = df_video.with_columns(\n",
    "                                                pl.concat_str([\n",
    "                                                                pl.col(\"key1\"),\n",
    "                                                                pl.col(\"key2\")\n",
    "                                                            ]).alias(\"pairs\")\n",
    "                                            )['pairs'].to_list()\n",
    "                # Check if key pairs are not in alvin_keys\n",
    "                if (diff := alvins_keys.difference(set(pairs))) != set():\n",
    "                    print(f\"user_id: {user_id}, platform_id: {platform_id}, session_id: {session_id}, video_id: {video_id}\\n\\t{diff}\")\n",
    "                    counts += len(diff)\n",
    "print(f\"counts: {counts}\")\n",
    "                    "
   ]
  },
  {
   "cell_type": "code",
   "execution_count": null,
   "id": "f181b8d0-acb8-4f4f-bace-edb4a59193ad",
   "metadata": {},
   "outputs": [],
   "source": [
    "counts / (10*36*3*2*3)"
   ]
  },
  {
   "cell_type": "code",
   "execution_count": null,
   "id": "a4050a87-a693-43e5-9486-e98a046d1bae",
   "metadata": {},
   "outputs": [],
   "source": []
  }
 ],
 "metadata": {
  "kernelspec": {
   "display_name": "venv-3.12.5",
   "language": "python",
   "name": "python3"
  },
  "language_info": {
   "codemirror_mode": {
    "name": "ipython",
    "version": 3
   },
   "file_extension": ".py",
   "mimetype": "text/x-python",
   "name": "python",
   "nbconvert_exporter": "python",
   "pygments_lexer": "ipython3",
   "version": "3.12.10"
  }
 },
 "nbformat": 4,
 "nbformat_minor": 5
}
