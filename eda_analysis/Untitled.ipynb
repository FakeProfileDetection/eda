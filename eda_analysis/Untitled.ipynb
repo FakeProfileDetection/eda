{
 "cells": [
  {
   "cell_type": "code",
   "execution_count": 2,
   "id": "6ed17558-bb99-4e25-9bd2-117661ea92b0",
   "metadata": {},
   "outputs": [],
   "source": [
    "import os\n",
    "from pathlib import Path\n",
    "import polars as pl\n"
   ]
  },
  {
   "cell_type": "code",
   "execution_count": null,
   "id": "388b8d58-b5d8-43df-9d10-8bbd602b23d8",
   "metadata": {},
   "outputs": [],
   "source": []
  },
  {
   "cell_type": "code",
   "execution_count": 1,
   "id": "3393da84-5731-4935-a4f7-5ffc6bf4b7b0",
   "metadata": {},
   "outputs": [],
   "source": [
    "cleaned = \"/Users/loripickering/Projects/temp_clones/cleaned2.csv\"\n",
    "typenet = \"/Users/loripickering/Projects/temp_clones/keystroke-scripts/dataset/lori_typenet_features.csv\"\n",
    "\n"
   ]
  },
  {
   "cell_type": "code",
   "execution_count": 4,
   "id": "6ff47036-4188-4f00-9e55-8d393321934a",
   "metadata": {},
   "outputs": [
    {
     "data": {
      "text/html": [
       "<div><style>\n",
       ".dataframe > thead > tr,\n",
       ".dataframe > tbody > tr {\n",
       "  text-align: right;\n",
       "  white-space: pre-wrap;\n",
       "}\n",
       "</style>\n",
       "<small>shape: (141_291, 6)</small><table border=\"1\" class=\"dataframe\"><thead><tr><th>key</th><th>press_time</th><th>release_time</th><th>platform_id</th><th>session_id</th><th>user_ids</th></tr><tr><td>str</td><td>f64</td><td>f64</td><td>i64</td><td>i64</td><td>i64</td></tr></thead><tbody><tr><td>&quot;&#x27;t&#x27;&quot;</td><td>1.6550e18</td><td>1.6550e18</td><td>3</td><td>1</td><td>1</td></tr><tr><td>&quot;&#x27;w&#x27;&quot;</td><td>1.6550e18</td><td>1.6550e18</td><td>3</td><td>1</td><td>1</td></tr><tr><td>&quot;&#x27;i&#x27;&quot;</td><td>1.6550e18</td><td>1.6550e18</td><td>3</td><td>1</td><td>1</td></tr><tr><td>&quot;&#x27;t&#x27;&quot;</td><td>1.6550e18</td><td>1.6550e18</td><td>3</td><td>1</td><td>1</td></tr><tr><td>&quot;&#x27;t&#x27;&quot;</td><td>1.6550e18</td><td>1.6550e18</td><td>3</td><td>1</td><td>1</td></tr><tr><td>&hellip;</td><td>&hellip;</td><td>&hellip;</td><td>&hellip;</td><td>&hellip;</td><td>&hellip;</td></tr><tr><td>&quot;&#x27;k&#x27;&quot;</td><td>1.6513e18</td><td>1.6513e18</td><td>2</td><td>6</td><td>25</td></tr><tr><td>&quot;Key.shift&quot;</td><td>1.6513e18</td><td>1.6513e18</td><td>2</td><td>6</td><td>25</td></tr><tr><td>&quot;&#x27;?&#x27;&quot;</td><td>1.6513e18</td><td>1.6513e18</td><td>2</td><td>6</td><td>25</td></tr><tr><td>&quot;Key.cmd&quot;</td><td>1.6513e18</td><td>1.6513e18</td><td>2</td><td>6</td><td>25</td></tr><tr><td>&quot;Key.tab&quot;</td><td>1.6513e18</td><td>1.6513e18</td><td>2</td><td>6</td><td>25</td></tr></tbody></table></div>"
      ],
      "text/plain": [
       "shape: (141_291, 6)\n",
       "┌───────────┬────────────┬──────────────┬─────────────┬────────────┬──────────┐\n",
       "│ key       ┆ press_time ┆ release_time ┆ platform_id ┆ session_id ┆ user_ids │\n",
       "│ ---       ┆ ---        ┆ ---          ┆ ---         ┆ ---        ┆ ---      │\n",
       "│ str       ┆ f64        ┆ f64          ┆ i64         ┆ i64        ┆ i64      │\n",
       "╞═══════════╪════════════╪══════════════╪═════════════╪════════════╪══════════╡\n",
       "│ 't'       ┆ 1.6550e18  ┆ 1.6550e18    ┆ 3           ┆ 1          ┆ 1        │\n",
       "│ 'w'       ┆ 1.6550e18  ┆ 1.6550e18    ┆ 3           ┆ 1          ┆ 1        │\n",
       "│ 'i'       ┆ 1.6550e18  ┆ 1.6550e18    ┆ 3           ┆ 1          ┆ 1        │\n",
       "│ 't'       ┆ 1.6550e18  ┆ 1.6550e18    ┆ 3           ┆ 1          ┆ 1        │\n",
       "│ 't'       ┆ 1.6550e18  ┆ 1.6550e18    ┆ 3           ┆ 1          ┆ 1        │\n",
       "│ …         ┆ …          ┆ …            ┆ …           ┆ …          ┆ …        │\n",
       "│ 'k'       ┆ 1.6513e18  ┆ 1.6513e18    ┆ 2           ┆ 6          ┆ 25       │\n",
       "│ Key.shift ┆ 1.6513e18  ┆ 1.6513e18    ┆ 2           ┆ 6          ┆ 25       │\n",
       "│ '?'       ┆ 1.6513e18  ┆ 1.6513e18    ┆ 2           ┆ 6          ┆ 25       │\n",
       "│ Key.cmd   ┆ 1.6513e18  ┆ 1.6513e18    ┆ 2           ┆ 6          ┆ 25       │\n",
       "│ Key.tab   ┆ 1.6513e18  ┆ 1.6513e18    ┆ 2           ┆ 6          ┆ 25       │\n",
       "└───────────┴────────────┴──────────────┴─────────────┴────────────┴──────────┘"
      ]
     },
     "execution_count": 4,
     "metadata": {},
     "output_type": "execute_result"
    }
   ],
   "source": [
    "df_clean = pl.read_csv(cleaned, has_header=True)\n",
    "df_clean"
   ]
  },
  {
   "cell_type": "code",
   "execution_count": 5,
   "id": "db173ca9-a587-46f4-9f0b-d97af835ed49",
   "metadata": {},
   "outputs": [
    {
     "data": {
      "text/html": [
       "<div><style>\n",
       ".dataframe > thead > tr,\n",
       ".dataframe > tbody > tr {\n",
       "  text-align: right;\n",
       "  white-space: pre-wrap;\n",
       "}\n",
       "</style>\n",
       "<small>shape: (273_548, 19)</small><table border=\"1\" class=\"dataframe\"><thead><tr><th>user_id</th><th>platform_id</th><th>video_id</th><th>session_id</th><th>sequence_id</th><th>key1</th><th>key2</th><th>key1_press</th><th>key1_release</th><th>key2_press</th><th>key2_release</th><th>HL</th><th>IL</th><th>PL</th><th>RL</th><th>key1_timestamp</th><th>valid</th><th>error_description</th><th>outlier</th></tr><tr><td>i64</td><td>i64</td><td>i64</td><td>i64</td><td>i64</td><td>str</td><td>str</td><td>f64</td><td>f64</td><td>f64</td><td>f64</td><td>f64</td><td>f64</td><td>f64</td><td>f64</td><td>f64</td><td>bool</td><td>str</td><td>bool</td></tr></thead><tbody><tr><td>1039</td><td>1</td><td>1</td><td>2</td><td>0</td><td>&quot;Key.down&quot;</td><td>&quot;Key.down&quot;</td><td>1.7326e18</td><td>1.7326e18</td><td>1.7326e18</td><td>1.7326e18</td><td>2.6406144e7</td><td>1.03460864e8</td><td>1.29867008e8</td><td>1.73648896e8</td><td>1.7326e18</td><td>true</td><td>&quot;No error&quot;</td><td>false</td></tr><tr><td>1039</td><td>1</td><td>1</td><td>2</td><td>1</td><td>&quot;Key.down&quot;</td><td>&quot;Key.down&quot;</td><td>1.7326e18</td><td>1.7326e18</td><td>1.7326e18</td><td>1.7326e18</td><td>7.0188032e7</td><td>5.22002176e8</td><td>5.92190208e8</td><td>6.47362048e8</td><td>1.7326e18</td><td>true</td><td>&quot;No error&quot;</td><td>false</td></tr><tr><td>1039</td><td>1</td><td>1</td><td>2</td><td>2</td><td>&quot;Key.down&quot;</td><td>&quot;Key.down&quot;</td><td>1.7326e18</td><td>1.7326e18</td><td>1.7326e18</td><td>null</td><td>1.25359872e8</td><td>null</td><td>null</td><td>null</td><td>1.7326e18</td><td>false</td><td>&quot;Missing key2 release&quot;</td><td>false</td></tr><tr><td>1039</td><td>1</td><td>1</td><td>2</td><td>3</td><td>&quot;Key.down&quot;</td><td>&quot;Key.down&quot;</td><td>1.7326e18</td><td>null</td><td>1.7326e18</td><td>1.7326e18</td><td>null</td><td>null</td><td>null</td><td>null</td><td>1.7326e18</td><td>false</td><td>&quot;Missing key1 release&quot;</td><td>false</td></tr><tr><td>1039</td><td>1</td><td>1</td><td>2</td><td>4</td><td>&quot;Key.down&quot;</td><td>&quot;Key.down&quot;</td><td>1.7326e18</td><td>1.7326e18</td><td>1.7326e18</td><td>null</td><td>7.7315072e7</td><td>null</td><td>null</td><td>null</td><td>1.7326e18</td><td>false</td><td>&quot;Missing key2 release&quot;</td><td>false</td></tr><tr><td>&hellip;</td><td>&hellip;</td><td>&hellip;</td><td>&hellip;</td><td>&hellip;</td><td>&hellip;</td><td>&hellip;</td><td>&hellip;</td><td>&hellip;</td><td>&hellip;</td><td>&hellip;</td><td>&hellip;</td><td>&hellip;</td><td>&hellip;</td><td>&hellip;</td><td>&hellip;</td><td>&hellip;</td><td>&hellip;</td><td>&hellip;</td></tr><tr><td>1041</td><td>3</td><td>3</td><td>2</td><td>304</td><td>&quot;Key.alt&quot;</td><td>&quot;ç&quot;</td><td>1.7326e18</td><td>1.7326e18</td><td>1.7326e18</td><td>1.7326e18</td><td>1.2627e9</td><td>-7.3270e8</td><td>5.29988096e8</td><td>-6.3637e8</td><td>1.7326e18</td><td>true</td><td>&quot;No error&quot;</td><td>true</td></tr><tr><td>1041</td><td>3</td><td>3</td><td>2</td><td>305</td><td>&quot;ç&quot;</td><td>&quot;ç&quot;</td><td>1.7326e18</td><td>1.7326e18</td><td>1.7326e18</td><td>1.7326e18</td><td>9.6326912e7</td><td>2.9288704e8</td><td>3.89213952e8</td><td>3.61408e8</td><td>1.7326e18</td><td>true</td><td>&quot;No error&quot;</td><td>false</td></tr><tr><td>1041</td><td>3</td><td>3</td><td>2</td><td>306</td><td>&quot;ç&quot;</td><td>&quot;ç&quot;</td><td>1.7326e18</td><td>1.7326e18</td><td>1.7326e18</td><td>1.7326e18</td><td>6.852096e7</td><td>9.8298112e7</td><td>1.66819072e8</td><td>1.53204992e8</td><td>1.7326e18</td><td>true</td><td>&quot;No error&quot;</td><td>false</td></tr><tr><td>1041</td><td>3</td><td>3</td><td>2</td><td>307</td><td>&quot;ç&quot;</td><td>&quot;Key.ctrl&quot;</td><td>1.7326e18</td><td>1.7326e18</td><td>1.7326e18</td><td>null</td><td>5.490688e7</td><td>null</td><td>null</td><td>null</td><td>1.7326e18</td><td>false</td><td>&quot;Missing key2 release&quot;</td><td>false</td></tr><tr><td>1041</td><td>3</td><td>3</td><td>2</td><td>308</td><td>&quot;Key.ctrl&quot;</td><td>&quot;c&quot;</td><td>1.7326e18</td><td>null</td><td>1.7326e18</td><td>null</td><td>null</td><td>null</td><td>null</td><td>null</td><td>1.7326e18</td><td>false</td><td>&quot;Missing key2 release&quot;</td><td>false</td></tr></tbody></table></div>"
      ],
      "text/plain": [
       "shape: (273_548, 19)\n",
       "┌─────────┬─────────────┬──────────┬────────────┬───┬──────────────┬───────┬─────────────┬─────────┐\n",
       "│ user_id ┆ platform_id ┆ video_id ┆ session_id ┆ … ┆ key1_timesta ┆ valid ┆ error_descr ┆ outlier │\n",
       "│ ---     ┆ ---         ┆ ---      ┆ ---        ┆   ┆ mp           ┆ ---   ┆ iption      ┆ ---     │\n",
       "│ i64     ┆ i64         ┆ i64      ┆ i64        ┆   ┆ ---          ┆ bool  ┆ ---         ┆ bool    │\n",
       "│         ┆             ┆          ┆            ┆   ┆ f64          ┆       ┆ str         ┆         │\n",
       "╞═════════╪═════════════╪══════════╪════════════╪═══╪══════════════╪═══════╪═════════════╪═════════╡\n",
       "│ 1039    ┆ 1           ┆ 1        ┆ 2          ┆ … ┆ 1.7326e18    ┆ true  ┆ No error    ┆ false   │\n",
       "│ 1039    ┆ 1           ┆ 1        ┆ 2          ┆ … ┆ 1.7326e18    ┆ true  ┆ No error    ┆ false   │\n",
       "│ 1039    ┆ 1           ┆ 1        ┆ 2          ┆ … ┆ 1.7326e18    ┆ false ┆ Missing     ┆ false   │\n",
       "│         ┆             ┆          ┆            ┆   ┆              ┆       ┆ key2        ┆         │\n",
       "│         ┆             ┆          ┆            ┆   ┆              ┆       ┆ release     ┆         │\n",
       "│ 1039    ┆ 1           ┆ 1        ┆ 2          ┆ … ┆ 1.7326e18    ┆ false ┆ Missing     ┆ false   │\n",
       "│         ┆             ┆          ┆            ┆   ┆              ┆       ┆ key1        ┆         │\n",
       "│         ┆             ┆          ┆            ┆   ┆              ┆       ┆ release     ┆         │\n",
       "│ 1039    ┆ 1           ┆ 1        ┆ 2          ┆ … ┆ 1.7326e18    ┆ false ┆ Missing     ┆ false   │\n",
       "│         ┆             ┆          ┆            ┆   ┆              ┆       ┆ key2        ┆         │\n",
       "│         ┆             ┆          ┆            ┆   ┆              ┆       ┆ release     ┆         │\n",
       "│ …       ┆ …           ┆ …        ┆ …          ┆ … ┆ …            ┆ …     ┆ …           ┆ …       │\n",
       "│ 1041    ┆ 3           ┆ 3        ┆ 2          ┆ … ┆ 1.7326e18    ┆ true  ┆ No error    ┆ true    │\n",
       "│ 1041    ┆ 3           ┆ 3        ┆ 2          ┆ … ┆ 1.7326e18    ┆ true  ┆ No error    ┆ false   │\n",
       "│ 1041    ┆ 3           ┆ 3        ┆ 2          ┆ … ┆ 1.7326e18    ┆ true  ┆ No error    ┆ false   │\n",
       "│ 1041    ┆ 3           ┆ 3        ┆ 2          ┆ … ┆ 1.7326e18    ┆ false ┆ Missing     ┆ false   │\n",
       "│         ┆             ┆          ┆            ┆   ┆              ┆       ┆ key2        ┆         │\n",
       "│         ┆             ┆          ┆            ┆   ┆              ┆       ┆ release     ┆         │\n",
       "│ 1041    ┆ 3           ┆ 3        ┆ 2          ┆ … ┆ 1.7326e18    ┆ false ┆ Missing     ┆ false   │\n",
       "│         ┆             ┆          ┆            ┆   ┆              ┆       ┆ key2        ┆         │\n",
       "│         ┆             ┆          ┆            ┆   ┆              ┆       ┆ release     ┆         │\n",
       "└─────────┴─────────────┴──────────┴────────────┴───┴──────────────┴───────┴─────────────┴─────────┘"
      ]
     },
     "execution_count": 5,
     "metadata": {},
     "output_type": "execute_result"
    }
   ],
   "source": [
    "df_type = pl.read_csv(typenet, has_header=True)\n",
    "df_type"
   ]
  },
  {
   "cell_type": "markdown",
   "id": "3faa575c-97e6-42f6-80fc-b1a1e08c25e7",
   "metadata": {},
   "source": [
    "## Find user with same ID\n",
    "Compare key press/release"
   ]
  },
  {
   "cell_type": "code",
   "execution_count": 7,
   "id": "c3809f17-9cb6-4862-8b26-57bb85dbe5df",
   "metadata": {},
   "outputs": [],
   "source": [
    "old_user_id = 1\n",
    "new_user_id = 1001\n",
    "\n",
    "old_weird_user_id = 11\n",
    "new_wierd_user_id = 1005\n"
   ]
  },
  {
   "cell_type": "code",
   "execution_count": 32,
   "id": "24d8c52b-9ac0-4f58-b636-c1d13bb5b042",
   "metadata": {},
   "outputs": [],
   "source": [
    "platform = 1\n",
    "session = 1\n",
    "video = 1\n",
    "\n",
    "df_clean_u = df_clean.filter(\n",
    "    (pl.col(\"user_ids\") == old_user_id) &\n",
    "    (pl.col(\"platform_id\") == platform) &\n",
    "    (pl.col(\"session_id\") == session) \n",
    "            \n",
    ")\n",
    "\n",
    "df_clean_weird = df_clean.filter(\n",
    "    (pl.col(\"user_ids\") == old_weird_user_id)  &\n",
    "    (pl.col(\"platform_id\") == platform) &\n",
    "    (pl.col(\"session_id\") == session) \n",
    ")\n",
    "\n",
    "\n",
    "\n",
    "df_type_u = df_type.filter(\n",
    "    (pl.col(\"user_id\") == new_user_id)  &\n",
    "    (pl.col(\"platform_id\") == platform) &\n",
    "    (pl.col(\"session_id\") == session) \n",
    ")\n",
    "\n",
    "\n",
    "\n",
    "df_type_weird = df_type.filter(\n",
    "    (pl.col(\"user_id\") == new_wierd_user_id)  &\n",
    "    (pl.col(\"platform_id\") == platform) &\n",
    "    (pl.col(\"session_id\") == session) \n",
    ")\n"
   ]
  },
  {
   "cell_type": "code",
   "execution_count": 33,
   "id": "915a3790-5244-42f0-8ffe-4807f20da5fa",
   "metadata": {},
   "outputs": [
    {
     "data": {
      "text/html": [
       "<div><style>\n",
       ".dataframe > thead > tr,\n",
       ".dataframe > tbody > tr {\n",
       "  text-align: right;\n",
       "  white-space: pre-wrap;\n",
       "}\n",
       "</style>\n",
       "<small>shape: (390, 6)</small><table border=\"1\" class=\"dataframe\"><thead><tr><th>key</th><th>press_time</th><th>release_time</th><th>platform_id</th><th>session_id</th><th>user_ids</th></tr><tr><td>str</td><td>f64</td><td>f64</td><td>i64</td><td>i64</td><td>i64</td></tr></thead><tbody><tr><td>&quot;Key.enter&quot;</td><td>1.6550e18</td><td>1.6550e18</td><td>1</td><td>1</td><td>1</td></tr><tr><td>&quot;&#x27;f&#x27;&quot;</td><td>1.6550e18</td><td>1.6550e18</td><td>1</td><td>1</td><td>1</td></tr><tr><td>&quot;&#x27;p&#x27;&quot;</td><td>1.6550e18</td><td>1.6550e18</td><td>1</td><td>1</td><td>1</td></tr><tr><td>&quot;&#x27;d&#x27;&quot;</td><td>1.6550e18</td><td>1.6550e18</td><td>1</td><td>1</td><td>1</td></tr><tr><td>&quot;&#x27;1&#x27;&quot;</td><td>1.6550e18</td><td>1.6550e18</td><td>1</td><td>1</td><td>1</td></tr><tr><td>&hellip;</td><td>&hellip;</td><td>&hellip;</td><td>&hellip;</td><td>&hellip;</td><td>&hellip;</td></tr><tr><td>&quot;&#x27;.&#x27;&quot;</td><td>1.6550e18</td><td>1.6550e18</td><td>1</td><td>1</td><td>1</td></tr><tr><td>&quot;&#x27;.&#x27;&quot;</td><td>1.6550e18</td><td>1.6550e18</td><td>1</td><td>1</td><td>1</td></tr><tr><td>&quot;&#x27;.&#x27;&quot;</td><td>1.6550e18</td><td>1.6550e18</td><td>1</td><td>1</td><td>1</td></tr><tr><td>&quot;&#x27;.&#x27;&quot;</td><td>1.6550e18</td><td>1.6550e18</td><td>1</td><td>1</td><td>1</td></tr><tr><td>&quot;&#x27;c&#x27;&quot;</td><td>1.6550e18</td><td>1.6550e18</td><td>1</td><td>1</td><td>1</td></tr></tbody></table></div>"
      ],
      "text/plain": [
       "shape: (390, 6)\n",
       "┌───────────┬────────────┬──────────────┬─────────────┬────────────┬──────────┐\n",
       "│ key       ┆ press_time ┆ release_time ┆ platform_id ┆ session_id ┆ user_ids │\n",
       "│ ---       ┆ ---        ┆ ---          ┆ ---         ┆ ---        ┆ ---      │\n",
       "│ str       ┆ f64        ┆ f64          ┆ i64         ┆ i64        ┆ i64      │\n",
       "╞═══════════╪════════════╪══════════════╪═════════════╪════════════╪══════════╡\n",
       "│ Key.enter ┆ 1.6550e18  ┆ 1.6550e18    ┆ 1           ┆ 1          ┆ 1        │\n",
       "│ 'f'       ┆ 1.6550e18  ┆ 1.6550e18    ┆ 1           ┆ 1          ┆ 1        │\n",
       "│ 'p'       ┆ 1.6550e18  ┆ 1.6550e18    ┆ 1           ┆ 1          ┆ 1        │\n",
       "│ 'd'       ┆ 1.6550e18  ┆ 1.6550e18    ┆ 1           ┆ 1          ┆ 1        │\n",
       "│ '1'       ┆ 1.6550e18  ┆ 1.6550e18    ┆ 1           ┆ 1          ┆ 1        │\n",
       "│ …         ┆ …          ┆ …            ┆ …           ┆ …          ┆ …        │\n",
       "│ '.'       ┆ 1.6550e18  ┆ 1.6550e18    ┆ 1           ┆ 1          ┆ 1        │\n",
       "│ '.'       ┆ 1.6550e18  ┆ 1.6550e18    ┆ 1           ┆ 1          ┆ 1        │\n",
       "│ '.'       ┆ 1.6550e18  ┆ 1.6550e18    ┆ 1           ┆ 1          ┆ 1        │\n",
       "│ '.'       ┆ 1.6550e18  ┆ 1.6550e18    ┆ 1           ┆ 1          ┆ 1        │\n",
       "│ 'c'       ┆ 1.6550e18  ┆ 1.6550e18    ┆ 1           ┆ 1          ┆ 1        │\n",
       "└───────────┴────────────┴──────────────┴─────────────┴────────────┴──────────┘"
      ]
     },
     "execution_count": 33,
     "metadata": {},
     "output_type": "execute_result"
    }
   ],
   "source": [
    "df_clean_u"
   ]
  },
  {
   "cell_type": "code",
   "execution_count": 34,
   "id": "15ef70c0-a520-4617-a1dc-43ce41d28824",
   "metadata": {},
   "outputs": [
    {
     "data": {
      "text/html": [
       "<div><style>\n",
       ".dataframe > thead > tr,\n",
       ".dataframe > tbody > tr {\n",
       "  text-align: right;\n",
       "  white-space: pre-wrap;\n",
       "}\n",
       "</style>\n",
       "<small>shape: (10, 6)</small><table border=\"1\" class=\"dataframe\"><thead><tr><th>key</th><th>press_time</th><th>release_time</th><th>platform_id</th><th>session_id</th><th>user_ids</th></tr><tr><td>str</td><td>f64</td><td>f64</td><td>i64</td><td>i64</td><td>i64</td></tr></thead><tbody><tr><td>&quot;Key.shift_r&quot;</td><td>1.6550e18</td><td>1.6550e18</td><td>1</td><td>1</td><td>1</td></tr><tr><td>&quot;&#x27;C&#x27;&quot;</td><td>1.6550e18</td><td>1.6550e18</td><td>1</td><td>1</td><td>1</td></tr><tr><td>&quot;&#x27;o&#x27;&quot;</td><td>1.6550e18</td><td>1.6550e18</td><td>1</td><td>1</td><td>1</td></tr><tr><td>&quot;&#x27;a&#x27;&quot;</td><td>1.6550e18</td><td>1.6550e18</td><td>1</td><td>1</td><td>1</td></tr><tr><td>&quot;&#x27;c&#x27;&quot;</td><td>1.6550e18</td><td>1.6550e18</td><td>1</td><td>1</td><td>1</td></tr><tr><td>&quot;&#x27;h&#x27;&quot;</td><td>1.6550e18</td><td>1.6550e18</td><td>1</td><td>1</td><td>1</td></tr><tr><td>&quot;Key.space&quot;</td><td>1.6550e18</td><td>1.6550e18</td><td>1</td><td>1</td><td>1</td></tr><tr><td>&quot;Key.shift_r&quot;</td><td>1.6550e18</td><td>1.6550e18</td><td>1</td><td>1</td><td>1</td></tr><tr><td>&quot;&#x27;a&#x27;&quot;</td><td>1.6550e18</td><td>1.6550e18</td><td>1</td><td>1</td><td>1</td></tr><tr><td>&quot;&#x27;r&#x27;&quot;</td><td>1.6550e18</td><td>1.6550e18</td><td>1</td><td>1</td><td>1</td></tr></tbody></table></div>"
      ],
      "text/plain": [
       "shape: (10, 6)\n",
       "┌─────────────┬────────────┬──────────────┬─────────────┬────────────┬──────────┐\n",
       "│ key         ┆ press_time ┆ release_time ┆ platform_id ┆ session_id ┆ user_ids │\n",
       "│ ---         ┆ ---        ┆ ---          ┆ ---         ┆ ---        ┆ ---      │\n",
       "│ str         ┆ f64        ┆ f64          ┆ i64         ┆ i64        ┆ i64      │\n",
       "╞═════════════╪════════════╪══════════════╪═════════════╪════════════╪══════════╡\n",
       "│ Key.shift_r ┆ 1.6550e18  ┆ 1.6550e18    ┆ 1           ┆ 1          ┆ 1        │\n",
       "│ 'C'         ┆ 1.6550e18  ┆ 1.6550e18    ┆ 1           ┆ 1          ┆ 1        │\n",
       "│ 'o'         ┆ 1.6550e18  ┆ 1.6550e18    ┆ 1           ┆ 1          ┆ 1        │\n",
       "│ 'a'         ┆ 1.6550e18  ┆ 1.6550e18    ┆ 1           ┆ 1          ┆ 1        │\n",
       "│ 'c'         ┆ 1.6550e18  ┆ 1.6550e18    ┆ 1           ┆ 1          ┆ 1        │\n",
       "│ 'h'         ┆ 1.6550e18  ┆ 1.6550e18    ┆ 1           ┆ 1          ┆ 1        │\n",
       "│ Key.space   ┆ 1.6550e18  ┆ 1.6550e18    ┆ 1           ┆ 1          ┆ 1        │\n",
       "│ Key.shift_r ┆ 1.6550e18  ┆ 1.6550e18    ┆ 1           ┆ 1          ┆ 1        │\n",
       "│ 'a'         ┆ 1.6550e18  ┆ 1.6550e18    ┆ 1           ┆ 1          ┆ 1        │\n",
       "│ 'r'         ┆ 1.6550e18  ┆ 1.6550e18    ┆ 1           ┆ 1          ┆ 1        │\n",
       "└─────────────┴────────────┴──────────────┴─────────────┴────────────┴──────────┘"
      ]
     },
     "execution_count": 34,
     "metadata": {},
     "output_type": "execute_result"
    }
   ],
   "source": [
    "df_clean_u[60:70]"
   ]
  },
  {
   "cell_type": "code",
   "execution_count": 35,
   "id": "684839c6-7197-4816-9ff2-0f83c8805037",
   "metadata": {},
   "outputs": [
    {
     "data": {
      "text/html": [
       "<div><style>\n",
       ".dataframe > thead > tr,\n",
       ".dataframe > tbody > tr {\n",
       "  text-align: right;\n",
       "  white-space: pre-wrap;\n",
       "}\n",
       "</style>\n",
       "<small>shape: (2_219, 19)</small><table border=\"1\" class=\"dataframe\"><thead><tr><th>user_id</th><th>platform_id</th><th>video_id</th><th>session_id</th><th>sequence_id</th><th>key1</th><th>key2</th><th>key1_press</th><th>key1_release</th><th>key2_press</th><th>key2_release</th><th>HL</th><th>IL</th><th>PL</th><th>RL</th><th>key1_timestamp</th><th>valid</th><th>error_description</th><th>outlier</th></tr><tr><td>i64</td><td>i64</td><td>i64</td><td>i64</td><td>i64</td><td>str</td><td>str</td><td>f64</td><td>f64</td><td>f64</td><td>f64</td><td>f64</td><td>f64</td><td>f64</td><td>f64</td><td>f64</td><td>bool</td><td>str</td><td>bool</td></tr></thead><tbody><tr><td>1001</td><td>1</td><td>2</td><td>1</td><td>0</td><td>&quot;w&quot;</td><td>&quot;h&quot;</td><td>1.6553e18</td><td>1.6553e18</td><td>1.6553e18</td><td>1.6553e18</td><td>8.7213056e7</td><td>4.8086016e7</td><td>1.35299072e8</td><td>1.44029952e8</td><td>1.6553e18</td><td>true</td><td>&quot;No error&quot;</td><td>false</td></tr><tr><td>1001</td><td>1</td><td>2</td><td>1</td><td>1</td><td>&quot;h&quot;</td><td>&quot;a&quot;</td><td>1.6553e18</td><td>1.6553e18</td><td>1.6553e18</td><td>1.6553e18</td><td>9.5943936e7</td><td>3.2013056e7</td><td>1.27956992e8</td><td>1.0409216e8</td><td>1.6553e18</td><td>true</td><td>&quot;No error&quot;</td><td>false</td></tr><tr><td>1001</td><td>1</td><td>2</td><td>1</td><td>2</td><td>&quot;a&quot;</td><td>&quot;t&quot;</td><td>1.6553e18</td><td>1.6553e18</td><td>1.6553e18</td><td>1.6553e18</td><td>7.2079104e7</td><td>1.27891968e8</td><td>1.99971072e8</td><td>2.15891968e8</td><td>1.6553e18</td><td>true</td><td>&quot;No error&quot;</td><td>false</td></tr><tr><td>1001</td><td>1</td><td>2</td><td>1</td><td>3</td><td>&quot;t&quot;</td><td>&quot;&quot;&quot;&quot;</td><td>1.6553e18</td><td>1.6553e18</td><td>1.6553e18</td><td>1.6553e18</td><td>8.8e7</td><td>2.3542016e7</td><td>1.11542016e8</td><td>8.8492032e7</td><td>1.6553e18</td><td>true</td><td>&quot;No error&quot;</td><td>false</td></tr><tr><td>1001</td><td>1</td><td>2</td><td>1</td><td>4</td><td>&quot;&quot;&quot;&quot;</td><td>&quot;s&quot;</td><td>1.6553e18</td><td>1.6553e18</td><td>1.6553e18</td><td>1.6553e18</td><td>6.4950016e7</td><td>8.1947904e7</td><td>1.4689792e8</td><td>1.5954304e8</td><td>1.6553e18</td><td>true</td><td>&quot;No error&quot;</td><td>false</td></tr><tr><td>&hellip;</td><td>&hellip;</td><td>&hellip;</td><td>&hellip;</td><td>&hellip;</td><td>&hellip;</td><td>&hellip;</td><td>&hellip;</td><td>&hellip;</td><td>&hellip;</td><td>&hellip;</td><td>&hellip;</td><td>&hellip;</td><td>&hellip;</td><td>&hellip;</td><td>&hellip;</td><td>&hellip;</td><td>&hellip;</td><td>&hellip;</td></tr><tr><td>1001</td><td>1</td><td>3</td><td>1</td><td>819</td><td>&quot;u&quot;</td><td>&quot;e&quot;</td><td>1.6553e18</td><td>1.6553e18</td><td>1.6553e18</td><td>1.6553e18</td><td>9.5265792e7</td><td>3.2049152e7</td><td>1.27314944e8</td><td>1.44036096e8</td><td>1.6553e18</td><td>true</td><td>&quot;No error&quot;</td><td>false</td></tr><tr><td>1001</td><td>1</td><td>3</td><td>1</td><td>820</td><td>&quot;e&quot;</td><td>&quot;Key.shift&quot;</td><td>1.6553e18</td><td>1.6553e18</td><td>1.6553e18</td><td>1.6553e18</td><td>1.11986944e8</td><td>1.44852992e8</td><td>2.56839936e8</td><td>4.24879872e8</td><td>1.6553e18</td><td>true</td><td>&quot;No error&quot;</td><td>false</td></tr><tr><td>1001</td><td>1</td><td>3</td><td>1</td><td>821</td><td>&quot;Key.shift&quot;</td><td>&quot;!&quot;</td><td>1.6553e18</td><td>1.6553e18</td><td>1.6553e18</td><td>1.6553e18</td><td>2.8002688e8</td><td>-1.4418e8</td><td>1.35851008e8</td><td>-4.8167936e7</td><td>1.6553e18</td><td>true</td><td>&quot;No error&quot;</td><td>true</td></tr><tr><td>1001</td><td>1</td><td>3</td><td>1</td><td>822</td><td>&quot;!&quot;</td><td>&quot;Key.ctrl&quot;</td><td>1.6553e18</td><td>1.6553e18</td><td>1.6553e18</td><td>null</td><td>9.6007936e7</td><td>null</td><td>null</td><td>null</td><td>1.6553e18</td><td>false</td><td>&quot;Missing key2 release&quot;</td><td>false</td></tr><tr><td>1001</td><td>1</td><td>3</td><td>1</td><td>823</td><td>&quot;Key.ctrl&quot;</td><td>&quot;c&quot;</td><td>1.6553e18</td><td>null</td><td>1.6553e18</td><td>null</td><td>null</td><td>null</td><td>null</td><td>null</td><td>1.6553e18</td><td>false</td><td>&quot;Missing key2 release&quot;</td><td>false</td></tr></tbody></table></div>"
      ],
      "text/plain": [
       "shape: (2_219, 19)\n",
       "┌─────────┬─────────────┬──────────┬────────────┬───┬──────────────┬───────┬─────────────┬─────────┐\n",
       "│ user_id ┆ platform_id ┆ video_id ┆ session_id ┆ … ┆ key1_timesta ┆ valid ┆ error_descr ┆ outlier │\n",
       "│ ---     ┆ ---         ┆ ---      ┆ ---        ┆   ┆ mp           ┆ ---   ┆ iption      ┆ ---     │\n",
       "│ i64     ┆ i64         ┆ i64      ┆ i64        ┆   ┆ ---          ┆ bool  ┆ ---         ┆ bool    │\n",
       "│         ┆             ┆          ┆            ┆   ┆ f64          ┆       ┆ str         ┆         │\n",
       "╞═════════╪═════════════╪══════════╪════════════╪═══╪══════════════╪═══════╪═════════════╪═════════╡\n",
       "│ 1001    ┆ 1           ┆ 2        ┆ 1          ┆ … ┆ 1.6553e18    ┆ true  ┆ No error    ┆ false   │\n",
       "│ 1001    ┆ 1           ┆ 2        ┆ 1          ┆ … ┆ 1.6553e18    ┆ true  ┆ No error    ┆ false   │\n",
       "│ 1001    ┆ 1           ┆ 2        ┆ 1          ┆ … ┆ 1.6553e18    ┆ true  ┆ No error    ┆ false   │\n",
       "│ 1001    ┆ 1           ┆ 2        ┆ 1          ┆ … ┆ 1.6553e18    ┆ true  ┆ No error    ┆ false   │\n",
       "│ 1001    ┆ 1           ┆ 2        ┆ 1          ┆ … ┆ 1.6553e18    ┆ true  ┆ No error    ┆ false   │\n",
       "│ …       ┆ …           ┆ …        ┆ …          ┆ … ┆ …            ┆ …     ┆ …           ┆ …       │\n",
       "│ 1001    ┆ 1           ┆ 3        ┆ 1          ┆ … ┆ 1.6553e18    ┆ true  ┆ No error    ┆ false   │\n",
       "│ 1001    ┆ 1           ┆ 3        ┆ 1          ┆ … ┆ 1.6553e18    ┆ true  ┆ No error    ┆ false   │\n",
       "│ 1001    ┆ 1           ┆ 3        ┆ 1          ┆ … ┆ 1.6553e18    ┆ true  ┆ No error    ┆ true    │\n",
       "│ 1001    ┆ 1           ┆ 3        ┆ 1          ┆ … ┆ 1.6553e18    ┆ false ┆ Missing     ┆ false   │\n",
       "│         ┆             ┆          ┆            ┆   ┆              ┆       ┆ key2        ┆         │\n",
       "│         ┆             ┆          ┆            ┆   ┆              ┆       ┆ release     ┆         │\n",
       "│ 1001    ┆ 1           ┆ 3        ┆ 1          ┆ … ┆ 1.6553e18    ┆ false ┆ Missing     ┆ false   │\n",
       "│         ┆             ┆          ┆            ┆   ┆              ┆       ┆ key2        ┆         │\n",
       "│         ┆             ┆          ┆            ┆   ┆              ┆       ┆ release     ┆         │\n",
       "└─────────┴─────────────┴──────────┴────────────┴───┴──────────────┴───────┴─────────────┴─────────┘"
      ]
     },
     "execution_count": 35,
     "metadata": {},
     "output_type": "execute_result"
    }
   ],
   "source": [
    "df_type_u"
   ]
  },
  {
   "cell_type": "code",
   "execution_count": 14,
   "id": "9d618b6f-77be-4be7-b8dc-95319d4f2096",
   "metadata": {},
   "outputs": [
    {
     "data": {
      "text/plain": [
       "1.65532435444703e+18"
      ]
     },
     "execution_count": 14,
     "metadata": {},
     "output_type": "execute_result"
    }
   ],
   "source": [
    "df_type_u['key1_press'][0]"
   ]
  },
  {
   "cell_type": "markdown",
   "id": "538230dd-2178-47c0-87cf-6ac98e6ba665",
   "metadata": {},
   "source": [
    "# Look at sessions in old dataset"
   ]
  },
  {
   "cell_type": "code",
   "execution_count": 37,
   "id": "e6924ed7-2e94-41d9-8a53-eca8b5580115",
   "metadata": {},
   "outputs": [
    {
     "data": {
      "text/html": [
       "<div><style>\n",
       ".dataframe > thead > tr,\n",
       ".dataframe > tbody > tr {\n",
       "  text-align: right;\n",
       "  white-space: pre-wrap;\n",
       "}\n",
       "</style>\n",
       "<small>shape: (7, 2)</small><table border=\"1\" class=\"dataframe\"><thead><tr><th>session_id</th><th>len</th></tr><tr><td>i64</td><td>u32</td></tr></thead><tbody><tr><td>1</td><td>29533</td></tr><tr><td>2</td><td>23764</td></tr><tr><td>3</td><td>23796</td></tr><tr><td>4</td><td>21435</td></tr><tr><td>5</td><td>21700</td></tr><tr><td>6</td><td>20753</td></tr><tr><td>7</td><td>310</td></tr></tbody></table></div>"
      ],
      "text/plain": [
       "shape: (7, 2)\n",
       "┌────────────┬───────┐\n",
       "│ session_id ┆ len   │\n",
       "│ ---        ┆ ---   │\n",
       "│ i64        ┆ u32   │\n",
       "╞════════════╪═══════╡\n",
       "│ 1          ┆ 29533 │\n",
       "│ 2          ┆ 23764 │\n",
       "│ 3          ┆ 23796 │\n",
       "│ 4          ┆ 21435 │\n",
       "│ 5          ┆ 21700 │\n",
       "│ 6          ┆ 20753 │\n",
       "│ 7          ┆ 310   │\n",
       "└────────────┴───────┘"
      ]
     },
     "execution_count": 37,
     "metadata": {},
     "output_type": "execute_result"
    }
   ],
   "source": [
    "df_clean.group_by(\"session_id\").len().sort(by=\"session_id\")"
   ]
  },
  {
   "cell_type": "code",
   "execution_count": null,
   "id": "ce7ecdd8-58ea-4ec9-a653-c2272dec1cf1",
   "metadata": {},
   "outputs": [],
   "source": []
  }
 ],
 "metadata": {
  "kernelspec": {
   "display_name": "eda (Py 3.12.5)",
   "language": "python",
   "name": "eda_py3.12"
  },
  "language_info": {
   "codemirror_mode": {
    "name": "ipython",
    "version": 3
   },
   "file_extension": ".py",
   "mimetype": "text/x-python",
   "name": "python",
   "nbconvert_exporter": "python",
   "pygments_lexer": "ipython3",
   "version": "3.12.10"
  }
 },
 "nbformat": 4,
 "nbformat_minor": 5
}
